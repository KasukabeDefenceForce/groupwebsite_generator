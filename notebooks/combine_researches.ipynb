{
 "cells": [
  {
   "cell_type": "code",
   "execution_count": null,
   "metadata": {},
   "outputs": [],
   "source": [
    "# change the working directory to the desired location\n",
    "#import os\n",
    "#os.chdir(\"/Users/harshul/website clone/harshul/test/groupwebsite_generator\")\n",
    "#os.getcwd()"
   ]
  },
  {
   "cell_type": "code",
   "execution_count": 15,
   "metadata": {},
   "outputs": [],
   "source": [
    "import os\n",
    "import json\n",
    "\n",
    "# Read the JSON file that lists the research categories\n",
    "with open(\"../group-data/groupwebsite_data/research_categories.json\") as f:\n",
    "    research_categories = json.load(f)[\"research_categories\"]\n",
    "\n",
    "# Loop through each research category\n",
    "for category_path in research_categories:\n",
    "    # Prepend the base directory path to the category path\n",
    "    category_path = os.path.join(\"..\", \"group-data\", \"groupwebsite_data\", category_path)\n",
    "\n",
    "    # Initialize an empty list to hold the data from each JSON file in the category\n",
    "    category_data = []\n",
    "\n",
    "    # Loop through each file in the category directory\n",
    "    for filename in os.listdir(category_path):\n",
    "        # Check if the file is a JSON file\n",
    "        if filename.endswith(\".json\"):\n",
    "            # Open the file and load its contents as JSON\n",
    "            with open(os.path.join(category_path, filename)) as f:\n",
    "                json_data = json.load(f)\n",
    "            # Append the JSON data to the category list\n",
    "            category_data.append(json_data)\n",
    "    # Write the combined data to a new JSON file for this category\n",
    "    category_name = os.path.basename(category_path)\n",
    "    with open(f\"../group-data/groupwebsite_data/research/sub_research_data/combined/{category_name}.json\", \"w\") as f:\n",
    "        json.dump(category_data, f, indent=4)\n"
   ]
  }
 ],
 "metadata": {
  "kernelspec": {
   "display_name": "Python 3",
   "language": "python",
   "name": "python3"
  },
  "language_info": {
   "codemirror_mode": {
    "name": "ipython",
    "version": 3
   },
   "file_extension": ".py",
   "mimetype": "text/x-python",
   "name": "python",
   "nbconvert_exporter": "python",
   "pygments_lexer": "ipython3",
   "version": "3.8.2"
  },
  "vscode": {
   "interpreter": {
    "hash": "31f2aee4e71d21fbe5cf8b01ff0e069b9275f58929596ceb00d14d90e3e16cd6"
   }
  }
 },
 "nbformat": 4,
 "nbformat_minor": 2
}
