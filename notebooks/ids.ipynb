{
 "cells": [
  {
   "cell_type": "code",
   "execution_count": 1,
   "metadata": {},
   "outputs": [
    {
     "data": {
      "text/plain": [
       "'/Users/harshul/website clone/harshul/test/groupwebsite_generator'"
      ]
     },
     "execution_count": 1,
     "metadata": {},
     "output_type": "execute_result"
    }
   ],
   "source": [
    "# change the working directory to the desired location\n",
    "import os\n",
    "os.chdir(\"/Users/harshul/website clone/harshul/test/groupwebsite_generator\")\n",
    "os.getcwd()"
   ]
  },
  {
   "cell_type": "code",
   "execution_count": 2,
   "metadata": {},
   "outputs": [],
   "source": [
    "import json\n",
    "\n",
    "data = {\n",
    "    \"people\": [],\n",
    "    \"people_directories\": []\n",
    "}\n",
    "\n",
    "with open(\"../group-data/groupwebsite_data/ids.json\", \"r\") as file:\n",
    "    people_ids = json.load(file)[\"people_ids\"]\n",
    "\n",
    "for person_id in people_ids:\n",
    "    person_json = f\"members/{person_id}/{person_id}.json\"\n",
    "    data[\"people\"].append(person_json)\n",
    "\n",
    "    person_directory = f\"members/{person_id}/jsons\"\n",
    "    data[\"people_directories\"].append(person_directory)\n",
    "\n",
    "with open(\"../group-data/groupwebsite_data/people_list.json\", \"w\") as file:\n",
    "    json.dump(data, file, indent=2)\n"
   ]
  }
 ],
 "metadata": {
  "kernelspec": {
   "display_name": "Python 3",
   "language": "python",
   "name": "python3"
  },
  "language_info": {
   "codemirror_mode": {
    "name": "ipython",
    "version": 3
   },
   "file_extension": ".py",
   "mimetype": "text/x-python",
   "name": "python",
   "nbconvert_exporter": "python",
   "pygments_lexer": "ipython3",
   "version": "3.8.2"
  },
  "orig_nbformat": 4
 },
 "nbformat": 4,
 "nbformat_minor": 2
}
