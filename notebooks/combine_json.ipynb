{
 "cells": [
  {
   "cell_type": "code",
   "execution_count": 1,
   "metadata": {},
   "outputs": [
    {
     "data": {
      "text/plain": [
       "'/Users/harshul/website clone/harshul/test/groupwebsite_generator'"
      ]
     },
     "execution_count": 1,
     "metadata": {},
     "output_type": "execute_result"
    }
   ],
   "source": [
    "# change the working directory to the desired location\n",
    "#import os\n",
    "#os.chdir(\"/Users/harshul/website clone/harshul/test/groupwebsite_generator\")\n",
    "#os.getcwd()"
   ]
  },
  {
   "cell_type": "code",
   "execution_count": 2,
   "metadata": {},
   "outputs": [
    {
     "data": {
      "text/plain": [
       "\"\\n# Combining all Jsons\\nimport json\\nimport os\\n\\n# Load the list of JSON files from main.json\\nwith open('../group-data/groupwebsite_data/main.json') as f:\\n    file_list = json.load(f)\\n\\n# Get the directory of main.json\\ndir_path = os.path.dirname('../group-data/groupwebsite_data')\\n\\n# Initialize an empty list to hold the data\\npeople = []\\n\\n# Loop through each file in the list\\nfor file_name in file_list['people']:\\n    # Construct the full path to the JSON file\\n    json_path = os.path.join(dir_path, file_name)\\n    with open(json_path) as f:\\n        # Load the data from the file\\n        data = json.load(f)\\n        # Append the data to the people list\\n        people.extend(data)\\n\\n# Write the combined data to a new JSON file\\nwith open('../group-data/members/common/people.json', 'w') as f:\\n  json.dump(people, f, indent=4)\\n\""
      ]
     },
     "execution_count": 2,
     "metadata": {},
     "output_type": "execute_result"
    }
   ],
   "source": [
    "\"\"\"\n",
    "# Combining all Jsons\n",
    "import json\n",
    "import os\n",
    "\n",
    "# Load the list of JSON files from main.json\n",
    "with open('../group-data/groupwebsite_data/main.json') as f:\n",
    "    file_list = json.load(f)\n",
    "\n",
    "# Get the directory of main.json\n",
    "dir_path = os.path.dirname('../group-data/groupwebsite_data')\n",
    "\n",
    "# Initialize an empty list to hold the data\n",
    "people = []\n",
    "\n",
    "# Loop through each file in the list\n",
    "for file_name in file_list['people']:\n",
    "    # Construct the full path to the JSON file\n",
    "    json_path = os.path.join(dir_path, file_name)\n",
    "    with open(json_path) as f:\n",
    "        # Load the data from the file\n",
    "        data = json.load(f)\n",
    "        # Append the data to the people list\n",
    "        people.extend(data)\n",
    "\n",
    "# Write the combined data to a new JSON file\n",
    "with open('../group-data/members/common/people.json', 'w') as f:\n",
    "  json.dump(people, f, indent=4)\n",
    "\"\"\""
   ]
  },
  {
   "cell_type": "code",
   "execution_count": 3,
   "metadata": {},
   "outputs": [],
   "source": [
    "import json\n",
    "import os\n",
    "\n",
    "# Load the list of JSON files \n",
    "with open('../group-data/groupwebsite_data/people_list.json') as f:\n",
    "    file_list = json.load(f)\n",
    "\n",
    "# Get the directory of main.json\n",
    "dir_path = os.path.dirname('../group-data/groupwebsite_data')\n"
   ]
  },
  {
   "cell_type": "code",
   "execution_count": 4,
   "metadata": {},
   "outputs": [],
   "source": [
    "# Principal Investigator\n",
    "# Initialize an empty list to hold the data\n",
    "people = []\n",
    "\n",
    "# Add \"head_title\": \"Graduates\" section at the beginning of the combined data\n",
    "people.append({\"head_title\": \"Principal Investigator\"})\n",
    "\n",
    "# Loop through each file in the list\n",
    "for file_name in file_list['people']:\n",
    "    # Construct the full path to the JSON file\n",
    "    json_path = os.path.join(dir_path, file_name)\n",
    "    with open(json_path) as f:\n",
    "        # Load the data from the file\n",
    "        data = json.load(f)\n",
    "        # Check if the data has a \"Graduates\" section\n",
    "        if any(\"head_title\" in item and item[\"head_title\"] == \"Principal Investigator\" for item in data):\n",
    "            # Append the data to the people list, skipping the \"head_title\": \"Graduates\" section if present\n",
    "            people.extend([item for item in data if not (\"head_title\" in item and item[\"head_title\"] == \"Principal Investigator\")])\n",
    "\n",
    "# Write the combined data to a new JSON file\n",
    "with open('../group-data/members/common/investigator.json', 'w') as f:\n",
    "    json.dump(people, f, indent=4)\n"
   ]
  },
  {
   "cell_type": "code",
   "execution_count": 5,
   "metadata": {},
   "outputs": [],
   "source": [
    "#Graduates\n",
    "# Initialize an empty list to hold the data\n",
    "people = []\n",
    "\n",
    "# Add \"head_title\": \"Graduates\" section at the beginning of the combined data\n",
    "people.append({\"head_title\": \"Graduates\"})\n",
    "\n",
    "# Loop through each file in the list\n",
    "for file_name in file_list['people']:\n",
    "    # Construct the full path to the JSON file\n",
    "    json_path = os.path.join(dir_path, file_name)\n",
    "    with open(json_path) as f:\n",
    "        # Load the data from the file\n",
    "        data = json.load(f)\n",
    "        # Check if the data has a \"Graduates\" section\n",
    "        if any(\"head_title\" in item and item[\"head_title\"] == \"Graduates\" for item in data):\n",
    "            # Append the data to the people list, skipping the \"head_title\": \"Graduates\" section if present\n",
    "            people.extend([item for item in data if not (\"head_title\" in item and item[\"head_title\"] == \"Graduates\")])\n",
    "\n",
    "# Write the combined data to a new JSON file\n",
    "with open('../group-data/members/common/grad_students.json', 'w') as f:\n",
    "    json.dump(people, f, indent=4)\n"
   ]
  },
  {
   "cell_type": "code",
   "execution_count": 6,
   "metadata": {},
   "outputs": [],
   "source": [
    "#Post Doctorates\n",
    "# Initialize an empty list to hold the data\n",
    "people = []\n",
    "\n",
    "# Add \"head_title\": \"Graduates\" section at the beginning of the combined data\n",
    "people.append({\"head_title\": \"Post Doctorates\"})\n",
    "\n",
    "# Loop through each file in the list\n",
    "for file_name in file_list['people']:\n",
    "    # Construct the full path to the JSON file\n",
    "    json_path = os.path.join(dir_path, file_name)\n",
    "    with open(json_path) as f:\n",
    "        # Load the data from the file\n",
    "        data = json.load(f)\n",
    "        # Check if the data has a \"Graduates\" section\n",
    "        if any(\"head_title\" in item and item[\"head_title\"] == \"Post Doctorates\" for item in data):\n",
    "            # Append the data to the people list, skipping the \"head_title\": \"Graduates\" section if present\n",
    "            people.extend([item for item in data if not (\"head_title\" in item and item[\"head_title\"] == \"Post Doctorates\")])\n",
    "\n",
    "# Write the combined data to a new JSON file\n",
    "with open('../group-data/members/common/post_docs.json', 'w') as f:\n",
    "    json.dump(people, f, indent=4)\n"
   ]
  },
  {
   "cell_type": "code",
   "execution_count": 7,
   "metadata": {},
   "outputs": [],
   "source": [
    "# Initialize an empty list to hold the data\n",
    "people = []\n",
    "\n",
    "# Add \"head_title\": \"Graduates\" section at the beginning of the combined data\n",
    "people.append({\"head_title\": \"Undergraduates\"})\n",
    "\n",
    "# Loop through each file in the list\n",
    "for file_name in file_list['people']:\n",
    "    # Construct the full path to the JSON file\n",
    "    json_path = os.path.join(dir_path, file_name)\n",
    "    with open(json_path) as f:\n",
    "        # Load the data from the file\n",
    "        data = json.load(f)\n",
    "        # Check if the data has a \"Graduates\" section\n",
    "        if any(\"head_title\" in item and item[\"head_title\"] == \"Undergraduates\" for item in data):\n",
    "            # Append the data to the people list, skipping the \"head_title\": \"Graduates\" section if present\n",
    "            people.extend([item for item in data if not (\"head_title\" in item and item[\"head_title\"] == \"Undergraduates\")])\n",
    "\n",
    "# Write the combined data to a new JSON file\n",
    "with open('../group-data/members/common/undergrads.json', 'w') as f:\n",
    "    json.dump(people, f, indent=4)\n"
   ]
  }
 ],
 "metadata": {
  "kernelspec": {
   "display_name": "Python 3",
   "language": "python",
   "name": "python3"
  },
  "language_info": {
   "codemirror_mode": {
    "name": "ipython",
    "version": 3
   },
   "file_extension": ".py",
   "mimetype": "text/x-python",
   "name": "python",
   "nbconvert_exporter": "python",
   "pygments_lexer": "ipython3",
   "version": "3.8.2"
  },
  "vscode": {
   "interpreter": {
    "hash": "31f2aee4e71d21fbe5cf8b01ff0e069b9275f58929596ceb00d14d90e3e16cd6"
   }
  }
 },
 "nbformat": 4,
 "nbformat_minor": 2
}
