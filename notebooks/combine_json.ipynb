{
 "cells": [
  {
   "cell_type": "code",
   "execution_count": 1,
   "metadata": {},
   "outputs": [
    {
     "data": {
      "text/plain": [
       "'/Users/harshul/website clone/harshul/groupwebsite_generator'"
      ]
     },
     "execution_count": 1,
     "metadata": {},
     "output_type": "execute_result"
    }
   ],
   "source": [
    "# change the working directory to the desired location\n",
    "#import os\n",
    "#os.chdir(\"/Users/harshul/website clone/harshul/groupwebsite_generator\")\n",
    "#os.getcwd()"
   ]
  },
  {
   "cell_type": "code",
   "execution_count": 2,
   "metadata": {},
   "outputs": [],
   "source": [
    "# Combining all Jsons\n",
    "import json\n",
    "import os\n",
    "\n",
    "# Load the list of JSON files from main.json\n",
    "with open('../group-data/people/people_data/main.json') as f:\n",
    "    file_list = json.load(f)\n",
    "\n",
    "# Get the directory of main.json\n",
    "dir_path = os.path.dirname('../group-data/people/people_data/main.json')\n",
    "\n",
    "# Initialize an empty list to hold the data\n",
    "people = []\n",
    "\n",
    "# Loop through each file in the list\n",
    "for file_name in file_list['people']:\n",
    "    # Construct the full path to the JSON file\n",
    "    json_path = os.path.join(dir_path, file_name)\n",
    "    with open(json_path) as f:\n",
    "        # Load the data from the file\n",
    "        data = json.load(f)\n",
    "        # Append the data to the people list\n",
    "        people.extend(data)\n",
    "\n",
    "# Write the combined data to a new JSON file\n",
    "with open('../group-data/people/people_data/people.json', 'w') as f:\n",
    "  json.dump(people, f, indent=4)\n"
   ]
  },
  {
   "cell_type": "code",
   "execution_count": 3,
   "metadata": {},
   "outputs": [],
   "source": [
    "#combining from same ccategory\n",
    "import json\n",
    "import os\n",
    "\n",
    "# Load the list of JSON files from main.json\n",
    "with open('../group-data/people/people_data/main.json') as f:\n",
    "    file_list = json.load(f)\n",
    "\n",
    "# Get the directory of main.json\n",
    "dir_path = os.path.dirname('../group-data/people/people_data/main.json')\n",
    "\n",
    "# Initialize an empty list to hold the data\n",
    "people = []\n",
    "\n",
    "# Loop through each file in the list\n",
    "for file_name in file_list['people']:\n",
    "    # Construct the full path to the JSON file\n",
    "    json_path = os.path.join(dir_path, file_name)\n",
    "    with open(json_path) as f:\n",
    "        # Load the data from the file\n",
    "        data = json.load(f)\n",
    "        # Check if the category is \"Principal\"\n",
    "        if len(data) > 0 and data[0].get(\"category\") == \"Principal\":\n",
    "            # Append the data to the people list\n",
    "            people.extend(data)\n",
    "\n",
    "# Write the combined data to a new JSON file\n",
    "with open('../group-data/people/people_data/principal.json', 'w') as f:\n",
    "    json.dump(people, f, indent=4)\n"
   ]
  }
 ],
 "metadata": {
  "kernelspec": {
   "display_name": "Python 3",
   "language": "python",
   "name": "python3"
  },
  "language_info": {
   "codemirror_mode": {
    "name": "ipython",
    "version": 3
   },
   "file_extension": ".py",
   "mimetype": "text/x-python",
   "name": "python",
   "nbconvert_exporter": "python",
   "pygments_lexer": "ipython3",
   "version": "3.8.2"
  },
  "vscode": {
   "interpreter": {
    "hash": "31f2aee4e71d21fbe5cf8b01ff0e069b9275f58929596ceb00d14d90e3e16cd6"
   }
  }
 },
 "nbformat": 4,
 "nbformat_minor": 2
}
