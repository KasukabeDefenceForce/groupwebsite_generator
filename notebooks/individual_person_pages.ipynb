{
 "cells": [
  {
   "cell_type": "code",
   "execution_count": null,
   "metadata": {},
   "outputs": [],
   "source": [
    "# change the working directory to the desired location\n",
    "#import os\n",
    "#os.chdir(\"/Users/harshul/website clone/harshul/test/groupwebsite_generator\")\n",
    "#os.getcwd()"
   ]
  },
  {
   "cell_type": "code",
   "execution_count": null,
   "metadata": {},
   "outputs": [],
   "source": [
    "from jinja2 import Environment, FileSystemLoader\n",
    "import json"
   ]
  },
  {
   "cell_type": "code",
   "execution_count": null,
   "metadata": {},
   "outputs": [],
   "source": [
    "def page_link(a):\n",
    "    if ' ' in a:\n",
    "        return a.replace(\" \", \"_\")\n",
    "    else: \n",
    "        return a"
   ]
  },
  {
   "cell_type": "code",
   "execution_count": null,
   "metadata": {},
   "outputs": [],
   "source": [
    "environment = Environment(loader=FileSystemLoader(\"templates/\"))\n",
    "environment.globals['page_link'] = page_link\n",
    "template = environment.get_template(\"individual_person.html.j2\")"
   ]
  },
  {
   "cell_type": "code",
   "execution_count": null,
   "metadata": {},
   "outputs": [],
   "source": [
    "json_files = [\"general\", \"faculty\", \"post_docs\", \"grads\", \"undergrads\",\"research_engineers\", \"researchers\"]\n",
    "data = {}\n",
    "\n",
    "for json_file in json_files:\n",
    "    try:\n",
    "        if json_file == \"general\":\n",
    "            with open(\"../group-data/groupwebsite_data/general.json\") as json_var:\n",
    "                data[json_file] = json.load(json_var)\n",
    "        else:\n",
    "            with open(f\"../group-data/members/common/{json_file}.json\") as json_var:\n",
    "                data[json_file] = json.load(json_var)\n",
    "    except (FileNotFoundError, json.JSONDecodeError):\n",
    "        pass\n"
   ]
  },
  {
   "cell_type": "code",
   "execution_count": null,
   "metadata": {},
   "outputs": [],
   "source": [
    "required_keys = [\"faculty\", \"post_docs\", \"grads\", \"undergrads\",\"research_engineers\", \"researchers\"]\n",
    "if all(key in data for key in required_keys):\n",
    "    for category in [data[\"faculty\"], data[\"post_docs\"], data[\"grads\"], data[\"undergrads\"], data[\"research_engineers\"], data[\"researchers\"]]:\n",
    "        for person in category[0:]:\n",
    "            filename = f\"../kerzendorf-group.github.io/members/{ page_link(person['your_directory_name'])}/{ page_link(person['your_directory_name'])}.html\"\n",
    "            content = template.render(general=data['general'], person=person)\n",
    "            with open(filename, mode=\"w\", encoding=\"utf-8\") as page:\n",
    "                page.write(content)\n",
    "else:\n",
    "    missing_key = next(key for key in required_keys if key not in data)\n",
    "    print(f\"Error: {missing_key} not found in data dictionary.\")\n"
   ]
  },
  {
   "cell_type": "code",
   "execution_count": null,
   "metadata": {},
   "outputs": [],
   "source": [
    "\"\"\"\n",
    "for role in [data[\"faculty\"], data[\"post_docs\"], data[\"grads\"], data[\"undergrads\"], data[\"post_grads\"]]:\n",
    "    for person in role[0:]:\n",
    "        filename = f\"../kerzendorf-group.github.io/members/{ page_link(person['your_directory_name'])}/{ page_link(person['your_directory_name'])}.html\"\n",
    "        content = template.render(general=data['general'], person=person)\n",
    "        with open(filename, mode=\"w\", encoding=\"utf-8\") as page:\n",
    "            page.write(content)\n",
    "            \"\"\""
   ]
  },
  {
   "cell_type": "code",
   "execution_count": null,
   "metadata": {},
   "outputs": [],
   "source": [
    "with open(filename, mode=\"w\", encoding=\"utf-8\") as page:\n",
    "    page.write(content)"
   ]
  }
 ],
 "metadata": {
  "kernelspec": {
   "display_name": "Python 3",
   "language": "python",
   "name": "python3"
  },
  "language_info": {
   "codemirror_mode": {
    "name": "ipython",
    "version": 3
   },
   "file_extension": ".py",
   "mimetype": "text/x-python",
   "name": "python",
   "nbconvert_exporter": "python",
   "pygments_lexer": "ipython3",
   "version": "3.8.2"
  },
  "vscode": {
   "interpreter": {
    "hash": "31f2aee4e71d21fbe5cf8b01ff0e069b9275f58929596ceb00d14d90e3e16cd6"
   }
  }
 },
 "nbformat": 4,
 "nbformat_minor": 2
}
