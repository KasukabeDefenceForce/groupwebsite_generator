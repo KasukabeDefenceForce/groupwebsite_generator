{
 "cells": [
  {
   "cell_type": "code",
   "execution_count": 186,
   "metadata": {},
   "outputs": [
    {
     "data": {
      "text/plain": [
       "'/Users/harshul/website clone/harshul/test/groupwebsite_generator'"
      ]
     },
     "execution_count": 186,
     "metadata": {},
     "output_type": "execute_result"
    }
   ],
   "source": [
    "# change the working directory to the desired location\n",
    "#import os\n",
    "#os.chdir(\"/Users/harshul/website clone/harshul/test/groupwebsite_generator\")\n",
    "#os.getcwd()"
   ]
  },
  {
   "cell_type": "code",
   "execution_count": 187,
   "metadata": {},
   "outputs": [],
   "source": [
    "from jinja2 import Environment, FileSystemLoader\n",
    "import json"
   ]
  },
  {
   "cell_type": "code",
   "execution_count": 188,
   "metadata": {},
   "outputs": [],
   "source": [
    "def page_link(a):\n",
    "    if ' ' in a:\n",
    "        return a.replace(\" \", \"_\")\n",
    "    else: \n",
    "        return a"
   ]
  },
  {
   "cell_type": "code",
   "execution_count": 189,
   "metadata": {},
   "outputs": [],
   "source": [
    "environment = Environment(loader=FileSystemLoader(\"templates/\"))\n",
    "environment.globals['page_link'] = page_link"
   ]
  },
  {
   "cell_type": "code",
   "execution_count": 190,
   "metadata": {},
   "outputs": [],
   "source": [
    "template = environment.get_template(\"research.html.j2\")\n",
    "template_sub_research_frontpage= environment.get_template(\"sub_research_frontpage.html.j2\")\n"
   ]
  },
  {
   "cell_type": "code",
   "execution_count": 191,
   "metadata": {},
   "outputs": [],
   "source": [
    "json_files = [\"general\", \"astrophysical_transients\", \"computational_metascience\"]\n",
    "data = {}\n",
    "for json_file in json_files:\n",
    "    if json_file == \"general\":\n",
    "        with open(\"../group-data/groupwebsite_data/general.json\") as json_var:\n",
    "            data[json_file] = json.load(json_var)\n",
    "    else:\n",
    "        with open(f\"../group-data/groupwebsite_data/research/sub_research_data/combined/{json_file}.json\") as json_var:\n",
    "            data[json_file] = json.load(json_var)"
   ]
  },
  {
   "cell_type": "code",
   "execution_count": 192,
   "metadata": {},
   "outputs": [],
   "source": [
    "from jinja2.exceptions import UndefinedError\n",
    "\n",
    "required_keys = [\"astrophysical_transients\", \"computational_metascience\"]\n",
    "if all(key in data for key in required_keys):\n",
    "    try:\n",
    "        content = template.render(general=data[\"general\"], computational_metascience=data[\"computational_metascience\"], astrophysical_transients=data[\"astrophysical_transients\"])\n",
    "    except UndefinedError as e:\n",
    "        print(f\"Error: {e.message}\")\n",
    "        # handle the error here\n",
    "else:\n",
    "    missing_key = next(key for key in required_keys if key not in data)\n",
    "    print(f\"Error: {missing_key} not found in data dictionary.\")\n",
    "\n",
    "\n"
   ]
  },
  {
   "cell_type": "code",
   "execution_count": 193,
   "metadata": {},
   "outputs": [],
   "source": [
    "with open(\"../kerzendorf-group.github.io/Research.html\", mode=\"w\", encoding=\"utf-8\") as research:\n",
    "        research.write(content)"
   ]
  },
  {
   "cell_type": "code",
   "execution_count": 194,
   "metadata": {},
   "outputs": [],
   "source": [
    "from jinja2.exceptions import UndefinedError\n",
    "\n",
    "required_keys = [\"astrophysical_transients\", \"computational_metascience\"]\n",
    "if all(key in data for key in required_keys):\n",
    "    try:\n",
    "        content = template_sub_research_frontpage.render(general=data[\"general\"], astrophysical_transients=data[\"astrophysical_transients\"])\n",
    "    except UndefinedError as e:\n",
    "        print(f\"Error: {e.message}\")\n",
    "        # handle the error here\n",
    "else:\n",
    "    missing_key = next(key for key in required_keys if key not in data)\n",
    "    print(f\"Error: {missing_key} not found in data dictionary.\")\n",
    "\n",
    "with open(\"../kerzendorf-group.github.io/sub_research/astrophysical_transients.html\", mode=\"w\", encoding=\"utf-8\") as research:\n",
    "        research.write(content)\n"
   ]
  },
  {
   "cell_type": "code",
   "execution_count": 195,
   "metadata": {},
   "outputs": [],
   "source": [
    "from jinja2.exceptions import UndefinedError\n",
    "\n",
    "required_keys = [\"astrophysical_transients\", \"computational_metascience\"]\n",
    "if all(key in data for key in required_keys):\n",
    "    try:\n",
    "        content = template_sub_research_frontpage.render(general=data[\"general\"], computational_metascience=data[\"computational_metascience\"])\n",
    "    except UndefinedError as e:\n",
    "        print(f\"Error: {e.message}\")\n",
    "        # handle the error here\n",
    "else:\n",
    "    missing_key = next(key for key in required_keys if key not in data)\n",
    "    print(f\"Error: {missing_key} not found in data dictionary.\")\n",
    "\n",
    "with open(\"../kerzendorf-group.github.io/sub_research/computational_metascience.html\", mode=\"w\", encoding=\"utf-8\") as research:\n",
    "        research.write(content)\n"
   ]
  }
 ],
 "metadata": {
  "kernelspec": {
   "display_name": "Python 3",
   "language": "python",
   "name": "python3"
  },
  "language_info": {
   "codemirror_mode": {
    "name": "ipython",
    "version": 3
   },
   "file_extension": ".py",
   "mimetype": "text/x-python",
   "name": "python",
   "nbconvert_exporter": "python",
   "pygments_lexer": "ipython3",
   "version": "3.8.2"
  },
  "vscode": {
   "interpreter": {
    "hash": "31f2aee4e71d21fbe5cf8b01ff0e069b9275f58929596ceb00d14d90e3e16cd6"
   }
  }
 },
 "nbformat": 4,
 "nbformat_minor": 2
}
