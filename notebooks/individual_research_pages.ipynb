{
 "cells": [
  {
   "cell_type": "code",
   "execution_count": null,
   "metadata": {},
   "outputs": [],
   "source": [
    "# change the working directory to the desired location\n",
    "#import os\n",
    "#os.chdir(\"/Users/harshul/website clone/harshul/test/groupwebsite_generator\")\n",
    "#os.getcwd()"
   ]
  },
  {
   "cell_type": "code",
   "execution_count": null,
   "metadata": {},
   "outputs": [],
   "source": [
    "from jinja2 import Environment, FileSystemLoader\n",
    "import json"
   ]
  },
  {
   "cell_type": "code",
   "execution_count": null,
   "metadata": {},
   "outputs": [],
   "source": [
    "def page_link(a):\n",
    "    if ' ' in a:\n",
    "        return a.replace(\" \", \"_\")\n",
    "    else: \n",
    "        return a"
   ]
  },
  {
   "cell_type": "code",
   "execution_count": null,
   "metadata": {},
   "outputs": [],
   "source": [
    "environment = Environment(loader=FileSystemLoader(\"templates/\"))\n",
    "environment.globals['page_link'] = page_link\n",
    "template_no_twitter = environment.get_template(\"research_page_no_twitter.html.j2\")\n",
    "template_twitter = environment.get_template(\"research_page_twitter.html.j2\")"
   ]
  },
  {
   "cell_type": "code",
   "execution_count": null,
   "metadata": {},
   "outputs": [],
   "source": [
    "json_files = [\"general\", \"astrophysical_transients\", \"computational_metascience\"]\n",
    "data = {}\n",
    "\n",
    "for json_file in json_files:\n",
    "    if json_file == \"general\":\n",
    "        with open(\"../group-data/groupwebsite_data/general.json\") as json_var:\n",
    "            data[json_file] = json.load(json_var)\n",
    "    else:\n",
    "        with open(f\"../group-data/groupwebsite_data/research/sub_research_data/combined/{json_file}.json\") as json_var:\n",
    "            data[json_file] = json.load(json_var)\n",
    "\n",
    "for i, project in enumerate(data[\"astrophysical_transients\"]):\n",
    "    filename = f\"../kerzendorf-group.github.io/sub_research/astrophysical_transients/{ page_link(data['general']['astrophysical_transients'][i]) }.html\"\n",
    "    if project[\"twitter\"] == \"None\":\n",
    "        content = template_no_twitter.render(\n",
    "            general=data[\"general\"],\n",
    "            research=project\n",
    "        )\n",
    "    else:\n",
    "        content = template_twitter.render(\n",
    "            general=data[\"general\"],\n",
    "            research=project\n",
    "        )\n",
    "    with open(filename, mode=\"w\", encoding=\"utf-8\") as message:\n",
    "        message.write(content)\n",
    "\n",
    "for i, project in enumerate(data[\"computational_metascience\"]):\n",
    "    filename = f\"../kerzendorf-group.github.io/sub_research/computational_metascience/{ page_link(data['general']['computational_metascience'][i]) }.html\"\n",
    "    if project[\"twitter\"] == \"None\":\n",
    "        content = template_no_twitter.render(\n",
    "            general=data[\"general\"],\n",
    "            research=project\n",
    "        )\n",
    "    else:\n",
    "        content = template_twitter.render(\n",
    "            general=data[\"general\"],\n",
    "            research=project\n",
    "        )\n",
    "    with open(filename, mode=\"w\", encoding=\"utf-8\") as message:\n",
    "        message.write(content)\n"
   ]
  },
  {
   "cell_type": "code",
   "execution_count": null,
   "metadata": {},
   "outputs": [],
   "source": [
    "json_files = [\"general\", \"astrophysical_transients\", \"computational_metascience\"]\n",
    "data = {}\n",
    "for json_file in json_files:\n",
    "    if json_file == \"general\":\n",
    "        with open(\"../group-data/groupwebsite_data/general.json\") as json_var:\n",
    "            data[json_file] = json.load(json_var)\n",
    "    else:\n",
    "        with open(f\"../group-data/groupwebsite_data/research/sub_research_data/combined/{json_file}.json\") as json_var:\n",
    "            data[json_file] = json.load(json_var)"
   ]
  },
  {
   "cell_type": "code",
   "execution_count": null,
   "metadata": {},
   "outputs": [],
   "source": [
    "required_keys = [\"astrophysical_transients\", \"computational_metascience\"]\n",
    "if all(key in data for key in required_keys):\n",
    "    for category in [data[\"astrophysical_transients\"], data[\"computational_metascience\"]]:\n",
    "        for research_page in category[0:]:\n",
    "            filename = f\"../kerzendorf-group.github.io/sub_research/{ page_link(research_page['name'])}.html\"\n",
    "            content =  template_no_twitter.render(general=data['general'], research_page=research_page)\n",
    "            with open(filename, mode=\"w\", encoding=\"utf-8\") as page:\n",
    "                page.write(content)\n",
    "else:\n",
    "    missing_key = next(key for key in required_keys if key not in data)\n",
    "    print(f\"Error: {missing_key} not found in data dictionary.\")\n"
   ]
  },
  {
   "cell_type": "code",
   "execution_count": null,
   "metadata": {},
   "outputs": [],
   "source": [
    "json_files = [\"general\", \"research\"]\n",
    "data = {}\n",
    "for json_file in json_files:\n",
    "    if json_file == \"general\":\n",
    "        with open(\"../group-data/groupwebsite_data/general.json\") as json_var:\n",
    "            data[json_file] = json.load(json_var)\n",
    "    else:\n",
    "        with open(f\"../group-data/groupwebsite_data/research/sub_research_data/all_research.json\") as json_var:\n",
    "            data[json_file] = json.load(json_var)\n",
    "            \n",
    "for i,project in enumerate(data[\"research\"]):\n",
    "    filename = f\"../kerzendorf-group.github.io/sub_research/{ page_link(data['general']['Research'][i]) }.html\"\n",
    "    if project[\"twitter\"] == \"None\":\n",
    "        content = template_no_twitter.render(\n",
    "            general=data[\"general\"],\n",
    "            research=project\n",
    "        )\n",
    "    else:\n",
    "        content = template_twitter.render(\n",
    "            general=data[\"general\"],\n",
    "            research=project\n",
    "        )\n",
    "    with open(filename, mode=\"w\", encoding=\"utf-8\") as message:\n",
    "        message.write(content)\n"
   ]
  }
 ],
 "metadata": {
  "kernelspec": {
   "display_name": "Python 3",
   "language": "python",
   "name": "python3"
  },
  "language_info": {
   "codemirror_mode": {
    "name": "ipython",
    "version": 3
   },
   "file_extension": ".py",
   "mimetype": "text/x-python",
   "name": "python",
   "nbconvert_exporter": "python",
   "pygments_lexer": "ipython3",
   "version": "3.8.2"
  },
  "vscode": {
   "interpreter": {
    "hash": "31f2aee4e71d21fbe5cf8b01ff0e069b9275f58929596ceb00d14d90e3e16cd6"
   }
  }
 },
 "nbformat": 4,
 "nbformat_minor": 2
}
