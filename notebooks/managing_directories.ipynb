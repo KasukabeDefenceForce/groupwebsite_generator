{
 "cells": [
  {
   "cell_type": "code",
   "execution_count": 22,
   "metadata": {},
   "outputs": [],
   "source": [
    "# change the working directory to the desired location\n",
    "import os\n",
    "os.chdir(\"/Users/harshul/website clone/groupwebsite_generator\")"
   ]
  },
  {
   "cell_type": "code",
   "execution_count": 26,
   "metadata": {},
   "outputs": [],
   "source": [
    "import os\n",
    "import shutil\n",
    "folder_path = \"kerzendorf-group.github.io\"\n",
    "\n",
    "\n",
    "for filename in os.listdir(folder_path):\n",
    "    file_path = os.path.join(folder_path, filename)\n",
    "    if os.path.isfile(file_path) and filename != \".git\":\n",
    "        os.unlink(file_path)\n",
    "    elif os.path.isdir(file_path) and filename != \".github\":\n",
    "        shutil.rmtree(file_path, ignore_errors=True)\n"
   ]
  },
  {
   "cell_type": "code",
   "execution_count": 24,
   "metadata": {},
   "outputs": [
    {
     "data": {
      "text/plain": [
       "'\\nimport shutil\\nimport os\\n\\n# specify the list of directories to delete\\npath_list = [\\'kerzendorf-group.github.io/assets\\', \\'kerzendorf-group.github.io/images\\',\\'kerzendorf-group.github.io/people\\',\\'kerzendorf-group.github.io/sub_research\\', \\'kerzendorf-group.github.io/index.html\\',\\'kerzendorf-group.github.io/people.html\\',\\'kerzendorf-group.github.io/research.html\\',\\'kerzendorf-group.github.io/Contact.html\\']\\n\\n# loop through the list and delete each directory and its contents\\nfor path in path_list:\\n    if os.path.exists(path):\\n        try:\\n            shutil.rmtree(path)\\n            print(f\"{path} has been deleted\")\\n        except OSError as e:\\n            print(f\"Error: {e}\")\\n    else:\\n        print(f\"{path} does not exist\")\\n        '"
      ]
     },
     "execution_count": 24,
     "metadata": {},
     "output_type": "execute_result"
    }
   ],
   "source": [
    "\"\"\"\n",
    "import shutil\n",
    "import os\n",
    "\n",
    "# specify the list of directories to delete\n",
    "path_list = ['kerzendorf-group.github.io/assets', 'kerzendorf-group.github.io/images','kerzendorf-group.github.io/people','kerzendorf-group.github.io/sub_research', 'kerzendorf-group.github.io/index.html','kerzendorf-group.github.io/people.html','kerzendorf-group.github.io/research.html','kerzendorf-group.github.io/Contact.html']\n",
    "\n",
    "# loop through the list and delete each directory and its contents\n",
    "for path in path_list:\n",
    "    if os.path.exists(path):\n",
    "        try:\n",
    "            shutil.rmtree(path)\n",
    "            print(f\"{path} has been deleted\")\n",
    "        except OSError as e:\n",
    "            print(f\"Error: {e}\")\n",
    "    else:\n",
    "        print(f\"{path} does not exist\")\n",
    "        \"\"\"\n"
   ]
  },
  {
   "cell_type": "code",
   "execution_count": 27,
   "metadata": {},
   "outputs": [],
   "source": [
    "import shutil\n",
    "os.mkdir('kerzendorf-group.github.io/sub_research')\n",
    "os.mkdir('kerzendorf-group.github.io/people')\n",
    "\n",
    "source_dirs = ['assets', 'group-data/images']\n",
    "target_dir = 'kerzendorf-group.github.io'\n",
    "\n",
    "for source_dir in source_dirs:\n",
    "    target_subdir = os.path.join(target_dir, os.path.basename(source_dir))\n",
    "    shutil.copytree(source_dir, target_subdir)\n"
   ]
  }
 ],
 "metadata": {
  "kernelspec": {
   "display_name": "Python 3",
   "language": "python",
   "name": "python3"
  },
  "language_info": {
   "codemirror_mode": {
    "name": "ipython",
    "version": 3
   },
   "file_extension": ".py",
   "mimetype": "text/x-python",
   "name": "python",
   "nbconvert_exporter": "python",
   "pygments_lexer": "ipython3",
   "version": "3.8.2"
  },
  "orig_nbformat": 4,
  "vscode": {
   "interpreter": {
    "hash": "31f2aee4e71d21fbe5cf8b01ff0e069b9275f58929596ceb00d14d90e3e16cd6"
   }
  }
 },
 "nbformat": 4,
 "nbformat_minor": 2
}
