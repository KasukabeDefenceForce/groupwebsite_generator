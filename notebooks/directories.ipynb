{
 "cells": [
  {
   "cell_type": "code",
   "execution_count": 35,
   "metadata": {},
   "outputs": [
    {
     "data": {
      "text/plain": [
       "'/Users/harshul/website clone/harshul/test/groupwebsite_generator'"
      ]
     },
     "execution_count": 35,
     "metadata": {},
     "output_type": "execute_result"
    }
   ],
   "source": [
    "# change the working directory to the desired location\n",
    "#import os\n",
    "#os.chdir(\"/Users/harshul/website clone/harshul/test/groupwebsite_generator\")\n",
    "#os.getcwd()"
   ]
  },
  {
   "cell_type": "code",
   "execution_count": 36,
   "metadata": {},
   "outputs": [],
   "source": [
    "import os\n",
    "import json\n",
    "\n",
    "with open('../group-data/groupwebsite_data/people_list.json') as f:\n",
    "    file_list = json.load(f)\n",
    "\n",
    "# Get the directory path\n",
    "dir_path = os.path.dirname('../group-data/groupwebsite_data')\n",
    "\n",
    "# Create an empty list to hold the combined JSON data from all the files\n",
    "combined_data_list = []\n",
    "\n",
    "# Loop through each directory in the list\n",
    "for directory in file_list['people_directories']:\n",
    "    # Get the directory name\n",
    "    directory_name = os.path.basename(directory)\n",
    "    # Remove any file extension from the directory name\n",
    "    directory_name = directory_name.split('.')[0]\n",
    "    # Create an empty dictionary to hold the combined JSON data for this directory\n",
    "    combined_data = {}\n",
    "    # Loop through each file in the directory\n",
    "    for filename in os.listdir(os.path.join(dir_path, directory)):\n",
    "        # Check if the file is a JSON file\n",
    "        if filename.endswith('.json'):\n",
    "            # Load the JSON data from the file\n",
    "            with open(os.path.join(dir_path, directory, filename)) as f:\n",
    "                json_data = json.load(f)\n",
    "            # If the JSON data is a dictionary, merge it into the combined_data dictionary\n",
    "            if isinstance(json_data, dict):\n",
    "                combined_data.update(json_data)\n",
    "            # If the JSON data is a list, loop through each element and merge any dictionaries into the combined_data dictionary\n",
    "            elif isinstance(json_data, list):\n",
    "                for item in json_data:\n",
    "                    if isinstance(item, dict):\n",
    "                        combined_data.update(item)\n",
    "    # Append the combined JSON data for this directory to the list\n",
    "    combined_data_list.append(combined_data)\n",
    "\n",
    "\n",
    "os.chdir(\"../group-data/\"+directory)\n",
    "os.chdir(\"..\")\n",
    "# Write the combined JSON data list to a file\n",
    "with open(directory.split('/')[1] + '.json', 'w') as f:\n",
    "    json.dump(combined_data_list, f, indent=4)\n"
   ]
  }
 ],
 "metadata": {
  "kernelspec": {
   "display_name": "Python 3",
   "language": "python",
   "name": "python3"
  },
  "language_info": {
   "codemirror_mode": {
    "name": "ipython",
    "version": 3
   },
   "file_extension": ".py",
   "mimetype": "text/x-python",
   "name": "python",
   "nbconvert_exporter": "python",
   "pygments_lexer": "ipython3",
   "version": "3.8.2"
  },
  "orig_nbformat": 4
 },
 "nbformat": 4,
 "nbformat_minor": 2
}
