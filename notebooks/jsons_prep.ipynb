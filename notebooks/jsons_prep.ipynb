{
 "cells": [
  {
   "cell_type": "code",
   "execution_count": null,
   "metadata": {},
   "outputs": [],
   "source": [
    "# Temporary for local testing\n",
    "#import os\n",
    "#os.chdir(\"/home/bumblebealu/groupwebsite_generator\")\n",
    "#os.chdir(\"/Users/harshul/website clone/harshul/test/groupwebsite_generator\")\n",
    "#os.getcwd()"
   ]
  },
  {
   "attachments": {},
   "cell_type": "markdown",
   "metadata": {},
   "source": [
    "### Setup"
   ]
  },
  {
   "cell_type": "code",
   "execution_count": null,
   "metadata": {},
   "outputs": [],
   "source": [
    "import json\n",
    "import os"
   ]
  },
  {
   "attachments": {},
   "cell_type": "markdown",
   "metadata": {},
   "source": [
    "#### IDs"
   ]
  },
  {
   "cell_type": "code",
   "execution_count": null,
   "metadata": {},
   "outputs": [],
   "source": [
    "data = {\n",
    "    \"people\": [],\n",
    "    \"people_directories\": []\n",
    "}\n",
    "\n",
    "with open(\"../group-data/website_data/ids.json\", \"r\") as file:\n",
    "    people_ids = json.load(file)[\"kerzendorf_group_ids\"]\n",
    "\n",
    "for person_id in people_ids:\n",
    "    person_json = f\"members/{person_id}/{person_id}.json\"\n",
    "    data[\"people\"].append(person_json)\n",
    "\n",
    "    person_directory = f\"members/{person_id}/jsons\"\n",
    "    data[\"people_directories\"].append(person_directory)\n",
    "\n",
    "with open(\"../group-data/website_data/people_list.json\", \"w\") as file:\n",
    "    json.dump(data, file, indent=2)\n"
   ]
  },
  {
   "attachments": {},
   "cell_type": "markdown",
   "metadata": {},
   "source": [
    "#### Appending JSONs"
   ]
  },
  {
   "cell_type": "code",
   "execution_count": null,
   "metadata": {},
   "outputs": [],
   "source": [
    "# Read in the list of directories and JSON files from the people_list.json file\n",
    "with open('../group-data/website_data/people_list.json') as f:\n",
    "    file_list = json.load(f)\n",
    "\n",
    "# Get the directory path\n",
    "dir_path = os.path.dirname('../group-data/website_data')\n",
    "\n",
    "# Loop through each directory in the list\n",
    "for directory in file_list['people_directories']:\n",
    "    # Get the directory name\n",
    "    directory_name = os.path.basename(directory)\n",
    "    # Remove any file extension from the directory name\n",
    "    directory_name = directory_name.split('.')[0]\n",
    "    # Create an empty dictionary to hold the combined JSON data for this directory\n",
    "    combined_data = {}\n",
    "    # Loop through each file in the directory\n",
    "    for filename in os.listdir(os.path.join(dir_path, directory)):\n",
    "        # Check if the file is a JSON file\n",
    "        if filename.endswith('.json'):\n",
    "            # Load the JSON data from the file\n",
    "            with open(os.path.join(dir_path, directory, filename)) as f:\n",
    "                json_data = json.load(f)\n",
    "            # If the JSON data is a dictionary, update the combined_data dictionary with new key-value pairs\n",
    "            if isinstance(json_data, dict):\n",
    "                for key, value in json_data.items():\n",
    "                    if key not in combined_data:\n",
    "                        combined_data[key] = value\n",
    "            # If the JSON data is a list, loop through each element and update the combined_data dictionary with new key-value pairs\n",
    "            elif isinstance(json_data, list):\n",
    "                for item in json_data:\n",
    "                    if isinstance(item, dict):\n",
    "                        for key, value in item.items():\n",
    "                            if key not in combined_data:\n",
    "                                combined_data[key] = value\n",
    "    # Write the combined JSON data to a new file in the same directory as the original files\n",
    "    with open(os.path.join(dir_path, directory.split('/')[0],directory.split('/')[1], directory.split('/')[1]+'.json'), 'w') as f:\n",
    "        f.write(\"[\")  # Add opening square bracket\n",
    "        json.dump(combined_data, f, indent=4)\n",
    "        f.write(\"]\")  # Add closing square bracket\n"
   ]
  },
  {
   "attachments": {},
   "cell_type": "markdown",
   "metadata": {},
   "source": [
    "#### Combining People Categories"
   ]
  },
  {
   "cell_type": "code",
   "execution_count": null,
   "metadata": {},
   "outputs": [],
   "source": [
    "# Load the list of JSON files \n",
    "with open('../group-data/website_data/people_list.json') as f:\n",
    "    file_list = json.load(f)\n",
    "\n",
    "# Get the directory of main.json\n",
    "dir_path = os.path.dirname('../group-data/website_data')"
   ]
  },
  {
   "cell_type": "code",
   "execution_count": null,
   "metadata": {},
   "outputs": [],
   "source": [
    "# For Faculty\n",
    "people = []\n",
    "\n",
    "# Loop through each file in the list\n",
    "for file_name in file_list['people']:\n",
    "    # Construct the full path to the JSON file\n",
    "    json_path = os.path.join(dir_path, file_name)\n",
    "    with open(json_path) as f:\n",
    "        # Load the data from the file\n",
    "        data = json.load(f)\n",
    "        # Check if the data has a \"Principal Investigator\" category\n",
    "        if any(\"category\" in item and item[\"category\"] == \"Faculty\" for item in data):\n",
    "            people.extend([item for item in data if \"category\" in item and item[\"category\"] == \"Faculty\"])\n",
    "\n",
    "# Write the combined data to a new JSON file\n",
    "with open('../group-data/members/common/faculty.json', 'w') as f:\n",
    "    json.dump(people, f, indent=4)\n"
   ]
  },
  {
   "cell_type": "code",
   "execution_count": null,
   "metadata": {},
   "outputs": [],
   "source": [
    "# For Undergraduates\n",
    "people = []\n",
    "\n",
    "# Loop through each file in the list\n",
    "for file_name in file_list['people']:\n",
    "    # Construct the full path to the JSON file\n",
    "    json_path = os.path.join(dir_path, file_name)\n",
    "    with open(json_path) as f:\n",
    "        # Load the data from the file\n",
    "        data = json.load(f)\n",
    "        # Check if the data has a \"Undergraduates\" category\n",
    "        if any(\"category\" in item and item[\"category\"] == \"Undergraduate Students\" for item in data):\n",
    "            people.extend([item for item in data if \"category\" in item and item[\"category\"] == \"Undergraduate Students\"])\n",
    "\n",
    "# Write the combined data to a new JSON file\n",
    "with open('../group-data/members/common/undergrads.json', 'w') as f:\n",
    "    json.dump(people, f, indent=4)\n"
   ]
  },
  {
   "cell_type": "code",
   "execution_count": null,
   "metadata": {},
   "outputs": [],
   "source": [
    "# For Graduates\n",
    "people = []\n",
    "\n",
    "# Loop through each file in the list\n",
    "for file_name in file_list['people']:\n",
    "    # Construct the full path to the JSON file\n",
    "    json_path = os.path.join(dir_path, file_name)\n",
    "    with open(json_path) as f:\n",
    "        # Load the data from the file\n",
    "        data = json.load(f)\n",
    "        # Check if the data has a \"Graduates\" category\n",
    "        if any(\"category\" in item and item[\"category\"] == \"Graduate Students\" for item in data):\n",
    "            people.extend([item for item in data if \"category\" in item and item[\"category\"] == \"Graduate Students\"])\n",
    "\n",
    "# Write the combined data to a new JSON file\n",
    "with open('../group-data/members/common/grads.json', 'w') as f:\n",
    "    json.dump(people, f, indent=4)\n"
   ]
  },
  {
   "cell_type": "code",
   "execution_count": null,
   "metadata": {},
   "outputs": [],
   "source": [
    "# For Post Doctorates\n",
    "people = []\n",
    "\n",
    "# Loop through each file in the list\n",
    "for file_name in file_list['people']:\n",
    "    # Construct the full path to the JSON file\n",
    "    json_path = os.path.join(dir_path, file_name)\n",
    "    with open(json_path) as f:\n",
    "        # Load the data from the file\n",
    "        data = json.load(f)\n",
    "        # Check if the data has a \"Post Doctorate\" category\n",
    "        if any(\"category\" in item and item[\"category\"] == \"Postdoctoral Researchers\" for item in data):\n",
    "            people.extend([item for item in data if \"category\" in item and item[\"category\"] == \"Postdoctoral Researchers\"])\n",
    "\n",
    "# Write the combined data to a new JSON file\n",
    "with open('../group-data/members/common/post_docs.json', 'w') as f:\n",
    "    json.dump(people, f, indent=4)\n"
   ]
  },
  {
   "cell_type": "code",
   "execution_count": null,
   "metadata": {},
   "outputs": [],
   "source": [
    "# For Researchers\n",
    "people = []\n",
    "\n",
    "# Loop through each file in the list\n",
    "for file_name in file_list['people']:\n",
    "    # Construct the full path to the JSON file\n",
    "    json_path = os.path.join(dir_path, file_name)\n",
    "    with open(json_path) as f:\n",
    "        # Load the data from the file\n",
    "        data = json.load(f)\n",
    "        # Check if the data has a \"Post Graduates\" category\n",
    "        if any(\"category\" in item and item[\"category\"] == \"Researchers\" for item in data):\n",
    "            people.extend([item for item in data if \"category\" in item and item[\"category\"] == \"Researchers\"])\n",
    "\n",
    "# Write the combined data to a new JSON file\n",
    "with open('../group-data/members/common/researchers.json', 'w') as f:\n",
    "    json.dump(people, f, indent=4)\n"
   ]
  },
  {
   "cell_type": "code",
   "execution_count": null,
   "metadata": {},
   "outputs": [],
   "source": [
    "# For Research Software Engineers\n",
    "people = []\n",
    "\n",
    "# Loop through each file in the list\n",
    "for file_name in file_list['people']:\n",
    "    # Construct the full path to the JSON file\n",
    "    json_path = os.path.join(dir_path, file_name)\n",
    "    with open(json_path) as f:\n",
    "        # Load the data from the file\n",
    "        data = json.load(f)\n",
    "        # Check if the data has a \"Post Doctorate\" category\n",
    "        if any(\"category\" in item and item[\"category\"] == \"Research Software Engineers\" for item in data):\n",
    "            people.extend([item for item in data if \"category\" in item and item[\"category\"] == \"Research Software Engineers\"])\n",
    "\n",
    "# Write the combined data to a new JSON file\n",
    "with open('../group-data/members/common/research_engineers.json', 'w') as f:\n",
    "    json.dump(people, f, indent=4)\n"
   ]
  },
  {
   "attachments": {},
   "cell_type": "markdown",
   "metadata": {},
   "source": [
    "#### Combining Research"
   ]
  },
  {
   "cell_type": "code",
   "execution_count": null,
   "metadata": {},
   "outputs": [],
   "source": [
    "# Read the JSON file that lists the research categories\n",
    "with open(\"../group-data/website_data/research_categories.json\") as f:\n",
    "    research_categories = json.load(f)[\"research_categories\"]\n",
    "\n",
    "# Loop through each research category\n",
    "for category_path in research_categories:\n",
    "    # Prepend the base directory path to the category path\n",
    "    category_path = os.path.join(\"..\", \"group-data\", \"website_data\", category_path)\n",
    "\n",
    "    # Initialize an empty list to hold the data from each JSON file in the category\n",
    "    category_data = []\n",
    "\n",
    "    # Check if 'about.json' exists in the category directory\n",
    "    about_file_path = os.path.join(category_path, \"about.json\")\n",
    "    if os.path.exists(about_file_path):\n",
    "        # Open 'about.json' and load its contents as JSON\n",
    "        with open(about_file_path) as f:\n",
    "            about_data = json.load(f)\n",
    "        # Append the 'about.json' data to the category list\n",
    "        category_data.append(about_data)\n",
    "\n",
    "    # Loop through each file in the category directory\n",
    "    for filename in os.listdir(category_path):\n",
    "        # Check if the file is a JSON file and not 'about.json'\n",
    "        if filename.endswith(\".json\") and filename != \"about.json\":\n",
    "            # Open the file and load its contents as JSON\n",
    "            with open(os.path.join(category_path, filename)) as f:\n",
    "                json_data = json.load(f)\n",
    "            # Append the JSON data to the category list\n",
    "            category_data.append(json_data)\n",
    "\n",
    "    # Write the combined data to a new JSON file for this category\n",
    "    category_name = os.path.basename(category_path)\n",
    "    with open(f\"../group-data/website_data/research/sub_research_data/combined/{category_name}.json\", \"w\") as f:\n",
    "        json.dump(category_data, f, indent=4)\n"
   ]
  },
  {
   "attachments": {},
   "cell_type": "markdown",
   "metadata": {},
   "source": [
    "#### Appending News"
   ]
  },
  {
   "cell_type": "code",
   "execution_count": null,
   "metadata": {},
   "outputs": [],
   "source": [
    "# Specify the directory path where the JSON files are located\n",
    "directory_path = \"../group-data/website_data/news\"\n",
    "\n",
    "# Initialize an empty list to hold the data from each JSON file\n",
    "combined_data = []\n",
    "\n",
    "# Loop through each file in the directory\n",
    "for filename in os.listdir(directory_path):\n",
    "    # Check if the file is a JSON file\n",
    "    if filename.endswith(\".json\"):\n",
    "        # Open the file and load its contents as JSON\n",
    "        with open(os.path.join(directory_path, filename)) as f:\n",
    "            json_data = json.load(f)\n",
    "        # Append the JSON data to the combined list\n",
    "        combined_data.append(json_data)\n",
    "\n",
    "# Write the combined data to a new JSON file in the same directory\n",
    "combined_file_path = os.path.join(directory_path, \"combined_news.json\")\n",
    "with open(combined_file_path, \"w\") as f:\n",
    "    json.dump(combined_data, f, indent=4)\n",
    "\n",
    "print(\"Combined News JSON file has been created:\", combined_file_path)"
   ]
  }
 ],
 "metadata": {
  "kernelspec": {
   "display_name": "deepthought",
   "language": "python",
   "name": "deepthought"
  },
  "orig_nbformat": 4
 },
 "nbformat": 4,
 "nbformat_minor": 2
}
