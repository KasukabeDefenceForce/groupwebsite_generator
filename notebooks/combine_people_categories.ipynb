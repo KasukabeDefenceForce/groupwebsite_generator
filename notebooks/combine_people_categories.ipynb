{
 "cells": [
  {
   "cell_type": "code",
   "execution_count": 1,
   "metadata": {},
   "outputs": [
    {
     "data": {
      "text/plain": [
       "'/home/bumblebealu/groupwebsite_generator'"
      ]
     },
     "execution_count": 1,
     "metadata": {},
     "output_type": "execute_result"
    }
   ],
   "source": [
    "# change the working directory to the desired location\n",
    "#import os\n",
    "#os.chdir(\"/Users/harshul/website clone/harshul/test/groupwebsite_generator\")\n",
    "#os.getcwd()\n"
   ]
  },
  {
   "cell_type": "code",
   "execution_count": 2,
   "metadata": {},
   "outputs": [],
   "source": [
    "import json\n",
    "import os\n",
    "\n",
    "# Load the list of JSON files \n",
    "with open('../group-data/groupwebsite_data/people_list.json') as f:\n",
    "    file_list = json.load(f)\n",
    "\n",
    "# Get the directory of main.json\n",
    "dir_path = os.path.dirname('../group-data/groupwebsite_data')\n"
   ]
  },
  {
   "cell_type": "code",
   "execution_count": 3,
   "metadata": {},
   "outputs": [],
   "source": [
    "# For Faculty\n",
    "people = []\n",
    "\n",
    "# Loop through each file in the list\n",
    "for file_name in file_list['people']:\n",
    "    # Construct the full path to the JSON file\n",
    "    json_path = os.path.join(dir_path, file_name)\n",
    "    with open(json_path) as f:\n",
    "        # Load the data from the file\n",
    "        data = json.load(f)\n",
    "        # Check if the data has a \"Principal Investigator\" category\n",
    "        if any(\"category\" in item and item[\"category\"] == \"Faculty\" for item in data):\n",
    "            people.extend([item for item in data if \"category\" in item and item[\"category\"] == \"Faculty\"])\n",
    "\n",
    "# Write the combined data to a new JSON file\n",
    "with open('../group-data/members/common/faculty.json', 'w') as f:\n",
    "    json.dump(people, f, indent=4)\n"
   ]
  },
  {
   "cell_type": "code",
   "execution_count": 4,
   "metadata": {},
   "outputs": [],
   "source": [
    "# For Undergraduates\n",
    "people = []\n",
    "\n",
    "# Loop through each file in the list\n",
    "for file_name in file_list['people']:\n",
    "    # Construct the full path to the JSON file\n",
    "    json_path = os.path.join(dir_path, file_name)\n",
    "    with open(json_path) as f:\n",
    "        # Load the data from the file\n",
    "        data = json.load(f)\n",
    "        # Check if the data has a \"Undergraduates\" category\n",
    "        if any(\"category\" in item and item[\"category\"] == \"Undergraduate Students\" for item in data):\n",
    "            people.extend([item for item in data if \"category\" in item and item[\"category\"] == \"Undergraduate Students\"])\n",
    "\n",
    "# Write the combined data to a new JSON file\n",
    "with open('../group-data/members/common/undergrads.json', 'w') as f:\n",
    "    json.dump(people, f, indent=4)\n"
   ]
  },
  {
   "cell_type": "code",
   "execution_count": 5,
   "metadata": {},
   "outputs": [],
   "source": [
    "# For Graduates\n",
    "people = []\n",
    "\n",
    "# Loop through each file in the list\n",
    "for file_name in file_list['people']:\n",
    "    # Construct the full path to the JSON file\n",
    "    json_path = os.path.join(dir_path, file_name)\n",
    "    with open(json_path) as f:\n",
    "        # Load the data from the file\n",
    "        data = json.load(f)\n",
    "        # Check if the data has a \"Graduates\" category\n",
    "        if any(\"category\" in item and item[\"category\"] == \"Graduate Students\" for item in data):\n",
    "            people.extend([item for item in data if \"category\" in item and item[\"category\"] == \"Graduate Students\"])\n",
    "\n",
    "# Write the combined data to a new JSON file\n",
    "with open('../group-data/members/common/grads.json', 'w') as f:\n",
    "    json.dump(people, f, indent=4)\n"
   ]
  },
  {
   "cell_type": "code",
   "execution_count": 6,
   "metadata": {},
   "outputs": [],
   "source": [
    "# For Post Doctorates\n",
    "people = []\n",
    "\n",
    "# Loop through each file in the list\n",
    "for file_name in file_list['people']:\n",
    "    # Construct the full path to the JSON file\n",
    "    json_path = os.path.join(dir_path, file_name)\n",
    "    with open(json_path) as f:\n",
    "        # Load the data from the file\n",
    "        data = json.load(f)\n",
    "        # Check if the data has a \"Post Doctorate\" category\n",
    "        if any(\"category\" in item and item[\"category\"] == \"Postdoctoral Researchers\" for item in data):\n",
    "            people.extend([item for item in data if \"category\" in item and item[\"category\"] == \"Postdoctoral Researchers\"])\n",
    "\n",
    "# Write the combined data to a new JSON file\n",
    "with open('../group-data/members/common/post_docs.json', 'w') as f:\n",
    "    json.dump(people, f, indent=4)\n"
   ]
  },
  {
   "cell_type": "code",
   "execution_count": 7,
   "metadata": {},
   "outputs": [],
   "source": [
    "# For Researchers\n",
    "people = []\n",
    "\n",
    "# Loop through each file in the list\n",
    "for file_name in file_list['people']:\n",
    "    # Construct the full path to the JSON file\n",
    "    json_path = os.path.join(dir_path, file_name)\n",
    "    with open(json_path) as f:\n",
    "        # Load the data from the file\n",
    "        data = json.load(f)\n",
    "        # Check if the data has a \"Post Graduates\" category\n",
    "        if any(\"category\" in item and item[\"category\"] == \"Researchers\" for item in data):\n",
    "            people.extend([item for item in data if \"category\" in item and item[\"category\"] == \"Researchers\"])\n",
    "\n",
    "# Write the combined data to a new JSON file\n",
    "with open('../group-data/members/common/researchers.json', 'w') as f:\n",
    "    json.dump(people, f, indent=4)\n"
   ]
  },
  {
   "cell_type": "code",
   "execution_count": 8,
   "metadata": {},
   "outputs": [],
   "source": [
    "# For Research Software Engineers\n",
    "people = []\n",
    "\n",
    "# Loop through each file in the list\n",
    "for file_name in file_list['people']:\n",
    "    # Construct the full path to the JSON file\n",
    "    json_path = os.path.join(dir_path, file_name)\n",
    "    with open(json_path) as f:\n",
    "        # Load the data from the file\n",
    "        data = json.load(f)\n",
    "        # Check if the data has a \"Post Doctorate\" category\n",
    "        if any(\"category\" in item and item[\"category\"] == \"Research Software Engineers\" for item in data):\n",
    "            people.extend([item for item in data if \"category\" in item and item[\"category\"] == \"Research Software Engineers\"])\n",
    "\n",
    "# Write the combined data to a new JSON file\n",
    "with open('../group-data/members/common/research_engineers.json', 'w') as f:\n",
    "    json.dump(people, f, indent=4)\n"
   ]
  },
  {
   "cell_type": "code",
   "execution_count": null,
   "metadata": {},
   "outputs": [],
   "source": []
  }
 ],
 "metadata": {
  "kernelspec": {
   "display_name": "deepthought",
   "language": "python",
   "name": "deepthought"
  },
  "language_info": {
   "codemirror_mode": {
    "name": "ipython",
    "version": 3
   },
   "file_extension": ".py",
   "mimetype": "text/x-python",
   "name": "python",
   "nbconvert_exporter": "python",
   "pygments_lexer": "ipython3",
   "version": "3.9.12"
  },
  "vscode": {
   "interpreter": {
    "hash": "31f2aee4e71d21fbe5cf8b01ff0e069b9275f58929596ceb00d14d90e3e16cd6"
   }
  }
 },
 "nbformat": 4,
 "nbformat_minor": 2
}
