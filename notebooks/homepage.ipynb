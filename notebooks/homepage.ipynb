{
 "cells": [
  {
   "cell_type": "code",
   "execution_count": null,
   "metadata": {},
   "outputs": [],
   "source": [
    "import os\n",
    "import requests\n",
    "import base64\n",
    "import json\n",
    "from jinja2 import Environment, FileSystemLoader\n"
   ]
  },
  {
   "cell_type": "code",
   "execution_count": null,
   "metadata": {},
   "outputs": [],
   "source": [
    "\n",
    "def page_link(a):\n",
    "    if ' ' in a:\n",
    "        return a.replace(' ', '_')\n",
    "    else:\n",
    "        return a\n"
   ]
  },
  {
   "cell_type": "code",
   "execution_count": null,
   "metadata": {},
   "outputs": [],
   "source": [
    "\n",
    "# Set environment variables\n",
    "token = os.environ['ACCESS_DATA']\n",
    "url_base = \"https://api.github.com/repos/kerzendorf-group/group-data/contents/jsons/\"\n",
    "headers = {\n",
    "    \"Authorization\": \"Token \" + token\n",
    "}\n"
   ]
  },
  {
   "cell_type": "code",
   "execution_count": null,
   "metadata": {},
   "outputs": [],
   "source": [
    "\n",
    "# Fetch and decode JSON files\n",
    "json_files = [\"general\", \"homepage\"]\n",
    "data = {}\n",
    "for json_file in json_files:\n",
    "    response = requests.get(url_base + json_file + \".json\", headers=headers)\n",
    "    content = response.json()[\"content\"]\n",
    "    decoded = base64.b64decode(content).decode()\n",
    "    data[json_file] = json.loads(decoded)\n"
   ]
  },
  {
   "cell_type": "code",
   "execution_count": null,
   "metadata": {},
   "outputs": [],
   "source": [
    "\n",
    "# Create instance of Environment and render template\n",
    "environment = Environment(loader=FileSystemLoader('templates/'))\n",
    "environment.globals['page_link'] = page_link\n",
    "template = environment.get_template('homepage.html.j2')\n",
    "content = template.render(general=data[\"general\"], Homepage=data[\"homepage\"])\n"
   ]
  },
  {
   "cell_type": "code",
   "execution_count": null,
   "metadata": {},
   "outputs": [],
   "source": [
    "# Retrieve the first item from the navigation bar\n",
    "filename = data[\"general\"][\"navigation_bar\"][0]+ '.html'\n",
    "\n",
    "# Open the file in write mode\n",
    "with open(filename, mode='w', encoding='utf-8') as Homepage:\n",
    "    Homepage.write(content)"
   ]
  }
 ],
 "metadata": {
  "kernelspec": {
   "display_name": "Python 3",
   "language": "python",
   "name": "python3"
  },
  "language_info": {
   "codemirror_mode": {
    "name": "ipython",
    "version": 3
   },
   "file_extension": ".py",
   "mimetype": "text/x-python",
   "name": "python",
   "nbconvert_exporter": "python",
   "pygments_lexer": "ipython3",
   "version": "3.8.2"
  },
  "orig_nbformat": 4,
  "vscode": {
   "interpreter": {
    "hash": "31f2aee4e71d21fbe5cf8b01ff0e069b9275f58929596ceb00d14d90e3e16cd6"
   }
  }
 },
 "nbformat": 4,
 "nbformat_minor": 2
}
