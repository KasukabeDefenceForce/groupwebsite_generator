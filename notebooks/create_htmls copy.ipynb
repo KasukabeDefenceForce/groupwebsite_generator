{
    "cells": [
        {
            "attachments": {},
            "cell_type": "markdown",
            "metadata": {},
            "source": [
                "### This notebook consist of code for creating the html files for the website each time data is updated."
            ]
        },
        {
            "cell_type": "markdown",
            "metadata": {},
            "source": [
                "## Set-up"
            ]
        },
        {
            "cell_type": "code",
            "execution_count": 61,
            "metadata": {},
            "outputs": [],
            "source": [
                "import json\n",
                "from pathlib import Path\n",
                "import numpy as np\n",
                "import shutil\n",
                "import pandas as pd\n",
                "from jinja2 import Environment, FileSystemLoader"
            ]
        },
        {
            "cell_type": "markdown",
            "metadata": {},
            "source": [
                "Defining Constants"
            ]
        },
        {
            "cell_type": "code",
            "execution_count": 62,
            "metadata": {},
            "outputs": [],
            "source": [
                "GROUP_DATA_DIR = Path(\"../../group-data\")\n",
                "TEMPLATE_DIR_PATH = GROUP_DATA_DIR.parent / \"groupwebsite_generator\" / \"templates\"\n",
                "WEBSITE_DATA_PATH = GROUP_DATA_DIR / \"website_data/\"\n",
                "HOSTING_PATH = GROUP_DATA_DIR.parent / \"kerzendorf-group.github.io\"\n",
                "ARTICLE_DIR_PATH = Path(\"../../research_news/articles\")\n",
                "ARTICLE_IMAGE_PATH = Path(\"../../research_news/images\")\n",
                "ARTICLE_IMAGE_DESTINATION_DIR = (HOSTING_PATH / \"website_files\" / \"images\" / \"article_content\")\n",
                "MEMBERS_DIR_PATH = GROUP_DATA_DIR / \"members/\"\n",
                "CONTENT_DIR_PATH = WEBSITE_DATA_PATH / \"content\"\n",
                "SUB_RESEARCH_PATH = HOSTING_PATH / \"sub_research\"\n",
                "\n",
                "ROLE_HIERARCHY_PATH = WEBSITE_DATA_PATH / \"role_hierarchy.json\""
            ]
        },
        {
            "cell_type": "markdown",
            "metadata": {},
            "source": [
                "Setting up jinja environment"
            ]
        },
        {
            "cell_type": "code",
            "execution_count": 63,
            "metadata": {},
            "outputs": [],
            "source": [
                "# Function to create proper HTML file names by replacing spaces with underscores\n",
                "def page_link(a):\n",
                "    \"\"\"Return the HTML file name after replacing blank spaces(\" \") with underscores(\"-\")\"\"\"\n",
                "    return a.replace(\" \", \"_\") if \" \" in a else a\n",
                "\n",
                "environment = Environment(\n",
                "    loader=FileSystemLoader(TEMPLATE_DIR_PATH),\n",
                "    extensions=[\"jinja2.ext.loopcontrols\", \"jinja2.ext.do\"],\n",
                ")\n",
                "environment.globals[\"page_link\"] = page_link"
            ]
        },
        {
            "cell_type": "code",
            "execution_count": 64,
            "metadata": {},
            "outputs": [],
            "source": [
                "def create_page(template, html, **kwargs):\n",
                "    \"\"\"\n",
                "    Create an HTML page using a Jinja2 template and save it to a specified path.\n",
                "\n",
                "    Parameters:\n",
                "    ----------\n",
                "    template : str\n",
                "        The filename of the Jinja2 template to be used.\n",
                "    html : str\n",
                "        The filename of the HTML file to be generated.\n",
                "    **kwargs : dict\n",
                "        Additional keyword arguments to be passed to the Jinja2 template for rendering.\n",
                "\n",
                "    Returns:\n",
                "    -------\n",
                "    None\n",
                "\n",
                "    \"\"\"\n",
                "    page_template = environment.get_template(template)\n",
                "    template_level = html.count(\"/\")\n",
                "    page_html_path = HOSTING_PATH / html\n",
                "    page_html_path.parent.mkdir(parents=True, exist_ok=True)\n",
                "    page_content = page_template.render(TEMPLATE_LEVEL=template_level, **kwargs)\n",
                "    with open(page_html_path, mode=\"w\", encoding=\"utf-8\") as page:\n",
                "        page.write(page_content)"
            ]
        },
        {
            "cell_type": "code",
            "execution_count": 65,
            "metadata": {},
            "outputs": [],
            "source": [
                "def loading_website_data(file_to_load):\n",
                "    \"\"\"\n",
                "    Load data from JSON files specified in a list of file names.\n",
                "\n",
                "    Parameters:\n",
                "    ----------\n",
                "    json_data_list : list of str\n",
                "        A list of file names (without extension) to load as JSON.\n",
                "\n",
                "    Returns:\n",
                "    -------\n",
                "    dict\n",
                "        A dictionary where keys are file names and values are the corresponding JSON data.\n",
                "\n",
                "    Raises:\n",
                "    ------\n",
                "    FileNotFoundError:\n",
                "        If a specified file does not exist.\n",
                "    json.JSONDecodeError:\n",
                "        If there's an issue decoding the JSON content from a file.\n",
                "\n",
                "    \"\"\"\n",
                "    loaded_data = {}\n",
                "    file_matches = WEBSITE_DATA_PATH/ f\"{file_to_load}.json\"\n",
                "    if file_matches:\n",
                "        try:\n",
                "            with open(file_matches, \"r\") as json_file:\n",
                "                loaded_data = json.load(json_file)\n",
                "        except json.JSONDecodeError:\n",
                "            print(f\"Error decoding JSON in '{file_matches}'.\")\n",
                "    else:\n",
                "        print(f\"File '{file_to_load}.json' not found.\")\n",
                "\n",
                "    return loaded_data"
            ]
        },
        {
            "cell_type": "code",
            "execution_count": 66,
            "metadata": {},
            "outputs": [],
            "source": [
                "def read_member_data_jsons(file_to_read):\n",
                "    member_data_list = []\n",
                "    member_data_df = pd.DataFrame([])\n",
                "    for single_info_file_path in MEMBERS_DIR_PATH.glob(\"*/info.json\"):\n",
                "        with open(single_info_file_path, \"r\") as f_info:\n",
                "            member_data = json.load(f_info)\n",
                "        member_unique_id = member_data[\"id\"]\n",
                "        file_to_read_path = single_info_file_path.parent / \"jsons\" / file_to_read\n",
                "\n",
                "        if file_to_read_path.exists():\n",
                "            with file_to_read_path.open(\"r\") as f_data:\n",
                "                member_other_data = json.load(f_data)\n",
                "            for entry in member_other_data:\n",
                "                entry[\"id\"] = member_unique_id\n",
                "            member_data_list.append(\n",
                "                pd.DataFrame(member_other_data)\n",
                "            )\n",
                "        # else:\n",
                "        #     data_path_in_kl = KERZENDORF_GROUP_DATA / \"members\" / member_unique_id / \"jsons\" / file_to_read\n",
                "        #     if data_path_in_kl.exists():\n",
                "        #         with data_path_in_kl.open(\"r\") as data_file:\n",
                "        #             member_other_data_kl = json.load(data_file)\n",
                "        #         for entry in member_other_data_kl:\n",
                "        #             entry[\"id\"] = member_unique_id\n",
                "        #         member_data_list.append(\n",
                "        #             pd.DataFrame(member_other_data_kl)\n",
                "        #         )\n",
                "\n",
                "    if member_data_list:\n",
                "        member_data_df = pd.concat(\n",
                "            member_data_list, ignore_index=True\n",
                "        )\n",
                "        member_data_df.set_index(\"id\", inplace=True)\n",
                "\n",
                "    return member_data_df"
            ]
        },
        {
            "cell_type": "code",
            "execution_count": 67,
            "metadata": {},
            "outputs": [],
            "source": [
                "def set_new_image_path(old_image_path):\n",
                "    image_source = ARTICLE_IMAGE_PATH / old_image_path.name\n",
                "    image_destination = ARTICLE_IMAGE_DESTINATION_DIR / old_image_path.name\n",
                "    website_files_index = image_destination.parts.index(\"website_files\")\n",
                "    new_image_path = Path(*image_destination.parts[website_files_index:])\n",
                "    shutil.copy2(image_source, image_destination)\n",
                "    print(str(new_image_path))\n",
                "    return str(new_image_path)"
            ]
        },
        {
            "cell_type": "markdown",
            "metadata": {},
            "source": [
                "## Reading data"
            ]
        },
        {
            "cell_type": "code",
            "execution_count": 68,
            "metadata": {},
            "outputs": [],
            "source": [
                "# Reading website data\n",
                "general = loading_website_data(\"general\")\n",
                "homepage = loading_website_data(\"homepage\")\n",
                "contact = loading_website_data(\"contact\")\n",
                "research = loading_website_data(\"research_categories\")\n",
                "support = loading_website_data(\"support\")"
            ]
        },
        {
            "cell_type": "code",
            "execution_count": 69,
            "metadata": {},
            "outputs": [
                {
                    "name": "stdout",
                    "output_type": "stream",
                    "text": [
                        "website_files/images/article_content/MAST_Poster.jpg\n",
                        "website_files/images/article_content/cmse_comp_vicente.jpg\n",
                        "website_files/images/article_content/bcbsm.jpeg\n",
                        "website_files/images/article_content/esa_internship.png\n",
                        "website_files/images/article_content/2BCAFnorway_geo.jpg\n",
                        "website_files/images/article_content/pacmanweb.png\n",
                        "website_files/images/article_content/proposals.mp4\n",
                        "website_files/images/article_content/img_PRUR.png\n",
                        "website_files/images/article_content/bea_midsure_poster.jpg\n"
                    ]
                }
            ],
            "source": [
                "# Reading all articles\n",
                "article_content_list = []\n",
                "for content_file_name in ARTICLE_DIR_PATH.iterdir():\n",
                "    with open(content_file_name, \"r\") as fcontent:\n",
                "        article_content = json.load(fcontent)\n",
                "    if \"dti\" in article_content['platforms']:\n",
                "        image_path = Path(article_content[\"cover_image\"])\n",
                "        article_content[\"cover_image\"] = set_new_image_path(image_path)\n",
                "        for content_key, content_value in article_content['content'].items():\n",
                "            if \"img\" in content_key or \"vid\" in content_key:\n",
                "                new_content_value = set_new_image_path(Path(content_value))\n",
                "                article_content[\"content\"][content_key] = new_content_value\n",
                "        article_content_list.append(article_content)\n",
                "article_content_df = pd.DataFrame(article_content_list)\n",
                "\n",
                "article_content_df[\"date\"] = pd.to_datetime(\n",
                "    article_content_df[\"date\"], format=\"%m-%d-%Y\"\n",
                ")\n",
                "\n",
                "article_content_df[\"cover_image_height\"] = (\n",
                "    article_content_df[\"cover_image_height\"].fillna(\"330px\").replace(\"\", \"330px\")\n",
                ")\n",
                "article_content_df[\"cover_image_width\"] = article_content_df['cover_image_width'].fillna(\"520px\").replace(\"\", \"520px\")\n"
            ]
        },
        {
            "cell_type": "markdown",
            "metadata": {},
            "source": [
                "Categorizing news and research articles"
            ]
        },
        {
            "cell_type": "code",
            "execution_count": 70,
            "metadata": {},
            "outputs": [],
            "source": [
                "news_content_df = article_content_df[\n",
                "    (article_content_df[\"category\"] == \"News\")\n",
                "    | (\n",
                "        article_content_df[\"tags\"].apply(\n",
                "            lambda x: \"news\" in x if isinstance(x, list) else False\n",
                "        )\n",
                "    )\n",
                "].sort_values(by=[\"date\"], ascending=[False])\n",
                "\n",
                "research_content_df = article_content_df[\n",
                "    article_content_df[\"category\"] != \"News\"\n",
                "].sort_values(by=[\"category\", \"date\"], ascending=[True, False])"
            ]
        },
        {
            "cell_type": "markdown",
            "metadata": {},
            "source": [
                "Reading personal member data from info.json"
            ]
        },
        {
            "cell_type": "code",
            "execution_count": 71,
            "metadata": {},
            "outputs": [],
            "source": [
                "info_json_list = []\n",
                "for single_info_file_path in MEMBERS_DIR_PATH.glob(\"*/info.json\"):\n",
                "    with open(single_info_file_path, \"r\") as f_info:\n",
                "        member_data = json.load(f_info)\n",
                "    # if len(member_data.keys()) == 1:\n",
                "    #     info_json_path = (\n",
                "    #         KERZENDORF_GROUP_DATA / \"members\" / member_data[\"id\"] / \"info.json\"\n",
                "    #     )\n",
                "    #     member_images_dir = HOSTING_PATH / \"members\" / member_data[\"id\"] / \"media\"\n",
                "    #     with open(info_json_path, \"r\") as f_info_kl:\n",
                "    #         member_data_from_kl = json.load(f_info_kl)\n",
                "    #     member_images_dir_source = (\n",
                "    #         KERZENDORF_GROUP_DATA / \"members\" / member_data[\"id\"] / \"media\"\n",
                "    #     )\n",
                "\n",
                "    #     shutil.copytree(member_images_dir_source, member_images_dir, dirs_exist_ok=True)\n",
                "    #     info_json_list.append(member_data_from_kl)\n",
                "    # else:\n",
                "    info_json_list.append(member_data)\n",
                "info_json_df = pd.DataFrame(info_json_list)\n",
                "info_json_df.set_index(\"id\", inplace=True)\n",
                "info_json_df[\"full_name\"] = info_json_df.apply(\n",
                "    lambda row: (\n",
                "        row[\"nick_name\"] + \" \" + row[\"last_name\"]\n",
                "        if pd.notna(row[\"nick_name\"])\n",
                "        else row[\"first_name\"] + \" \" + row[\"last_name\"]\n",
                "    ),\n",
                "    axis=1,\n",
                ")\n",
                "info_json_dict = info_json_df.to_dict(\"index\")"
            ]
        },
        {
            "cell_type": "markdown",
            "metadata": {},
            "source": [
                "Reading various json files"
            ]
        },
        {
            "cell_type": "code",
            "execution_count": 72,
            "metadata": {},
            "outputs": [],
            "source": [
                "exp_df = read_member_data_jsons(\"experiences.json\")[\n",
                "    [\n",
                "        \"role\",\n",
                "        \"start_date\",\n",
                "        \"end_date\",\n",
                "        \"institution\",\n",
                "        \"group\",\n",
                "    ]\n",
                "]\n",
                "edu_df = read_member_data_jsons(\"education.json\")[\n",
                "    [\"start_date\", \"end_date\", \"institution\", \"subject\", \"degree\"]\n",
                "]"
            ]
        },
        {
            "cell_type": "markdown",
            "metadata": {},
            "source": [
                "Reading social_links json"
            ]
        },
        {
            "cell_type": "code",
            "execution_count": 73,
            "metadata": {},
            "outputs": [],
            "source": [
                "social_link_list = []\n",
                "for single_member_file_path in MEMBERS_DIR_PATH.rglob(\"social_links.json\"):\n",
                "    with open(single_member_file_path, \"r\") as fname:\n",
                "        member_social_link = json.load(fname)\n",
                "    info_json_file_path = single_member_file_path.parent.parent / \"info.json\"\n",
                "    with open(info_json_file_path, \"r\") as file_info:\n",
                "        member_info_data = json.load(file_info)\n",
                "    mem_id = member_info_data[\"id\"]\n",
                "    member_social_link[\"id\"] = mem_id\n",
                "    social_link_list.append(member_social_link)\n",
                "social_links_df = pd.DataFrame(social_link_list)\n",
                "social_links_df.set_index(\"id\", inplace=True)\n",
                "social_links_df.fillna(\"\", inplace=True)"
            ]
        },
        {
            "cell_type": "markdown",
            "metadata": {},
            "source": [
                "## Homepage"
            ]
        },
        {
            "cell_type": "code",
            "execution_count": 74,
            "metadata": {},
            "outputs": [],
            "source": [
                "recent_content = article_content_df.sort_values(\n",
                "    by=[\"category\", \"date\"], ascending=[True, False]\n",
                ")\n",
                "# Get the first row for each category using groupby and head\n",
                "recent_content = recent_content.groupby(\"category\").head(1).copy()"
            ]
        },
        {
            "cell_type": "code",
            "execution_count": 75,
            "metadata": {},
            "outputs": [],
            "source": [
                "create_page(\n",
                "    \"homepage.html.j2\",\n",
                "    \"index.html\",\n",
                "    general=general,\n",
                "    homepage=homepage,\n",
                "    recent_content=recent_content.to_dict(orient=\"records\"),\n",
                ")"
            ]
        },
        {
            "cell_type": "markdown",
            "metadata": {},
            "source": [
                "## Support Page"
            ]
        },
        {
            "cell_type": "code",
            "execution_count": 76,
            "metadata": {},
            "outputs": [],
            "source": [
                "create_page(\"support.html.j2\", \"Support.html\", general=general, support=support)"
            ]
        },
        {
            "cell_type": "markdown",
            "metadata": {},
            "source": [
                "## Contact Page"
            ]
        },
        {
            "cell_type": "code",
            "execution_count": 77,
            "metadata": {},
            "outputs": [],
            "source": [
                "create_page(\"contact.html.j2\", \"Contact.html\", general=general, contact=contact)"
            ]
        },
        {
            "cell_type": "markdown",
            "metadata": {},
            "source": [
                "## News Page"
            ]
        },
        {
            "cell_type": "code",
            "execution_count": 78,
            "metadata": {},
            "outputs": [],
            "source": [
                "create_page(\n",
                "    \"news.html.j2\",\n",
                "    \"News.html\",\n",
                "    general=general,\n",
                "    content=news_content_df,\n",
                "    category=\"news\",\n",
                "    member_data=info_json_dict,\n",
                ")"
            ]
        },
        {
            "cell_type": "markdown",
            "metadata": {},
            "source": [
                "## Individual News Page"
            ]
        },
        {
            "cell_type": "code",
            "execution_count": 79,
            "metadata": {},
            "outputs": [],
            "source": [
                "for ind_news_keys, ind_news_values in news_content_df.iterrows():\n",
                "    folder_path = HOSTING_PATH / \"news\" / page_link(ind_news_values.article_id.lower())\n",
                "    create_page(\n",
                "        \"news_page_no_twitter.html.j2\",\n",
                "        f\"news/{page_link(ind_news_values.article_id.lower())}.html\",\n",
                "        general=general,\n",
                "        content=ind_news_values,\n",
                "        member_data=info_json_dict,\n",
                "        category=\"News\",\n",
                "    )"
            ]
        },
        {
            "cell_type": "markdown",
            "metadata": {},
            "source": [
                "## Research Page"
            ]
        },
        {
            "cell_type": "code",
            "execution_count": 80,
            "metadata": {},
            "outputs": [],
            "source": [
                "create_page(\n",
                "    \"research.html.j2\",\n",
                "    \"Research.html\",\n",
                "    general=general,\n",
                "    content=research_content_df,\n",
                "    current_members=info_json_dict,\n",
                "    research=research,\n",
                ")"
            ]
        },
        {
            "cell_type": "markdown",
            "metadata": {},
            "source": [
                "## Sub-Research Page"
            ]
        },
        {
            "cell_type": "code",
            "execution_count": 81,
            "metadata": {},
            "outputs": [
                {
                    "ename": "UndefinedError",
                    "evalue": "'dict object' has no attribute 'Overview'",
                    "output_type": "error",
                    "traceback": [
                        "\u001b[0;31m---------------------------------------------------------------------------\u001b[0m",
                        "\u001b[0;31mUndefinedError\u001b[0m                            Traceback (most recent call last)",
                        "Cell \u001b[0;32mIn[81], line 6\u001b[0m\n\u001b[1;32m      1\u001b[0m SUB_RESEARCH_PATH\u001b[38;5;241m.\u001b[39mmkdir(parents\u001b[38;5;241m=\u001b[39m\u001b[38;5;28;01mTrue\u001b[39;00m, exist_ok\u001b[38;5;241m=\u001b[39m\u001b[38;5;28;01mTrue\u001b[39;00m)\n\u001b[1;32m      3\u001b[0m \u001b[38;5;28;01mfor\u001b[39;00m category \u001b[38;5;129;01min\u001b[39;00m article_content_df\u001b[38;5;241m.\u001b[39mloc[\n\u001b[1;32m      4\u001b[0m     article_content_df\u001b[38;5;241m.\u001b[39mcategory \u001b[38;5;241m!=\u001b[39m \u001b[38;5;124m\"\u001b[39m\u001b[38;5;124mNews\u001b[39m\u001b[38;5;124m\"\u001b[39m, \u001b[38;5;124m\"\u001b[39m\u001b[38;5;124mcategory\u001b[39m\u001b[38;5;124m\"\u001b[39m\n\u001b[1;32m      5\u001b[0m ]\u001b[38;5;241m.\u001b[39munique():\n\u001b[0;32m----> 6\u001b[0m     \u001b[43mcreate_page\u001b[49m\u001b[43m(\u001b[49m\n\u001b[1;32m      7\u001b[0m \u001b[43m        \u001b[49m\u001b[38;5;124;43m\"\u001b[39;49m\u001b[38;5;124;43msub_research_frontpage.html.j2\u001b[39;49m\u001b[38;5;124;43m\"\u001b[39;49m\u001b[43m,\u001b[49m\n\u001b[1;32m      8\u001b[0m \u001b[43m        \u001b[49m\u001b[38;5;124;43mf\u001b[39;49m\u001b[38;5;124;43m\"\u001b[39;49m\u001b[38;5;124;43msub_research/\u001b[39;49m\u001b[38;5;132;43;01m{\u001b[39;49;00m\u001b[43mpage_link\u001b[49m\u001b[43m(\u001b[49m\u001b[43mcategory\u001b[49m\u001b[38;5;241;43m.\u001b[39;49m\u001b[43mlower\u001b[49m\u001b[43m(\u001b[49m\u001b[43m)\u001b[49m\u001b[43m)\u001b[49m\u001b[38;5;132;43;01m}\u001b[39;49;00m\u001b[38;5;124;43m.html\u001b[39;49m\u001b[38;5;124;43m\"\u001b[39;49m\u001b[43m,\u001b[49m\n\u001b[1;32m      9\u001b[0m \u001b[43m        \u001b[49m\u001b[43mgeneral\u001b[49m\u001b[38;5;241;43m=\u001b[39;49m\u001b[43mgeneral\u001b[49m\u001b[43m,\u001b[49m\n\u001b[1;32m     10\u001b[0m \u001b[43m        \u001b[49m\u001b[43mresearch\u001b[49m\u001b[38;5;241;43m=\u001b[39;49m\u001b[43mresearch\u001b[49m\u001b[43m,\u001b[49m\n\u001b[1;32m     11\u001b[0m \u001b[43m        \u001b[49m\u001b[43mcontent\u001b[49m\u001b[38;5;241;43m=\u001b[39;49m\u001b[43mresearch_content_df\u001b[49m\u001b[43m,\u001b[49m\n\u001b[1;32m     12\u001b[0m \u001b[43m        \u001b[49m\u001b[43mcategory\u001b[49m\u001b[38;5;241;43m=\u001b[39;49m\u001b[43mcategory\u001b[49m\u001b[43m,\u001b[49m\n\u001b[1;32m     13\u001b[0m \u001b[43m        \u001b[49m\u001b[43mcurrent_members\u001b[49m\u001b[38;5;241;43m=\u001b[39;49m\u001b[43minfo_json_dict\u001b[49m\u001b[43m,\u001b[49m\n\u001b[1;32m     14\u001b[0m \u001b[43m    \u001b[49m\u001b[43m)\u001b[49m\n",
                        "Cell \u001b[0;32mIn[64], line 23\u001b[0m, in \u001b[0;36mcreate_page\u001b[0;34m(template, html, **kwargs)\u001b[0m\n\u001b[1;32m     21\u001b[0m page_html_path \u001b[38;5;241m=\u001b[39m HOSTING_PATH \u001b[38;5;241m/\u001b[39m html\n\u001b[1;32m     22\u001b[0m page_html_path\u001b[38;5;241m.\u001b[39mparent\u001b[38;5;241m.\u001b[39mmkdir(parents\u001b[38;5;241m=\u001b[39m\u001b[38;5;28;01mTrue\u001b[39;00m, exist_ok\u001b[38;5;241m=\u001b[39m\u001b[38;5;28;01mTrue\u001b[39;00m)\n\u001b[0;32m---> 23\u001b[0m page_content \u001b[38;5;241m=\u001b[39m \u001b[43mpage_template\u001b[49m\u001b[38;5;241;43m.\u001b[39;49m\u001b[43mrender\u001b[49m\u001b[43m(\u001b[49m\u001b[43mTEMPLATE_LEVEL\u001b[49m\u001b[38;5;241;43m=\u001b[39;49m\u001b[43mtemplate_level\u001b[49m\u001b[43m,\u001b[49m\u001b[43m \u001b[49m\u001b[38;5;241;43m*\u001b[39;49m\u001b[38;5;241;43m*\u001b[39;49m\u001b[43mkwargs\u001b[49m\u001b[43m)\u001b[49m\n\u001b[1;32m     24\u001b[0m \u001b[38;5;28;01mwith\u001b[39;00m \u001b[38;5;28mopen\u001b[39m(page_html_path, mode\u001b[38;5;241m=\u001b[39m\u001b[38;5;124m\"\u001b[39m\u001b[38;5;124mw\u001b[39m\u001b[38;5;124m\"\u001b[39m, encoding\u001b[38;5;241m=\u001b[39m\u001b[38;5;124m\"\u001b[39m\u001b[38;5;124mutf-8\u001b[39m\u001b[38;5;124m\"\u001b[39m) \u001b[38;5;28;01mas\u001b[39;00m page:\n\u001b[1;32m     25\u001b[0m     page\u001b[38;5;241m.\u001b[39mwrite(page_content)\n",
                        "File \u001b[0;32m~/miniforge3/lib/python3.10/site-packages/jinja2-3.1.4-py3.10.egg/jinja2/environment.py:1304\u001b[0m, in \u001b[0;36mTemplate.render\u001b[0;34m(self, *args, **kwargs)\u001b[0m\n\u001b[1;32m   1302\u001b[0m     \u001b[38;5;28;01mreturn\u001b[39;00m \u001b[38;5;28mself\u001b[39m\u001b[38;5;241m.\u001b[39menvironment\u001b[38;5;241m.\u001b[39mconcat(\u001b[38;5;28mself\u001b[39m\u001b[38;5;241m.\u001b[39mroot_render_func(ctx))  \u001b[38;5;66;03m# type: ignore\u001b[39;00m\n\u001b[1;32m   1303\u001b[0m \u001b[38;5;28;01mexcept\u001b[39;00m \u001b[38;5;167;01mException\u001b[39;00m:\n\u001b[0;32m-> 1304\u001b[0m     \u001b[38;5;28;43mself\u001b[39;49m\u001b[38;5;241;43m.\u001b[39;49m\u001b[43menvironment\u001b[49m\u001b[38;5;241;43m.\u001b[39;49m\u001b[43mhandle_exception\u001b[49m\u001b[43m(\u001b[49m\u001b[43m)\u001b[49m\n",
                        "File \u001b[0;32m~/miniforge3/lib/python3.10/site-packages/jinja2-3.1.4-py3.10.egg/jinja2/environment.py:939\u001b[0m, in \u001b[0;36mEnvironment.handle_exception\u001b[0;34m(self, source)\u001b[0m\n\u001b[1;32m    934\u001b[0m \u001b[38;5;250m\u001b[39m\u001b[38;5;124;03m\"\"\"Exception handling helper.  This is used internally to either raise\u001b[39;00m\n\u001b[1;32m    935\u001b[0m \u001b[38;5;124;03mrewritten exceptions or return a rendered traceback for the template.\u001b[39;00m\n\u001b[1;32m    936\u001b[0m \u001b[38;5;124;03m\"\"\"\u001b[39;00m\n\u001b[1;32m    937\u001b[0m \u001b[38;5;28;01mfrom\u001b[39;00m \u001b[38;5;21;01m.\u001b[39;00m\u001b[38;5;21;01mdebug\u001b[39;00m \u001b[38;5;28;01mimport\u001b[39;00m rewrite_traceback_stack\n\u001b[0;32m--> 939\u001b[0m \u001b[38;5;28;01mraise\u001b[39;00m rewrite_traceback_stack(source\u001b[38;5;241m=\u001b[39msource)\n",
                        "File \u001b[0;32m~/workspace/code/tardis-main/kerzendorf-group/groupwebsite_generator/templates/sub_research_frontpage.html.j2:1\u001b[0m, in \u001b[0;36mtop-level template code\u001b[0;34m()\u001b[0m\n\u001b[0;32m----> 1\u001b[0m {% extends 'base.html.j2' %}\n\u001b[1;32m      2\u001b[0m \n\u001b[1;32m      3\u001b[0m {% block title %}\n",
                        "File \u001b[0;32m~/workspace/code/tardis-main/kerzendorf-group/groupwebsite_generator/templates/base.html.j2:35\u001b[0m, in \u001b[0;36mtop-level template code\u001b[0;34m()\u001b[0m\n\u001b[1;32m     33\u001b[0m <!--//header-->\n\u001b[1;32m     34\u001b[0m \n\u001b[0;32m---> 35\u001b[0m {% block content %}\n\u001b[1;32m     36\u001b[0m {% endblock %}\n\u001b[1;32m     37\u001b[0m \n",
                        "File \u001b[0;32m~/workspace/code/tardis-main/kerzendorf-group/groupwebsite_generator/templates/sub_research_frontpage.html.j2:81\u001b[0m, in \u001b[0;36mblock 'content'\u001b[0;34m()\u001b[0m\n\u001b[1;32m     79\u001b[0m     <div class=\"row\">\n\u001b[1;32m     80\u001b[0m         <p class=\"mb-4\" style=\"padding-bottom: 3%; text-align:left; font-size: 18px;\">{{\n\u001b[0;32m---> 81\u001b[0m             research[category]['about'] }}</p>\n\u001b[1;32m     82\u001b[0m     </div>\n\u001b[1;32m     83\u001b[0m </div>\n",
                        "File \u001b[0;32m~/miniforge3/lib/python3.10/site-packages/jinja2-3.1.4-py3.10.egg/jinja2/environment.py:468\u001b[0m, in \u001b[0;36mEnvironment.getitem\u001b[0;34m(self, obj, argument)\u001b[0m\n\u001b[1;32m    466\u001b[0m \u001b[38;5;250m\u001b[39m\u001b[38;5;124;03m\"\"\"Get an item or attribute of an object but prefer the item.\"\"\"\u001b[39;00m\n\u001b[1;32m    467\u001b[0m \u001b[38;5;28;01mtry\u001b[39;00m:\n\u001b[0;32m--> 468\u001b[0m     \u001b[38;5;28;01mreturn\u001b[39;00m \u001b[43mobj\u001b[49m\u001b[43m[\u001b[49m\u001b[43margument\u001b[49m\u001b[43m]\u001b[49m\n\u001b[1;32m    469\u001b[0m \u001b[38;5;28;01mexcept\u001b[39;00m (\u001b[38;5;167;01mAttributeError\u001b[39;00m, \u001b[38;5;167;01mTypeError\u001b[39;00m, \u001b[38;5;167;01mLookupError\u001b[39;00m):\n\u001b[1;32m    470\u001b[0m     \u001b[38;5;28;01mif\u001b[39;00m \u001b[38;5;28misinstance\u001b[39m(argument, \u001b[38;5;28mstr\u001b[39m):\n",
                        "\u001b[0;31mUndefinedError\u001b[0m: 'dict object' has no attribute 'Overview'"
                    ]
                }
            ],
            "source": [
                "SUB_RESEARCH_PATH.mkdir(parents=True, exist_ok=True)\n",
                "\n",
                "for category in article_content_df.loc[\n",
                "    article_content_df.category != \"News\", \"category\"\n",
                "].unique():\n",
                "    create_page(\n",
                "        \"sub_research_frontpage.html.j2\",\n",
                "        f\"sub_research/{page_link(category.lower())}.html\",\n",
                "        general=general,\n",
                "        research=research,\n",
                "        content=research_content_df,\n",
                "        category=category,\n",
                "        current_members=info_json_dict,\n",
                "    )"
            ]
        },
        {
            "cell_type": "markdown",
            "metadata": {},
            "source": [
                "## Individual Research Page"
            ]
        },
        {
            "cell_type": "code",
            "execution_count": null,
            "metadata": {},
            "outputs": [],
            "source": [
                "for ind_research_keys, ind_research_values in research_content_df.iterrows():\n",
                "    destination_research_path = f\"sub_research/{page_link(ind_research_values.category.lower())}/{page_link(ind_research_values.article_id.lower())}.html\"\n",
                "    if ind_research_values['category'] == \"Software\":\n",
                "        destination_research_path = f\"sub_research/{page_link(ind_research_values.article_id.lower())}.html\"\n",
                "\n",
                "    folder_path = SUB_RESEARCH_PATH / page_link(ind_research_values.category.lower())\n",
                "    folder_path.mkdir(parents=True, exist_ok=True)\n",
                "    create_page(\n",
                "        \"research_page_no_twitter.html.j2\",\n",
                "        destination_research_path,\n",
                "        general=general,\n",
                "        content=ind_research_values,\n",
                "        member_data=info_json_dict,\n",
                "        article_id=ind_research_values[\"article_id\"],\n",
                "    )"
            ]
        },
        {
            "cell_type": "markdown",
            "metadata": {},
            "source": [
                "## Current members Page"
            ]
        },
        {
            "cell_type": "code",
            "execution_count": null,
            "metadata": {},
            "outputs": [],
            "source": [
                "filtered_exp_df = exp_df[exp_df[\"end_date\"].isna()]\n",
                "def most_recent_row(group):\n",
                "    return group[group[\"start_date\"] == group[\"start_date\"].max()]\n",
                "filtered_exp_df_most_recent = (\n",
                "    filtered_exp_df.groupby(\"id\").apply(most_recent_row).droplevel(0)\n",
                ")"
            ]
        },
        {
            "cell_type": "code",
            "execution_count": null,
            "metadata": {},
            "outputs": [],
            "source": [
                "filtered_edu_df = edu_df[(edu_df[\"end_date\"].isna()) & (edu_df[\"institution\"] == INSTITUTION_FILTER)]"
            ]
        },
        {
            "cell_type": "code",
            "execution_count": null,
            "metadata": {},
            "outputs": [],
            "source": [
                "exp_ids = filtered_exp_df_most_recent.index.unique()\n",
                "edu_ids = filtered_edu_df.index.unique()\n",
                "common_ids = list(set(exp_ids).union(edu_ids))\n",
                "current_member_df = info_json_df.loc[common_ids]"
            ]
        },
        {
            "cell_type": "code",
            "execution_count": null,
            "metadata": {},
            "outputs": [],
            "source": [
                "for m_key, m_value in current_member_df.iterrows():\n",
                "    if m_key in filtered_edu_df.index:\n",
                "        if (\n",
                "            filtered_edu_df.loc[m_key, \"degree\"] == \"Bachelors\"\n",
                "            and filtered_edu_df.loc[m_key, \"institution\"] == INSTITUTION_FILTER\n",
                "        ):\n",
                "            current_academic_role = \"Undergraduate Student\"\n",
                "        if filtered_edu_df.loc[m_key, \"degree\"] in [\"PhD\", \"Masters\"]:\n",
                "            current_academic_role = \"Graduate Student\"\n",
                "    elif m_key in filtered_exp_df_most_recent.index:\n",
                "        current_academic_role = filtered_exp_df_most_recent.loc[m_key, \"role\"]\n",
                "    else:\n",
                "        current_academic_role = \"\"\n",
                "    current_member_df.loc[m_key,\"academic_role\"] = current_academic_role"
            ]
        },
        {
            "cell_type": "code",
            "execution_count": null,
            "metadata": {},
            "outputs": [],
            "source": [
                "projects_df = read_member_data_jsons(\"projects.json\").sort_values(\n",
                "    by=[\"end_date\"], ascending=False\n",
                ")"
            ]
        },
        {
            "cell_type": "code",
            "execution_count": null,
            "metadata": {},
            "outputs": [],
            "source": [
                "for mem_key, mem_value in current_member_df.iterrows():\n",
                "    if mem_key in projects_df.index:\n",
                "        mem_projects = projects_df.loc[mem_key]\n",
                "        if not mem_projects.empty:\n",
                "            if isinstance(mem_projects, pd.Series):\n",
                "                current_project_title = mem_projects[\"project_title\"]\n",
                "            else:\n",
                "                current_project_title = mem_projects.iloc[0][\"project_title\"]\n",
                "    else:\n",
                "        current_project_title = \"\"\n",
                "    current_member_df.loc[mem_key, \"current_project_title\"] = current_project_title"
            ]
        },
        {
            "cell_type": "code",
            "execution_count": null,
            "metadata": {},
            "outputs": [],
            "source": [
                "create_page(\n",
                "    \"current_members.html.j2\",\n",
                "    \"current_members.html\",\n",
                "    general=general,\n",
                "    current_members=current_member_df.to_dict(\"index\"),\n",
                "    socials=social_links_df.to_dict(\"index\"),\n",
                ")"
            ]
        },
        {
            "cell_type": "markdown",
            "metadata": {},
            "source": [
                "## Alumni Members Page"
            ]
        },
        {
            "cell_type": "code",
            "execution_count": null,
            "metadata": {},
            "outputs": [],
            "source": [
                "def most_recent_row_end_date(group):\n",
                "    return group[group[\"end_date\"] == group[\"end_date\"].max()]"
            ]
        },
        {
            "cell_type": "code",
            "execution_count": null,
            "metadata": {},
            "outputs": [],
            "source": [
                "alumni_filtered_edu_df = edu_df[edu_df[\"end_date\"].notna()]\n",
                "req_edu_df = alumni_filtered_edu_df.loc[\n",
                "    alumni_filtered_edu_df[\"institution\"] == INSTITUTION_FILTER\n",
                "]\n",
                "req_edu_df_most_recent = req_edu_df.groupby(\"id\").apply(most_recent_row_end_date).droplevel(0)\n",
                "\n",
                "\n",
                "alumni_filtered_exp_df = exp_df[exp_df[\"end_date\"].notna()]\n",
                "req_exp_df = alumni_filtered_exp_df.loc[\n",
                "    (alumni_filtered_exp_df[\"institution\"] == INSTITUTION_FILTER)\n",
                "    | (alumni_filtered_exp_df[\"group\"].isin(GROUP_FILTER))\n",
                "]\n",
                "req_exp_df_most_recent = (\n",
                "    req_exp_df.groupby(\"id\").apply(most_recent_row_end_date).droplevel(0)\n",
                ")"
            ]
        },
        {
            "cell_type": "code",
            "execution_count": null,
            "metadata": {},
            "outputs": [],
            "source": [
                "alumni_exp_ids = req_exp_df_most_recent.index.unique()\n",
                "alumni_edu_ids = req_edu_df_most_recent.index.unique()\n",
                "alumni_common_ids = list(set(alumni_exp_ids).union(alumni_edu_ids))\n",
                "alumni_member_df = info_json_df.loc[alumni_common_ids]"
            ]
        },
        {
            "cell_type": "code",
            "execution_count": null,
            "metadata": {},
            "outputs": [],
            "source": [
                "# Get the indices of duplicates using set intersection\n",
                "duplicate_indices = set(current_member_df.index) & set(alumni_member_df.index)\n",
                "\n",
                "# Drop duplicates from alumni_members_df based on the indices\n",
                "alumni_member_df.drop(duplicate_indices, inplace=True)"
            ]
        },
        {
            "cell_type": "code",
            "execution_count": null,
            "metadata": {},
            "outputs": [],
            "source": [
                "for m_key, m_value in alumni_member_df.iterrows():\n",
                "    if m_key in req_edu_df_most_recent.index:\n",
                "        if (\n",
                "            req_edu_df_most_recent.loc[m_key, \"degree\"] == \"Bachelors\"\n",
                "            and req_edu_df_most_recent.loc[m_key, \"institution\"] == INSTITUTION_FILTER\n",
                "        ):\n",
                "            current_academic_role = \"Undergraduate Student\"\n",
                "        if req_edu_df_most_recent.loc[m_key, \"degree\"] in [\"PhD\", \"Masters\"]:\n",
                "            current_academic_role = \"Graduate Student\"\n",
                "    elif m_key in req_exp_df_most_recent.index:\n",
                "        current_academic_role = req_exp_df_most_recent.loc[m_key, \"role\"]\n",
                "    else:\n",
                "        current_academic_role = \" \"\n",
                "    alumni_member_df.loc[m_key, \"academic_role\"] = str(current_academic_role)\n",
                "alumni_member_df['academic_role'] = alumni_member_df['academic_role'].fillna(\"\")"
            ]
        },
        {
            "cell_type": "code",
            "execution_count": null,
            "metadata": {},
            "outputs": [],
            "source": [
                "create_page(\n",
                "    \"alumni_members.html.j2\",\n",
                "    \"alumni_members.html\",\n",
                "    general=general,\n",
                "    alumni_members=alumni_member_df.to_dict(\"index\"),\n",
                ")"
            ]
        },
        {
            "attachments": {},
            "cell_type": "markdown",
            "metadata": {},
            "source": [
                "## Individual People Page"
            ]
        },
        {
            "cell_type": "code",
            "execution_count": null,
            "metadata": {},
            "outputs": [],
            "source": [
                "def group_df(df):\n",
                "    new_df = (df.groupby(\"id\")\n",
                "    .apply(lambda x: x.to_dict(orient=\"records\"))\n",
                "    .reset_index(name=\"info\")\n",
                "    .set_index(\"id\")\n",
                "    .to_dict(orient=\"index\"))\n",
                "    return new_df"
            ]
        },
        {
            "cell_type": "code",
            "execution_count": null,
            "metadata": {},
            "outputs": [],
            "source": [
                "document_df = read_member_data_jsons(\"documents.json\")"
            ]
        },
        {
            "cell_type": "code",
            "execution_count": null,
            "metadata": {},
            "outputs": [],
            "source": [
                "outreach_df = read_member_data_jsons(\"outreach.json\")\n",
                "if not outreach_df.empty:\n",
                "    outreach_grouped = group_df(outreach_df)"
            ]
        },
        {
            "cell_type": "code",
            "execution_count": null,
            "metadata": {},
            "outputs": [],
            "source": [
                "awards_df = read_member_data_jsons(\"awards.json\")\n",
                "awards_grouped = group_df(awards_df)\n",
                "\n",
                "exp_grouped = group_df(exp_df)\n",
                "edu_grouped = group_df(edu_df)\n",
                "projects_grouped = group_df(projects_df)"
            ]
        },
        {
            "cell_type": "code",
            "execution_count": null,
            "metadata": {},
            "outputs": [],
            "source": [
                "for member_id, member_data in info_json_df.iterrows():\n",
                "    if member_id in current_member_df.index:\n",
                "        info_json_df.at[member_id, \"academic_role\"] = current_member_df.loc[\n",
                "            member_id, \"academic_role\"\n",
                "        ]\n",
                "        info_json_df.at[member_id, \"current_project_title\"] = current_member_df.loc[\n",
                "            member_id, \"current_project_title\"\n",
                "        ]\n",
                "    elif member_id in alumni_member_df.index:\n",
                "        info_json_df.at[member_id, \"academic_role\"] = alumni_member_df.loc[\n",
                "            member_id, \"academic_role\"\n",
                "        ]\n",
                "alumni_member_df.replace(\"nan\", np.nan, inplace=True)\n",
                "alumni_member_df.fillna(\"\", inplace=True)\n",
                "current_member_df.fillna(\"\", inplace=True)"
            ]
        },
        {
            "cell_type": "code",
            "execution_count": null,
            "metadata": {},
            "outputs": [],
            "source": [
                "for person_id, person_data in info_json_df.iterrows():\n",
                "    create_page(\n",
                "        \"individual_person.html.j2\",\n",
                "        f\"members/{person_id}/{person_id}.html\",\n",
                "        general=general,\n",
                "        member_id=person_id,\n",
                "        member_data=person_data,\n",
                "        socials=social_links_df.to_dict(\"index\"),\n",
                "        documents=document_df.to_dict(\"index\"),\n",
                "        education=edu_grouped,\n",
                "        experience=exp_grouped,\n",
                "        projects=projects_grouped,\n",
                "        awards=awards_grouped,\n",
                "        outreach=outreach_df,\n",
                "        section_headings=INDIVIDUAL_MEMBER_SECTION_MAP,\n",
                "        content=article_content_df.to_dict(\"index\"),\n",
                "    )"
            ]
        }
    ],
    "metadata": {
        "kernelspec": {
            "display_name": "Python 3",
            "language": "python",
            "name": "python3"
        },
        "language_info": {
            "codemirror_mode": {
                "name": "ipython",
                "version": 3
            },
            "file_extension": ".py",
            "mimetype": "text/x-python",
            "name": "python",
            "nbconvert_exporter": "python",
            "pygments_lexer": "ipython3",
            "version": "3.10.14"
        },
        "orig_nbformat": 4
    },
    "nbformat": 4,
    "nbformat_minor": 2
}
