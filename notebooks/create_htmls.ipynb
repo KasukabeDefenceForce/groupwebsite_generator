{
   "cells": [
      {
         "attachments": {},
         "cell_type": "markdown",
         "metadata": {
            "jp-MarkdownHeadingCollapsed": true
         },
         "source": [
            "### This notebook consist of code for creating the html files for the website each time data is updated."
         ]
      },
      {
         "attachments": {},
         "cell_type": "markdown",
         "metadata": {},
         "source": [
            "# Set-up"
         ]
      },
      {
         "cell_type": "markdown",
         "metadata": {},
         "source": [
            "Importing classes"
         ]
      },
      {
         "cell_type": "code",
         "execution_count": 42,
         "metadata": {
            "ExecuteTime": {
               "end_time": "2023-11-21T07:07:36.145701234Z",
               "start_time": "2023-11-21T07:07:35.993568325Z"
            }
         },
         "outputs": [],
         "source": [
            "import json\n",
            "import pandas as pd\n",
            "from jinja2 import Environment, FileSystemLoader\n",
            "from pathlib import Path\n",
            "import shutil\n",
            "from datetime import datetime, date\n",
            "import numpy as np\n"
         ]
      },
      {
         "cell_type": "markdown",
         "metadata": {},
         "source": [
            "Defining paths"
         ]
      },
      {
         "cell_type": "code",
         "execution_count": 43,
         "metadata": {
            "ExecuteTime": {
               "end_time": "2023-11-21T07:07:36.276371007Z",
               "start_time": "2023-11-21T07:07:36.010519700Z"
            }
         },
         "outputs": [],
         "source": [
            "GROUP_DATA_DIR = Path(\"../../group-data\")\n",
            "TEMPLATE_DIR_PATH = GROUP_DATA_DIR.parent / \"groupwebsite_generator\" / \"templates\"\n",
            "WEBSITE_DATA_PATH = GROUP_DATA_DIR / \"website_data/\"\n",
            "HOSTING_PATH = GROUP_DATA_DIR.parent / \"kerzendorf-group.github.io\"\n",
            "ARTICLE_DIR_PATH = Path(\"../../research_news/articles\")\n",
            "ARTICLE_IMAGE_PATH = Path(\"../../research_news/images\")\n",
            "ARTICLE_IMAGE_DESTINATION_DIR = (HOSTING_PATH / \"website_files\" / \"images\" / \"article_content\")\n",
            "MEMBERS_DIR_PATH = GROUP_DATA_DIR / \"members/\"\n",
            "CONTENT_DIR_PATH = WEBSITE_DATA_PATH / \"content\"\n",
            "SUB_RESEARCH_PATH = HOSTING_PATH / \"sub_research\"\n",
            "\n",
            "ROLE_HIERARCHY_PATH = WEBSITE_DATA_PATH / \"role_hierarchy.json\""
         ]
      },
      {
         "cell_type": "markdown",
         "metadata": {
            "jp-MarkdownHeadingCollapsed": true
         },
         "source": [
            "Setting up jinja environment"
         ]
      },
      {
         "cell_type": "code",
         "execution_count": 44,
         "metadata": {
            "ExecuteTime": {
               "end_time": "2023-11-21T07:07:36.311056453Z",
               "start_time": "2023-11-21T07:07:36.038221785Z"
            }
         },
         "outputs": [],
         "source": [
            "# Function to create proper HTML file names by replacing spaces with underscores\n",
            "def page_link(a):\n",
            "    \"\"\"Return the HTML file name after replacing blank spaces(\" \") with underscores(\"-\")\"\"\"\n",
            "    return a.replace(\" \", \"_\") if \" \" in a else a\n",
            "\n",
            "environment = Environment(\n",
            "    loader=FileSystemLoader(TEMPLATE_DIR_PATH), extensions=[\"jinja2.ext.loopcontrols\", \"jinja2.ext.do\"]\n",
            ")\n",
            "environment.globals[\"page_link\"] = page_link"
         ]
      },
      {
         "cell_type": "markdown",
         "metadata": {
            "jp-MarkdownHeadingCollapsed": true
         },
         "source": [
            "# Data Processing Setup"
         ]
      },
      {
         "cell_type": "markdown",
         "metadata": {},
         "source": [
            "Data Processing Parameters"
         ]
      },
      {
         "cell_type": "code",
         "execution_count": 45,
         "metadata": {
            "ExecuteTime": {
               "end_time": "2023-11-21T07:07:36.308005773Z",
               "start_time": "2023-11-21T07:07:36.024555660Z"
            }
         },
         "outputs": [],
         "source": [
            "# Needed columns for articles\n",
            "ARTICLE_METADATA_FIELDS = [\n",
            "    \"article_id\",\n",
            "    \"category\",\n",
            "    \"date\",\n",
            "    \"tags\",\n",
            "    \"title\",\n",
            "    \"cover_image\",\n",
            "    \"short_description\"\n",
            "]\n",
            "# Groups and institution used in filtering data\n",
            "GROUP_FILTER = [\"DTI\", \"TARDIS\", \"ICER\", \"kerzendorf\"]\n",
            "INSTITUTION_FILTER = \"Michigan State University\"\n",
            "\n",
            "# Map roles to standardized roles for consistency\n",
            "ROLE_MAP = {\n",
            "    \"Assistant Professor\": \"Professor\",\n",
            "    \"Professorial Assistant\": \"Undergraduate Student\",\n",
            "    \"Visiting Researcher\": \"Postdoctoral Researcher\"\n",
            "}\n",
            "\n",
            "# Map degrees to standardized academic levels\n",
            "DEGREE_MAP = {\n",
            "    \"Masters\": \"Graduate Student\",\n",
            "    \"PhD\": \"Postdoctorate\",  #  if end_date is present\n",
            "    \"Bachelors\": \"Undergraduate Student\",\n",
            "}\n",
            "\n",
            "INDIVIDUAL_MEMBER_SECTION_MAP = {\n",
            "    \"education\": \"Education\",\n",
            "    \"experiences\": \"Experience\",\n",
            "    \"projects\": \"Projects\",\n",
            "    \"awards\": \"Awards & Recognition\",\n",
            "    \"outreach\": \"Outreach Programs\",\n",
            "}"
         ]
      },
      {
         "cell_type": "markdown",
         "metadata": {
            "jp-MarkdownHeadingCollapsed": true
         },
         "source": [
            "# Functions for Data Handling"
         ]
      },
      {
         "cell_type": "code",
         "execution_count": 46,
         "metadata": {},
         "outputs": [],
         "source": [
            "def loading_website_data(file_to_load):\n",
            "    \"\"\"\n",
            "    Load data from JSON files specified in a list of file names.\n",
            "\n",
            "    Parameters:\n",
            "    ----------\n",
            "    json_data_list : list of str\n",
            "        A list of file names (without extension) to load as JSON.\n",
            "\n",
            "    Returns:\n",
            "    -------\n",
            "    dict\n",
            "        A dictionary where keys are file names and values are the corresponding JSON data.\n",
            "\n",
            "    Raises:\n",
            "    ------\n",
            "    FileNotFoundError:\n",
            "        If a specified file does not exist.\n",
            "    json.JSONDecodeError:\n",
            "        If there's an issue decoding the JSON content from a file.\n",
            "\n",
            "    \"\"\"\n",
            "    loaded_data = {}\n",
            "    file_matches = WEBSITE_DATA_PATH/ f\"{file_to_load}.json\"\n",
            "    if file_matches:\n",
            "        try:\n",
            "            with open(file_matches, \"r\") as json_file:\n",
            "                loaded_data = json.load(json_file)\n",
            "        except json.JSONDecodeError:\n",
            "            print(f\"Error decoding JSON in '{file_matches}'.\")\n",
            "    else:\n",
            "        print(f\"File '{file_to_load}.json' not found.\")\n",
            "\n",
            "    return loaded_data"
         ]
      },
      {
         "cell_type": "code",
         "execution_count": 47,
         "metadata": {},
         "outputs": [],
         "source": [
            "def read_member_data_jsons(file_to_read):\n",
            "    member_data_list = []\n",
            "    member_data_df = pd.DataFrame([])\n",
            "    for single_info_file_path in MEMBERS_DIR_PATH.glob(\"*/info.json\"):\n",
            "        with open(single_info_file_path, \"r\") as f_info:\n",
            "            member_data = json.load(f_info)\n",
            "        member_unique_id = member_data[\"id\"]\n",
            "        file_to_read_path = single_info_file_path.parent / \"jsons\" / file_to_read\n",
            "\n",
            "        if file_to_read_path.exists():\n",
            "            with file_to_read_path.open(\"r\") as f_data:\n",
            "                member_other_data = json.load(f_data)\n",
            "            for entry in member_other_data:\n",
            "                entry[\"id\"] = member_unique_id\n",
            "            member_data_list.append(\n",
            "                pd.DataFrame(member_other_data)\n",
            "            )\n",
            "        # else:\n",
            "        #     data_path_in_kl = KERZENDORF_GROUP_DATA / \"members\" / member_unique_id / \"jsons\" / file_to_read\n",
            "        #     if data_path_in_kl.exists():\n",
            "        #         with data_path_in_kl.open(\"r\") as data_file:\n",
            "        #             member_other_data_kl = json.load(data_file)\n",
            "        #         for entry in member_other_data_kl:\n",
            "        #             entry[\"id\"] = member_unique_id\n",
            "        #         member_data_list.append(\n",
            "        #             pd.DataFrame(member_other_data_kl)\n",
            "        #         )\n",
            "\n",
            "    if member_data_list:\n",
            "        member_data_df = pd.concat(\n",
            "            member_data_list, ignore_index=True\n",
            "        )\n",
            "        member_data_df.set_index(\"id\", inplace=True)\n",
            "\n",
            "    return member_data_df"
         ]
      },
      {
         "cell_type": "code",
         "execution_count": 48,
         "metadata": {},
         "outputs": [],
         "source": [
            "def set_new_image_path(old_image_path):\n",
            "    image_source = ARTICLE_IMAGE_PATH / old_image_path.name\n",
            "    image_destination = ARTICLE_IMAGE_DESTINATION_DIR / old_image_path.name\n",
            "    website_files_index = image_destination.parts.index(\"website_files\")\n",
            "    new_image_path = Path(*image_destination.parts[website_files_index:])\n",
            "    shutil.copy2(image_source, image_destination)\n",
            "    return str(new_image_path)"
         ]
      },
      {
         "cell_type": "markdown",
         "metadata": {
            "jp-MarkdownHeadingCollapsed": true
         },
         "source": [
            "# DataFrame Creation and Processing"
         ]
      },
      {
         "cell_type": "markdown",
         "metadata": {},
         "source": [
            "Creating dataframes for articles which can be updated further "
         ]
      },
      {
         "cell_type": "code",
         "execution_count": 49,
         "metadata": {
            "ExecuteTime": {
               "end_time": "2023-11-21T07:07:36.355136270Z",
               "start_time": "2023-11-21T07:07:36.080422459Z"
            }
         },
         "outputs": [],
         "source": [
            "# Reading all articles\n",
            "article_content_list = []\n",
            "today = date.today()\n",
            "for content_file_name in ARTICLE_DIR_PATH.iterdir():\n",
            "    with open(content_file_name, \"r\") as fcontent:\n",
            "        article_content = json.load(fcontent)\n",
            "    today_datetime = datetime.combine(today, datetime.min.time())\n",
            "    article_date = datetime.strptime(article_content[\"date\"], \"%m-%d-%Y\")\n",
            "    if \"kg\" in article_content[\"platforms\"] and article_date <= today_datetime:\n",
            "        image_path = Path(article_content[\"cover_image\"])\n",
            "        article_content[\"cover_image\"] = set_new_image_path(image_path)\n",
            "        for content_key, content_value in article_content[\"content\"].items():\n",
            "            if \"img\" in content_key:\n",
            "                new_content_value = set_new_image_path(Path(content_value))\n",
            "                article_content[\"content\"][content_key] = new_content_value\n",
            "        article_content_list.append(article_content)\n",
            "article_content_df = pd.DataFrame(article_content_list)\n",
            "\n",
            "article_content_df[\"date\"] = pd.to_datetime(\n",
            "    article_content_df[\"date\"], format=\"%m-%d-%Y\"\n",
            ")\n",
            "\n",
            "article_content_df[\"cover_image_height\"] = (\n",
            "    article_content_df[\"cover_image_height\"].fillna(\"330px\").replace(\"\", \"330px\")\n",
            ")\n",
            "article_content_df[\"cover_image_width\"] = (\n",
            "    article_content_df[\"cover_image_width\"].fillna(\"520px\").replace(\"\", \"520px\")\n",
            ")\n",
            "\n",
            "#THis line is only for kerzendorf lab and is not needed on dti\n",
            "article_content_df[\"category\"] = article_content_df[\"category\"].replace(\n",
            "    \"Overview\", \"Computational Metascience\"\n",
            ")"
         ]
      },
      {
         "cell_type": "code",
         "execution_count": 50,
         "metadata": {},
         "outputs": [],
         "source": [
            "news_content_df = article_content_df[\n",
            "    (article_content_df[\"category\"] == \"News\")\n",
            "    | (\n",
            "        article_content_df[\"tags\"].apply(\n",
            "            lambda x: \"news\" in x if isinstance(x, list) else False\n",
            "        )\n",
            "    )\n",
            "].sort_values(by=[\"date\"], ascending=[False])\n",
            "\n",
            "research_content_df = article_content_df[\n",
            "    article_content_df[\"category\"] != \"News\"\n",
            "].sort_values(by=[\"category\", \"date\"], ascending=[True, False])"
         ]
      },
      {
         "cell_type": "code",
         "execution_count": 51,
         "metadata": {},
         "outputs": [],
         "source": [
            "info_json_list = []\n",
            "for single_info_file_path in MEMBERS_DIR_PATH.glob(\"*/info.json\"):\n",
            "    with open(single_info_file_path, \"r\") as f_info:\n",
            "        member_data = json.load(f_info)\n",
            "    # if len(member_data.keys()) == 1:\n",
            "    #     info_json_path = (\n",
            "    #         KERZENDORF_GROUP_DATA / \"members\" / member_data[\"id\"] / \"info.json\"\n",
            "    #     )\n",
            "    #     member_images_dir = HOSTING_PATH / \"members\" / member_data[\"id\"] / \"media\"\n",
            "    #     with open(info_json_path, \"r\") as f_info_kl:\n",
            "    #         member_data_from_kl = json.load(f_info_kl)\n",
            "    #     member_images_dir_source = (\n",
            "    #         KERZENDORF_GROUP_DATA / \"members\" / member_data[\"id\"] / \"media\"\n",
            "    #     )\n",
            "\n",
            "    #     shutil.copytree(member_images_dir_source, member_images_dir, dirs_exist_ok=True)\n",
            "    #     info_json_list.append(member_data_from_kl)\n",
            "    # else:\n",
            "    info_json_list.append(member_data)\n",
            "info_json_df = pd.DataFrame(info_json_list)\n",
            "info_json_df.set_index(\"id\", inplace=True)\n",
            "info_json_df[\"full_name\"] = info_json_df.apply(\n",
            "    lambda row: (\n",
            "        row[\"nick_name\"] + \" \" + row[\"last_name\"]\n",
            "        if pd.notna(row[\"nick_name\"])\n",
            "        else row[\"first_name\"] + \" \" + row[\"last_name\"]\n",
            "    ),\n",
            "    axis=1,\n",
            ")\n",
            "info_json_dict = info_json_df.to_dict(\"index\")"
         ]
      },
      {
         "cell_type": "code",
         "execution_count": 52,
         "metadata": {},
         "outputs": [],
         "source": [
            "exp_df = read_member_data_jsons(\"experiences.json\")[\n",
            "    [\n",
            "        \"role\",\n",
            "        \"start_date\",\n",
            "        \"end_date\",\n",
            "        \"institution\",\n",
            "        \"group\",\n",
            "    ]\n",
            "]\n",
            "edu_df = read_member_data_jsons(\"education.json\")[\n",
            "    [\"start_date\", \"end_date\", \"institution\", \"subject\", \"degree\"]\n",
            "]"
         ]
      },
      {
         "cell_type": "code",
         "execution_count": 53,
         "metadata": {},
         "outputs": [],
         "source": [
            "edu_df['end_date'] = pd.to_datetime(edu_df['end_date'], format='%Y-%m-%d')\n",
            "edu_df['start_date'] = pd.to_datetime(edu_df['start_date'], format='%Y-%m-%d')\n",
            "\n",
            "\n",
            "def most_recent_row(group):\n",
            "    return group[group[\"start_date\"] == group[\"start_date\"].max()]\n",
            "edu_df_most_recent = (\n",
            "    edu_df.groupby(\"id\").apply(most_recent_row).droplevel(0)\n",
            ")\n",
            "\n",
            "edu_df_most_recent['academic_role'] = \"\"\n",
            "for edu_mem_id, edu_mem_value in edu_df_most_recent.iterrows():\n",
            "    if edu_mem_value['institution'] == INSTITUTION_FILTER:\n",
            "        if edu_mem_value['degree'] == \"Bachelors\":\n",
            "            edu_df_most_recent.at[edu_mem_id, 'academic_role'] = \"Undergraduate Student\"\n",
            "        elif edu_mem_value['degree'] in [\"PhD\", \"Masters\"]:\n",
            "            edu_df_most_recent.at[edu_mem_id, 'academic_role'] = \"Graduate Student\"\n",
            "edu_df_most_recent_diff_suffix = edu_df_most_recent.add_suffix(\"_edu\")"
         ]
      },
      {
         "cell_type": "code",
         "execution_count": 54,
         "metadata": {},
         "outputs": [],
         "source": [
            "social_link_list = []\n",
            "for single_member_file_path in MEMBERS_DIR_PATH.rglob(\"social_links.json\"):\n",
            "    with open(single_member_file_path, \"r\") as fname:\n",
            "        member_social_link = json.load(fname)\n",
            "    info_json_file_path = single_member_file_path.parent.parent / \"info.json\"\n",
            "    with open(info_json_file_path, \"r\") as file_info:\n",
            "        member_info_data = json.load(file_info)\n",
            "    mem_id = member_info_data[\"id\"]\n",
            "    member_social_link[\"id\"] = mem_id\n",
            "    social_link_list.append(member_social_link)\n",
            "social_links_df = pd.DataFrame(social_link_list)\n",
            "social_links_df.set_index(\"id\", inplace=True)\n",
            "# social_links_df.fillna(\"\", inplace=True)"
         ]
      },
      {
         "cell_type": "code",
         "execution_count": 55,
         "metadata": {},
         "outputs": [],
         "source": [
            "recent_content = article_content_df.sort_values(\n",
            "    by=[\"category\", \"date\"], ascending=[True, False]\n",
            ")\n",
            "# Get the first row for each category using groupby and head\n",
            "recent_content = recent_content.groupby(\"category\").head(1).copy()"
         ]
      },
      {
         "cell_type": "markdown",
         "metadata": {
            "jp-MarkdownHeadingCollapsed": true
         },
         "source": [
            "# Page Creation"
         ]
      },
      {
         "cell_type": "markdown",
         "metadata": {},
         "source": [
            "Function to create a page"
         ]
      },
      {
         "cell_type": "code",
         "execution_count": 56,
         "metadata": {
            "ExecuteTime": {
               "end_time": "2023-11-21T07:07:36.337418487Z",
               "start_time": "2023-11-21T07:07:36.065742781Z"
            },
            "jupyter": {
               "source_hidden": true
            }
         },
         "outputs": [],
         "source": [
            "def create_page(template, html, **kwargs):\n",
            "    \"\"\"\n",
            "    Create an HTML page using a Jinja2 template and save it to a specified path.\n",
            "\n",
            "    Parameters:\n",
            "    ----------\n",
            "    template : str\n",
            "        The filename of the Jinja2 template to be used.\n",
            "    html : str\n",
            "        The filename of the HTML file to be generated.\n",
            "    **kwargs : dict\n",
            "        Additional keyword arguments to be passed to the Jinja2 template for rendering.\n",
            "\n",
            "    Returns:\n",
            "    -------\n",
            "    None\n",
            "\n",
            "    \"\"\"\n",
            "    page_template = environment.get_template(template)\n",
            "    template_level = html.count(\"/\")\n",
            "    page_html_path = HOSTING_PATH / html\n",
            "    page_html_path.parent.mkdir(parents=True, exist_ok=True)\n",
            "    page_content = page_template.render(TEMPLATE_LEVEL=template_level, **kwargs)\n",
            "    with open(page_html_path, mode=\"w\", encoding=\"utf-8\") as page:\n",
            "        page.write(page_content)"
         ]
      },
      {
         "cell_type": "markdown",
         "metadata": {},
         "source": [
            "# Processing List Of JSON files"
         ]
      },
      {
         "cell_type": "code",
         "execution_count": 57,
         "metadata": {
            "ExecuteTime": {
               "end_time": "2023-11-21T07:07:36.392640967Z",
               "start_time": "2023-11-21T07:07:36.099540795Z"
            }
         },
         "outputs": [],
         "source": [
            "# Function Call\n",
            "general = loading_website_data(\"general\")\n",
            "homepage = loading_website_data(\"homepage\")\n",
            "contact = loading_website_data(\"contact\")\n",
            "research = loading_website_data(\"research_categories\")\n",
            "support = loading_website_data(\"support\")"
         ]
      },
      {
         "attachments": {},
         "cell_type": "markdown",
         "metadata": {},
         "source": [
            "# Homepage"
         ]
      },
      {
         "cell_type": "markdown",
         "metadata": {},
         "source": [
            "Storing selected columns for Homepage only"
         ]
      },
      {
         "cell_type": "code",
         "execution_count": 58,
         "metadata": {
            "ExecuteTime": {
               "end_time": "2023-11-21T07:07:36.460321141Z",
               "start_time": "2023-11-21T07:07:36.164866903Z"
            }
         },
         "outputs": [],
         "source": [
            "create_page(\n",
            "    \"homepage.html.j2\",\n",
            "    \"index.html\",\n",
            "    general=general,\n",
            "    homepage=homepage,\n",
            "    recent_content=recent_content.to_dict(orient=\"records\"),\n",
            ")"
         ]
      },
      {
         "attachments": {},
         "cell_type": "markdown",
         "metadata": {},
         "source": [
            "# Current Members Page"
         ]
      },
      {
         "cell_type": "code",
         "execution_count": 59,
         "metadata": {
            "ExecuteTime": {
               "end_time": "2023-11-21T07:07:36.460567962Z",
               "start_time": "2023-11-21T07:07:36.165051029Z"
            }
         },
         "outputs": [],
         "source": [
            "exp_df['end_date'] = pd.to_datetime(exp_df['end_date'], format='%Y-%m-%d')\n",
            "exp_df = exp_df.fillna(\"\")\n",
            "filtered_exp_df = exp_df[(exp_df[\"end_date\"].isna()) | (exp_df[\"end_date\"].dt.date >= datetime.now().date())]\n",
            "def most_recent_row(group):\n",
            "    sorted_group = group.sort_values(by=['start_date', 'end_date'], ascending=[False, True])\n",
            "    # Filter the sorted group by the condition that the group name is in GROUP_FILTER\n",
            "    relevant_group = sorted_group[sorted_group['group'].str.contains('|'.join(GROUP_FILTER))]\n",
            "    # Return the most recent relevant experience\n",
            "    return relevant_group.head(1)\n",
            "filtered_exp_df_most_recent = exp_df.groupby(\"id\").apply(most_recent_row).droplevel(0)\n",
            "exp_df_most_recent = exp_df.groupby(\"id\").apply(most_recent_row).droplevel(0)\n",
            "exp_df_most_recent_diff_suffix = exp_df_most_recent.add_suffix('_exp')"
         ]
      },
      {
         "cell_type": "code",
         "execution_count": 60,
         "metadata": {},
         "outputs": [],
         "source": [
            "merged_edu_exp_df = exp_df_most_recent_diff_suffix.merge(edu_df_most_recent_diff_suffix, on='id', how='outer')"
         ]
      },
      {
         "cell_type": "code",
         "execution_count": 82,
         "metadata": {},
         "outputs": [
            {
               "data": {
                  "text/html": [
                     "<div>\n",
                     "<style scoped>\n",
                     "    .dataframe tbody tr th:only-of-type {\n",
                     "        vertical-align: middle;\n",
                     "    }\n",
                     "\n",
                     "    .dataframe tbody tr th {\n",
                     "        vertical-align: top;\n",
                     "    }\n",
                     "\n",
                     "    .dataframe thead th {\n",
                     "        text-align: right;\n",
                     "    }\n",
                     "</style>\n",
                     "<table border=\"1\" class=\"dataframe\">\n",
                     "  <thead>\n",
                     "    <tr style=\"text-align: right;\">\n",
                     "      <th></th>\n",
                     "      <th>role_exp</th>\n",
                     "      <th>start_date_exp</th>\n",
                     "      <th>end_date_exp</th>\n",
                     "      <th>institution_exp</th>\n",
                     "      <th>group_exp</th>\n",
                     "      <th>start_date_edu</th>\n",
                     "      <th>end_date_edu</th>\n",
                     "      <th>institution_edu</th>\n",
                     "      <th>subject_edu</th>\n",
                     "      <th>degree_edu</th>\n",
                     "      <th>academic_role_edu</th>\n",
                     "      <th>isCurrent</th>\n",
                     "      <th>current_role</th>\n",
                     "    </tr>\n",
                     "    <tr>\n",
                     "      <th>id</th>\n",
                     "      <th></th>\n",
                     "      <th></th>\n",
                     "      <th></th>\n",
                     "      <th></th>\n",
                     "      <th></th>\n",
                     "      <th></th>\n",
                     "      <th></th>\n",
                     "      <th></th>\n",
                     "      <th></th>\n",
                     "      <th></th>\n",
                     "      <th></th>\n",
                     "      <th></th>\n",
                     "      <th></th>\n",
                     "    </tr>\n",
                     "  </thead>\n",
                     "  <tbody>\n",
                     "    <tr>\n",
                     "      <th>abhinav_ohri</th>\n",
                     "      <td>Research Software Engineer</td>\n",
                     "      <td>2023-11-13</td>\n",
                     "      <td>NaT</td>\n",
                     "      <td>DeepThought Initiative</td>\n",
                     "      <td>DTI</td>\n",
                     "      <td>2021-01-01</td>\n",
                     "      <td>2023-07-06</td>\n",
                     "      <td>Sanatan Dharma College</td>\n",
                     "      <td>Commerce(Honours)</td>\n",
                     "      <td>Bachelors</td>\n",
                     "      <td></td>\n",
                     "      <td>True</td>\n",
                     "      <td>Research Software Engineer</td>\n",
                     "    </tr>\n",
                     "    <tr>\n",
                     "      <th>alexander_grunewald</th>\n",
                     "      <td>Research Assistant</td>\n",
                     "      <td>2023-01-01</td>\n",
                     "      <td>NaT</td>\n",
                     "      <td></td>\n",
                     "      <td>kerzendorf</td>\n",
                     "      <td>2021-01-01</td>\n",
                     "      <td>NaT</td>\n",
                     "      <td>Michigan State University</td>\n",
                     "      <td>Statistics and Data Science</td>\n",
                     "      <td>Bachelors</td>\n",
                     "      <td>Undergraduate Student</td>\n",
                     "      <td>True</td>\n",
                     "      <td>Undergraduate Student</td>\n",
                     "    </tr>\n",
                     "    <tr>\n",
                     "      <th>andrew_fullard</th>\n",
                     "      <td>Researcher</td>\n",
                     "      <td>2024-01-01</td>\n",
                     "      <td>NaT</td>\n",
                     "      <td>Michigan State University</td>\n",
                     "      <td>kerzendorf</td>\n",
                     "      <td>2014-01-01</td>\n",
                     "      <td>2020-12-31</td>\n",
                     "      <td>University of Denver</td>\n",
                     "      <td>Astronomy</td>\n",
                     "      <td>PhD</td>\n",
                     "      <td></td>\n",
                     "      <td>True</td>\n",
                     "      <td>Researcher</td>\n",
                     "    </tr>\n",
                     "    <tr>\n",
                     "      <th>anirban_dutta</th>\n",
                     "      <td>Postdoctoral Researcher</td>\n",
                     "      <td>2024-03-01</td>\n",
                     "      <td>NaT</td>\n",
                     "      <td>Michigan State University</td>\n",
                     "      <td>kerzendorf</td>\n",
                     "      <td>2018-01-01</td>\n",
                     "      <td>NaT</td>\n",
                     "      <td>Indian Institute of Astrophysics</td>\n",
                     "      <td>Astrophysics</td>\n",
                     "      <td>PhD</td>\n",
                     "      <td></td>\n",
                     "      <td>True</td>\n",
                     "      <td>Postdoctoral Researcher</td>\n",
                     "    </tr>\n",
                     "    <tr>\n",
                     "      <th>atharva_arya</th>\n",
                     "      <td>Research Software Engineer</td>\n",
                     "      <td>2023-10-01</td>\n",
                     "      <td>NaT</td>\n",
                     "      <td>DeepThought Initiative</td>\n",
                     "      <td>DTI</td>\n",
                     "      <td>2019-01-01</td>\n",
                     "      <td>2023-12-31</td>\n",
                     "      <td>RCOEM</td>\n",
                     "      <td>Engineering</td>\n",
                     "      <td>Bachelors</td>\n",
                     "      <td></td>\n",
                     "      <td>True</td>\n",
                     "      <td>Research Software Engineer</td>\n",
                     "    </tr>\n",
                     "    <tr>\n",
                     "      <th>bea_lu</th>\n",
                     "      <td>Professorial Assistant</td>\n",
                     "      <td>2021-09-01</td>\n",
                     "      <td>NaT</td>\n",
                     "      <td>Michigan State University</td>\n",
                     "      <td>kerzendorf</td>\n",
                     "      <td>2021-09-01</td>\n",
                     "      <td>NaT</td>\n",
                     "      <td>Michigan State University</td>\n",
                     "      <td>Computational Data Science</td>\n",
                     "      <td>Bachelors</td>\n",
                     "      <td>Undergraduate Student</td>\n",
                     "      <td>True</td>\n",
                     "      <td>Undergraduate Student</td>\n",
                     "    </tr>\n",
                     "    <tr>\n",
                     "      <th>benjamin_mellon</th>\n",
                     "      <td>Research Assistant</td>\n",
                     "      <td>2023-11-13</td>\n",
                     "      <td>NaT</td>\n",
                     "      <td></td>\n",
                     "      <td>kerzendorf</td>\n",
                     "      <td>2021-09-01</td>\n",
                     "      <td>2025-05-01</td>\n",
                     "      <td>Michigan State University</td>\n",
                     "      <td>Physics and Computational Mathematics</td>\n",
                     "      <td>Bachelors</td>\n",
                     "      <td>Undergraduate Student</td>\n",
                     "      <td>True</td>\n",
                     "      <td>Undergraduate Student</td>\n",
                     "    </tr>\n",
                     "    <tr>\n",
                     "      <th>cecelia_powers</th>\n",
                     "      <td>Professorial Assistant</td>\n",
                     "      <td>2023-09-01</td>\n",
                     "      <td>NaT</td>\n",
                     "      <td>Michigan State University</td>\n",
                     "      <td>kerzendorf</td>\n",
                     "      <td>2023-09-01</td>\n",
                     "      <td>NaT</td>\n",
                     "      <td>Michigan State University</td>\n",
                     "      <td>Astrophysics</td>\n",
                     "      <td>Bachelors</td>\n",
                     "      <td>Undergraduate Student</td>\n",
                     "      <td>True</td>\n",
                     "      <td>Undergraduate Student</td>\n",
                     "    </tr>\n",
                     "    <tr>\n",
                     "      <th>deeksha_mohanty</th>\n",
                     "      <td>NaN</td>\n",
                     "      <td>NaN</td>\n",
                     "      <td>NaT</td>\n",
                     "      <td>NaN</td>\n",
                     "      <td>NaN</td>\n",
                     "      <td>2023-08-28</td>\n",
                     "      <td>2025-05-01</td>\n",
                     "      <td>Michigan State University</td>\n",
                     "      <td>Computer Science</td>\n",
                     "      <td>Masters</td>\n",
                     "      <td>Graduate Student</td>\n",
                     "      <td>True</td>\n",
                     "      <td>Graduate Student</td>\n",
                     "    </tr>\n",
                     "    <tr>\n",
                     "      <th>erin_visser</th>\n",
                     "      <td>Professorial Assistant</td>\n",
                     "      <td>2023-08-28</td>\n",
                     "      <td>NaT</td>\n",
                     "      <td>Michigan State University</td>\n",
                     "      <td>kerzendorf</td>\n",
                     "      <td>2023-09-01</td>\n",
                     "      <td>NaT</td>\n",
                     "      <td>Michigan State University</td>\n",
                     "      <td>Physics and Mathematics, Advanced</td>\n",
                     "      <td>Bachelors</td>\n",
                     "      <td>Undergraduate Student</td>\n",
                     "      <td>True</td>\n",
                     "      <td>Undergraduate Student</td>\n",
                     "    </tr>\n",
                     "    <tr>\n",
                     "      <th>gracie_tvrdik</th>\n",
                     "      <td>REU student</td>\n",
                     "      <td>2024-05-20</td>\n",
                     "      <td>2024-08-30</td>\n",
                     "      <td></td>\n",
                     "      <td>kerzendorf</td>\n",
                     "      <td>2022-08-22</td>\n",
                     "      <td>NaT</td>\n",
                     "      <td>Bowling Green State University</td>\n",
                     "      <td>Applied Mathematics - Data Science</td>\n",
                     "      <td>Bachelors</td>\n",
                     "      <td></td>\n",
                     "      <td>True</td>\n",
                     "      <td>REU student</td>\n",
                     "    </tr>\n",
                     "    <tr>\n",
                     "      <th>harshul_gupta</th>\n",
                     "      <td>Research Software Engineer</td>\n",
                     "      <td>2023-01-01</td>\n",
                     "      <td>2023-12-31</td>\n",
                     "      <td>DeepThought Initiative</td>\n",
                     "      <td>DTI</td>\n",
                     "      <td>2017-08-01</td>\n",
                     "      <td>2021-04-30</td>\n",
                     "      <td>SKIT</td>\n",
                     "      <td>Computer Science Engineering</td>\n",
                     "      <td>Bachelors</td>\n",
                     "      <td></td>\n",
                     "      <td>False</td>\n",
                     "      <td>Research Software Engineer</td>\n",
                     "    </tr>\n",
                     "    <tr>\n",
                     "      <th>hayden_monk</th>\n",
                     "      <td>Professorial Assistant</td>\n",
                     "      <td>2022-09-01</td>\n",
                     "      <td>2024-05-01</td>\n",
                     "      <td>Michigan State University</td>\n",
                     "      <td>kerzendorf</td>\n",
                     "      <td>2022-09-01</td>\n",
                     "      <td>NaT</td>\n",
                     "      <td>Michigan State University</td>\n",
                     "      <td>Astrophysics</td>\n",
                     "      <td>Bachelors</td>\n",
                     "      <td>Undergraduate Student</td>\n",
                     "      <td>True</td>\n",
                     "      <td>Undergraduate Student</td>\n",
                     "    </tr>\n",
                     "    <tr>\n",
                     "      <th>iliomar_rodriguez_ramos</th>\n",
                     "      <td>REU student</td>\n",
                     "      <td>2023-05-22</td>\n",
                     "      <td>2023-08-30</td>\n",
                     "      <td>Michigan State University</td>\n",
                     "      <td>kerzendorf</td>\n",
                     "      <td>2018-08-01</td>\n",
                     "      <td>2024-05-31</td>\n",
                     "      <td>University of Puerto Rico at Mayagüez</td>\n",
                     "      <td>NaN</td>\n",
                     "      <td>Bachelors</td>\n",
                     "      <td></td>\n",
                     "      <td>False</td>\n",
                     "      <td>REU student</td>\n",
                     "    </tr>\n",
                     "    <tr>\n",
                     "      <th>isaac_smith</th>\n",
                     "      <td>Professorial Assistant</td>\n",
                     "      <td>2020-01-01</td>\n",
                     "      <td>2023-12-31</td>\n",
                     "      <td>Michigan State University</td>\n",
                     "      <td>kerzendorf</td>\n",
                     "      <td>2020-01-01</td>\n",
                     "      <td>2024-12-31</td>\n",
                     "      <td>Michigan State University</td>\n",
                     "      <td>Physics and Mathematics</td>\n",
                     "      <td>Bachelors</td>\n",
                     "      <td>Undergraduate Student</td>\n",
                     "      <td>True</td>\n",
                     "      <td>Undergraduate Student</td>\n",
                     "    </tr>\n",
                     "    <tr>\n",
                     "      <th>jack_o_brien</th>\n",
                     "      <td>NaN</td>\n",
                     "      <td>NaN</td>\n",
                     "      <td>NaT</td>\n",
                     "      <td>NaN</td>\n",
                     "      <td>NaN</td>\n",
                     "      <td>2018-09-01</td>\n",
                     "      <td>NaT</td>\n",
                     "      <td>Michigan State University</td>\n",
                     "      <td>Physics and Astronomy</td>\n",
                     "      <td>PhD</td>\n",
                     "      <td>Graduate Student</td>\n",
                     "      <td>True</td>\n",
                     "      <td>Graduate Student</td>\n",
                     "    </tr>\n",
                     "    <tr>\n",
                     "      <th>jaladh_singhal</th>\n",
                     "      <td>Visualization Consultant</td>\n",
                     "      <td>2019-01-01</td>\n",
                     "      <td>NaT</td>\n",
                     "      <td></td>\n",
                     "      <td>TARDIS</td>\n",
                     "      <td>2017-08-01</td>\n",
                     "      <td>2021-04-30</td>\n",
                     "      <td>SKIT</td>\n",
                     "      <td>Computer Science Engineering</td>\n",
                     "      <td>Bachelors</td>\n",
                     "      <td></td>\n",
                     "      <td>True</td>\n",
                     "      <td>Visualization Consultant</td>\n",
                     "    </tr>\n",
                     "    <tr>\n",
                     "      <th>jing_lu</th>\n",
                     "      <td>Postdoctoral Researcher</td>\n",
                     "      <td>2023-07-10</td>\n",
                     "      <td>NaT</td>\n",
                     "      <td>Michigan State University</td>\n",
                     "      <td>kerzendorf</td>\n",
                     "      <td>2016-01-01</td>\n",
                     "      <td>2023-12-31</td>\n",
                     "      <td>Florida State University</td>\n",
                     "      <td>Physics</td>\n",
                     "      <td>PhD</td>\n",
                     "      <td></td>\n",
                     "      <td>True</td>\n",
                     "      <td>Postdoctoral Researcher</td>\n",
                     "    </tr>\n",
                     "    <tr>\n",
                     "      <th>josh_shields</th>\n",
                     "      <td>NaN</td>\n",
                     "      <td>NaN</td>\n",
                     "      <td>NaT</td>\n",
                     "      <td>NaN</td>\n",
                     "      <td>NaN</td>\n",
                     "      <td>2019-09-01</td>\n",
                     "      <td>NaT</td>\n",
                     "      <td>Michigan State University</td>\n",
                     "      <td>Physics and Astronomy</td>\n",
                     "      <td>PhD</td>\n",
                     "      <td>Graduate Student</td>\n",
                     "      <td>True</td>\n",
                     "      <td>Graduate Student</td>\n",
                     "    </tr>\n",
                     "    <tr>\n",
                     "      <th>kevin_cawley</th>\n",
                     "      <td>Professorial Assistant</td>\n",
                     "      <td>2020-09-01</td>\n",
                     "      <td>2022-08-31</td>\n",
                     "      <td>Michigan State University</td>\n",
                     "      <td>kerzendorf</td>\n",
                     "      <td>2020-01-01</td>\n",
                     "      <td>2024-12-31</td>\n",
                     "      <td>Michigan State University</td>\n",
                     "      <td>Computer Engineering, minor in Chinese</td>\n",
                     "      <td>Bachelors</td>\n",
                     "      <td>Undergraduate Student</td>\n",
                     "      <td>True</td>\n",
                     "      <td>Undergraduate Student</td>\n",
                     "    </tr>\n",
                     "    <tr>\n",
                     "      <th>kiyah_young-wilson</th>\n",
                     "      <td>REU student</td>\n",
                     "      <td>2024-05-27</td>\n",
                     "      <td>2024-08-02</td>\n",
                     "      <td></td>\n",
                     "      <td>kerzendorf</td>\n",
                     "      <td>2023-08-28</td>\n",
                     "      <td>NaT</td>\n",
                     "      <td>Gonzaga University</td>\n",
                     "      <td>Physics</td>\n",
                     "      <td>Bachelor's</td>\n",
                     "      <td></td>\n",
                     "      <td>True</td>\n",
                     "      <td>REU student</td>\n",
                     "    </tr>\n",
                     "    <tr>\n",
                     "      <th>richard_dow</th>\n",
                     "      <td>REU student</td>\n",
                     "      <td>2023-05-22</td>\n",
                     "      <td>2023-08-30</td>\n",
                     "      <td></td>\n",
                     "      <td>kerzendorf</td>\n",
                     "      <td>2021-01-01</td>\n",
                     "      <td>NaT</td>\n",
                     "      <td>University of Minnesota</td>\n",
                     "      <td>Computer Science</td>\n",
                     "      <td>Bachelors</td>\n",
                     "      <td></td>\n",
                     "      <td>False</td>\n",
                     "      <td>REU student</td>\n",
                     "    </tr>\n",
                     "    <tr>\n",
                     "      <th>sofia_biriouk</th>\n",
                     "      <td>Professorial Assistant</td>\n",
                     "      <td>2021-01-01</td>\n",
                     "      <td>2023-12-31</td>\n",
                     "      <td>Michigan State University</td>\n",
                     "      <td>kerzendorf</td>\n",
                     "      <td>2021-01-01</td>\n",
                     "      <td>NaT</td>\n",
                     "      <td>Michigan State University</td>\n",
                     "      <td>Astrophysics with a Minor in Computational Mat...</td>\n",
                     "      <td>Bachelors</td>\n",
                     "      <td>Undergraduate Student</td>\n",
                     "      <td>True</td>\n",
                     "      <td>Undergraduate Student</td>\n",
                     "    </tr>\n",
                     "    <tr>\n",
                     "      <th>sona_chitchyan</th>\n",
                     "      <td>NaN</td>\n",
                     "      <td>NaN</td>\n",
                     "      <td>NaT</td>\n",
                     "      <td>NaN</td>\n",
                     "      <td>NaN</td>\n",
                     "      <td>2021-09-01</td>\n",
                     "      <td>2023-05-31</td>\n",
                     "      <td>Michigan State University</td>\n",
                     "      <td>NaN</td>\n",
                     "      <td>Masters</td>\n",
                     "      <td>Graduate Student</td>\n",
                     "      <td>False</td>\n",
                     "      <td>Graduate Student</td>\n",
                     "    </tr>\n",
                     "    <tr>\n",
                     "      <th>vicente_amado</th>\n",
                     "      <td>NaN</td>\n",
                     "      <td>NaN</td>\n",
                     "      <td>NaT</td>\n",
                     "      <td>NaN</td>\n",
                     "      <td>NaN</td>\n",
                     "      <td>2021-01-01</td>\n",
                     "      <td>NaT</td>\n",
                     "      <td>Michigan State University</td>\n",
                     "      <td>Data Science</td>\n",
                     "      <td>PhD</td>\n",
                     "      <td>Graduate Student</td>\n",
                     "      <td>True</td>\n",
                     "      <td>Graduate Student</td>\n",
                     "    </tr>\n",
                     "    <tr>\n",
                     "      <th>wolfgang_kerzendorf</th>\n",
                     "      <td>Assistant Professor</td>\n",
                     "      <td>2019-08-15</td>\n",
                     "      <td>NaT</td>\n",
                     "      <td>Michigan State University</td>\n",
                     "      <td>kerzendorf</td>\n",
                     "      <td>2007-02-01</td>\n",
                     "      <td>2011-12-18</td>\n",
                     "      <td>Australian National University</td>\n",
                     "      <td>Physics and Astronomy</td>\n",
                     "      <td>PhD</td>\n",
                     "      <td></td>\n",
                     "      <td>True</td>\n",
                     "      <td>Professor</td>\n",
                     "    </tr>\n",
                     "    <tr>\n",
                     "      <th>yuki_matsumura</th>\n",
                     "      <td>NaN</td>\n",
                     "      <td>NaN</td>\n",
                     "      <td>NaT</td>\n",
                     "      <td>NaN</td>\n",
                     "      <td>NaN</td>\n",
                     "      <td>2022-01-01</td>\n",
                     "      <td>2024-05-01</td>\n",
                     "      <td>Michigan State University</td>\n",
                     "      <td>Physics and CMSE</td>\n",
                     "      <td>Masters</td>\n",
                     "      <td>Graduate Student</td>\n",
                     "      <td>False</td>\n",
                     "      <td>Graduate Student</td>\n",
                     "    </tr>\n",
                     "  </tbody>\n",
                     "</table>\n",
                     "</div>"
                  ],
                  "text/plain": [
                     "                                           role_exp start_date_exp  \\\n",
                     "id                                                                   \n",
                     "abhinav_ohri             Research Software Engineer     2023-11-13   \n",
                     "alexander_grunewald              Research Assistant     2023-01-01   \n",
                     "andrew_fullard                           Researcher     2024-01-01   \n",
                     "anirban_dutta               Postdoctoral Researcher     2024-03-01   \n",
                     "atharva_arya             Research Software Engineer     2023-10-01   \n",
                     "bea_lu                       Professorial Assistant     2021-09-01   \n",
                     "benjamin_mellon                  Research Assistant     2023-11-13   \n",
                     "cecelia_powers               Professorial Assistant     2023-09-01   \n",
                     "deeksha_mohanty                                 NaN            NaN   \n",
                     "erin_visser                  Professorial Assistant     2023-08-28   \n",
                     "gracie_tvrdik                           REU student     2024-05-20   \n",
                     "harshul_gupta            Research Software Engineer     2023-01-01   \n",
                     "hayden_monk                  Professorial Assistant     2022-09-01   \n",
                     "iliomar_rodriguez_ramos                 REU student     2023-05-22   \n",
                     "isaac_smith                  Professorial Assistant     2020-01-01   \n",
                     "jack_o_brien                                    NaN            NaN   \n",
                     "jaladh_singhal             Visualization Consultant     2019-01-01   \n",
                     "jing_lu                     Postdoctoral Researcher     2023-07-10   \n",
                     "josh_shields                                    NaN            NaN   \n",
                     "kevin_cawley                 Professorial Assistant     2020-09-01   \n",
                     "kiyah_young-wilson                      REU student     2024-05-27   \n",
                     "richard_dow                             REU student     2023-05-22   \n",
                     "sofia_biriouk                Professorial Assistant     2021-01-01   \n",
                     "sona_chitchyan                                  NaN            NaN   \n",
                     "vicente_amado                                   NaN            NaN   \n",
                     "wolfgang_kerzendorf             Assistant Professor     2019-08-15   \n",
                     "yuki_matsumura                                  NaN            NaN   \n",
                     "\n",
                     "                        end_date_exp            institution_exp   group_exp  \\\n",
                     "id                                                                            \n",
                     "abhinav_ohri                     NaT     DeepThought Initiative         DTI   \n",
                     "alexander_grunewald              NaT                             kerzendorf   \n",
                     "andrew_fullard                   NaT  Michigan State University  kerzendorf   \n",
                     "anirban_dutta                    NaT  Michigan State University  kerzendorf   \n",
                     "atharva_arya                     NaT     DeepThought Initiative         DTI   \n",
                     "bea_lu                           NaT  Michigan State University  kerzendorf   \n",
                     "benjamin_mellon                  NaT                             kerzendorf   \n",
                     "cecelia_powers                   NaT  Michigan State University  kerzendorf   \n",
                     "deeksha_mohanty                  NaT                        NaN         NaN   \n",
                     "erin_visser                      NaT  Michigan State University  kerzendorf   \n",
                     "gracie_tvrdik             2024-08-30                             kerzendorf   \n",
                     "harshul_gupta             2023-12-31     DeepThought Initiative         DTI   \n",
                     "hayden_monk               2024-05-01  Michigan State University  kerzendorf   \n",
                     "iliomar_rodriguez_ramos   2023-08-30  Michigan State University  kerzendorf   \n",
                     "isaac_smith               2023-12-31  Michigan State University  kerzendorf   \n",
                     "jack_o_brien                     NaT                        NaN         NaN   \n",
                     "jaladh_singhal                   NaT                                 TARDIS   \n",
                     "jing_lu                          NaT  Michigan State University  kerzendorf   \n",
                     "josh_shields                     NaT                        NaN         NaN   \n",
                     "kevin_cawley              2022-08-31  Michigan State University  kerzendorf   \n",
                     "kiyah_young-wilson        2024-08-02                             kerzendorf   \n",
                     "richard_dow               2023-08-30                             kerzendorf   \n",
                     "sofia_biriouk             2023-12-31  Michigan State University  kerzendorf   \n",
                     "sona_chitchyan                   NaT                        NaN         NaN   \n",
                     "vicente_amado                    NaT                        NaN         NaN   \n",
                     "wolfgang_kerzendorf              NaT  Michigan State University  kerzendorf   \n",
                     "yuki_matsumura                   NaT                        NaN         NaN   \n",
                     "\n",
                     "                        start_date_edu end_date_edu  \\\n",
                     "id                                                    \n",
                     "abhinav_ohri                2021-01-01   2023-07-06   \n",
                     "alexander_grunewald         2021-01-01          NaT   \n",
                     "andrew_fullard              2014-01-01   2020-12-31   \n",
                     "anirban_dutta               2018-01-01          NaT   \n",
                     "atharva_arya                2019-01-01   2023-12-31   \n",
                     "bea_lu                      2021-09-01          NaT   \n",
                     "benjamin_mellon             2021-09-01   2025-05-01   \n",
                     "cecelia_powers              2023-09-01          NaT   \n",
                     "deeksha_mohanty             2023-08-28   2025-05-01   \n",
                     "erin_visser                 2023-09-01          NaT   \n",
                     "gracie_tvrdik               2022-08-22          NaT   \n",
                     "harshul_gupta               2017-08-01   2021-04-30   \n",
                     "hayden_monk                 2022-09-01          NaT   \n",
                     "iliomar_rodriguez_ramos     2018-08-01   2024-05-31   \n",
                     "isaac_smith                 2020-01-01   2024-12-31   \n",
                     "jack_o_brien                2018-09-01          NaT   \n",
                     "jaladh_singhal              2017-08-01   2021-04-30   \n",
                     "jing_lu                     2016-01-01   2023-12-31   \n",
                     "josh_shields                2019-09-01          NaT   \n",
                     "kevin_cawley                2020-01-01   2024-12-31   \n",
                     "kiyah_young-wilson          2023-08-28          NaT   \n",
                     "richard_dow                 2021-01-01          NaT   \n",
                     "sofia_biriouk               2021-01-01          NaT   \n",
                     "sona_chitchyan              2021-09-01   2023-05-31   \n",
                     "vicente_amado               2021-01-01          NaT   \n",
                     "wolfgang_kerzendorf         2007-02-01   2011-12-18   \n",
                     "yuki_matsumura              2022-01-01   2024-05-01   \n",
                     "\n",
                     "                                               institution_edu  \\\n",
                     "id                                                               \n",
                     "abhinav_ohri                            Sanatan Dharma College   \n",
                     "alexander_grunewald                  Michigan State University   \n",
                     "andrew_fullard                            University of Denver   \n",
                     "anirban_dutta                 Indian Institute of Astrophysics   \n",
                     "atharva_arya                                             RCOEM   \n",
                     "bea_lu                               Michigan State University   \n",
                     "benjamin_mellon                      Michigan State University   \n",
                     "cecelia_powers                       Michigan State University   \n",
                     "deeksha_mohanty                      Michigan State University   \n",
                     "erin_visser                          Michigan State University   \n",
                     "gracie_tvrdik                   Bowling Green State University   \n",
                     "harshul_gupta                                             SKIT   \n",
                     "hayden_monk                          Michigan State University   \n",
                     "iliomar_rodriguez_ramos  University of Puerto Rico at Mayagüez   \n",
                     "isaac_smith                          Michigan State University   \n",
                     "jack_o_brien                         Michigan State University   \n",
                     "jaladh_singhal                                            SKIT   \n",
                     "jing_lu                               Florida State University   \n",
                     "josh_shields                         Michigan State University   \n",
                     "kevin_cawley                         Michigan State University   \n",
                     "kiyah_young-wilson                          Gonzaga University   \n",
                     "richard_dow                            University of Minnesota   \n",
                     "sofia_biriouk                        Michigan State University   \n",
                     "sona_chitchyan                       Michigan State University   \n",
                     "vicente_amado                        Michigan State University   \n",
                     "wolfgang_kerzendorf             Australian National University   \n",
                     "yuki_matsumura                       Michigan State University   \n",
                     "\n",
                     "                                                               subject_edu  \\\n",
                     "id                                                                           \n",
                     "abhinav_ohri                                             Commerce(Honours)   \n",
                     "alexander_grunewald                            Statistics and Data Science   \n",
                     "andrew_fullard                                                   Astronomy   \n",
                     "anirban_dutta                                                 Astrophysics   \n",
                     "atharva_arya                                                   Engineering   \n",
                     "bea_lu                                          Computational Data Science   \n",
                     "benjamin_mellon                      Physics and Computational Mathematics   \n",
                     "cecelia_powers                                                Astrophysics   \n",
                     "deeksha_mohanty                                           Computer Science   \n",
                     "erin_visser                              Physics and Mathematics, Advanced   \n",
                     "gracie_tvrdik                           Applied Mathematics - Data Science   \n",
                     "harshul_gupta                                 Computer Science Engineering   \n",
                     "hayden_monk                                                   Astrophysics   \n",
                     "iliomar_rodriguez_ramos                                                NaN   \n",
                     "isaac_smith                                        Physics and Mathematics   \n",
                     "jack_o_brien                                         Physics and Astronomy   \n",
                     "jaladh_singhal                                Computer Science Engineering   \n",
                     "jing_lu                                                            Physics   \n",
                     "josh_shields                                         Physics and Astronomy   \n",
                     "kevin_cawley                        Computer Engineering, minor in Chinese   \n",
                     "kiyah_young-wilson                                                 Physics   \n",
                     "richard_dow                                               Computer Science   \n",
                     "sofia_biriouk            Astrophysics with a Minor in Computational Mat...   \n",
                     "sona_chitchyan                                                         NaN   \n",
                     "vicente_amado                                                 Data Science   \n",
                     "wolfgang_kerzendorf                                  Physics and Astronomy   \n",
                     "yuki_matsumura                                            Physics and CMSE   \n",
                     "\n",
                     "                         degree_edu      academic_role_edu  isCurrent  \\\n",
                     "id                                                                      \n",
                     "abhinav_ohri              Bachelors                              True   \n",
                     "alexander_grunewald       Bachelors  Undergraduate Student       True   \n",
                     "andrew_fullard                  PhD                              True   \n",
                     "anirban_dutta                   PhD                              True   \n",
                     "atharva_arya              Bachelors                              True   \n",
                     "bea_lu                    Bachelors  Undergraduate Student       True   \n",
                     "benjamin_mellon           Bachelors  Undergraduate Student       True   \n",
                     "cecelia_powers            Bachelors  Undergraduate Student       True   \n",
                     "deeksha_mohanty             Masters       Graduate Student       True   \n",
                     "erin_visser               Bachelors  Undergraduate Student       True   \n",
                     "gracie_tvrdik             Bachelors                              True   \n",
                     "harshul_gupta             Bachelors                             False   \n",
                     "hayden_monk               Bachelors  Undergraduate Student       True   \n",
                     "iliomar_rodriguez_ramos   Bachelors                             False   \n",
                     "isaac_smith               Bachelors  Undergraduate Student       True   \n",
                     "jack_o_brien                    PhD       Graduate Student       True   \n",
                     "jaladh_singhal            Bachelors                              True   \n",
                     "jing_lu                         PhD                              True   \n",
                     "josh_shields                    PhD       Graduate Student       True   \n",
                     "kevin_cawley              Bachelors  Undergraduate Student       True   \n",
                     "kiyah_young-wilson       Bachelor's                              True   \n",
                     "richard_dow               Bachelors                             False   \n",
                     "sofia_biriouk             Bachelors  Undergraduate Student       True   \n",
                     "sona_chitchyan              Masters       Graduate Student      False   \n",
                     "vicente_amado                   PhD       Graduate Student       True   \n",
                     "wolfgang_kerzendorf             PhD                              True   \n",
                     "yuki_matsumura              Masters       Graduate Student      False   \n",
                     "\n",
                     "                                       current_role  \n",
                     "id                                                   \n",
                     "abhinav_ohri             Research Software Engineer  \n",
                     "alexander_grunewald           Undergraduate Student  \n",
                     "andrew_fullard                           Researcher  \n",
                     "anirban_dutta               Postdoctoral Researcher  \n",
                     "atharva_arya             Research Software Engineer  \n",
                     "bea_lu                        Undergraduate Student  \n",
                     "benjamin_mellon               Undergraduate Student  \n",
                     "cecelia_powers                Undergraduate Student  \n",
                     "deeksha_mohanty                    Graduate Student  \n",
                     "erin_visser                   Undergraduate Student  \n",
                     "gracie_tvrdik                           REU student  \n",
                     "harshul_gupta            Research Software Engineer  \n",
                     "hayden_monk                   Undergraduate Student  \n",
                     "iliomar_rodriguez_ramos                 REU student  \n",
                     "isaac_smith                   Undergraduate Student  \n",
                     "jack_o_brien                       Graduate Student  \n",
                     "jaladh_singhal             Visualization Consultant  \n",
                     "jing_lu                     Postdoctoral Researcher  \n",
                     "josh_shields                       Graduate Student  \n",
                     "kevin_cawley                  Undergraduate Student  \n",
                     "kiyah_young-wilson                      REU student  \n",
                     "richard_dow                             REU student  \n",
                     "sofia_biriouk                 Undergraduate Student  \n",
                     "sona_chitchyan                     Graduate Student  \n",
                     "vicente_amado                      Graduate Student  \n",
                     "wolfgang_kerzendorf                       Professor  \n",
                     "yuki_matsumura                     Graduate Student  "
                  ]
               },
               "execution_count": 82,
               "metadata": {},
               "output_type": "execute_result"
            }
         ],
         "source": [
            "merged_edu_exp_df['isCurrent'] = False\n",
            "merged_edu_exp_df['current_role'] = \"\"\n",
            "for merged_mem_id, merged_mem_value in merged_edu_exp_df.iterrows():\n",
            "    if merged_mem_value['institution_edu'] == INSTITUTION_FILTER and (pd.isna(merged_mem_value['end_date_edu']) or merged_mem_value['end_date_edu'] >= datetime.now()):\n",
            "        merged_mem_value['isCurrent'] = True\n",
            "        acad_role = merged_mem_value.get('academic_role_edu')\n",
            "        if acad_role:\n",
            "            merged_mem_value['current_role'] = merged_mem_value[\"academic_role_edu\"]\n",
            "    elif merged_mem_value['group_exp'] in GROUP_FILTER and (pd.isna(merged_mem_value['end_date_exp']) or merged_mem_value['end_date_exp'] >= datetime.now()):\n",
            "            merged_mem_value['isCurrent'] = True\n",
            "            merged_mem_value['current_role'] = merged_mem_value[\"role_exp\"]\n",
            "    else:\n",
            "        merged_mem_value['isCurrent'] = False\n",
            "        if pd.notna(merged_mem_value.get(\"role_exp\")):\n",
            "            merged_mem_value['current_role'] = merged_mem_value.get(\"role_exp\")\n",
            "        else:\n",
            "            merged_mem_value['current_role'] = merged_mem_value.get(\"academic_role_edu\")\n",
            "    merged_edu_exp_df.loc[merged_mem_id] = merged_mem_value\n",
            "merged_edu_exp_df['current_role'] = merged_edu_exp_df['current_role'].replace(ROLE_MAP)\n",
            "\n",
            "merged_edu_exp_df\n"
         ]
      },
      {
         "cell_type": "code",
         "execution_count": 62,
         "metadata": {},
         "outputs": [],
         "source": [
            "current_member_df = merged_edu_exp_df[merged_edu_exp_df['isCurrent'] == True]"
         ]
      },
      {
         "cell_type": "code",
         "execution_count": 63,
         "metadata": {},
         "outputs": [],
         "source": [
            "alumni_member_df = merged_edu_exp_df[merged_edu_exp_df['isCurrent'] == False]"
         ]
      },
      {
         "cell_type": "code",
         "execution_count": 64,
         "metadata": {},
         "outputs": [],
         "source": [
            "projects_df = read_member_data_jsons(\"projects.json\").sort_values(\n",
            "    by=[\"end_date\"], ascending=False\n",
            ")"
         ]
      },
      {
         "cell_type": "code",
         "execution_count": 65,
         "metadata": {},
         "outputs": [
            {
               "name": "stderr",
               "output_type": "stream",
               "text": [
                  "/tmp/ipykernel_25467/2633803721.py:11: SettingWithCopyWarning: \n",
                  "A value is trying to be set on a copy of a slice from a DataFrame.\n",
                  "Try using .loc[row_indexer,col_indexer] = value instead\n",
                  "\n",
                  "See the caveats in the documentation: https://pandas.pydata.org/pandas-docs/stable/user_guide/indexing.html#returning-a-view-versus-a-copy\n",
                  "  current_member_df.loc[mem_key, \"current_project_title\"] = current_project_title\n"
               ]
            }
         ],
         "source": [
            "for mem_key, mem_value in current_member_df.iterrows():\n",
            "    if mem_key in projects_df.index:\n",
            "        mem_projects = projects_df.loc[mem_key]\n",
            "        if not mem_projects.empty:\n",
            "            if isinstance(mem_projects, pd.Series):\n",
            "                current_project_title = mem_projects[\"project_title\"]\n",
            "            else:\n",
            "                current_project_title = mem_projects.iloc[0][\"project_title\"]\n",
            "    else:\n",
            "        current_project_title = \"\"\n",
            "    current_member_df.loc[mem_key, \"current_project_title\"] = current_project_title"
         ]
      },
      {
         "cell_type": "markdown",
         "metadata": {},
         "source": [
            "Function to sort the members on basis of their roles"
         ]
      },
      {
         "cell_type": "code",
         "execution_count": 66,
         "metadata": {
            "jupyter": {
               "source_hidden": true
            }
         },
         "outputs": [],
         "source": [
            "def custom_role_sort(roles):\n",
            "    \"\"\"\n",
            "    Sorts a list of roles based on academic role hierarchy and then by name.\n",
            "\n",
            "    Parameters\n",
            "    ----------\n",
            "    roles : list[dict]\n",
            "        List of dictionaries representing roles. Each dictionary should contain at least the keys 'academic_role' and 'name'.\n",
            "\n",
            "    Returns\n",
            "    -------\n",
            "    list[dict]\n",
            "        A sorted list of roles based on the academic role hierarchy and, in case of ties, sorted by name in ascending order.\n",
            "    \"\"\"\n",
            "    with open(ROLE_HIERARCHY_PATH, \"r\") as file_name:  \n",
            "        role_hierarchy = json.load(file_name)\n",
            "    sorted_roles = sorted(roles, key=lambda x: (role_hierarchy.get(x['academic_role'], float('inf')), x['name']))\n",
            "    return sorted_roles"
         ]
      },
      {
         "cell_type": "markdown",
         "metadata": {},
         "source": [
            "Current Members Page"
         ]
      },
      {
         "cell_type": "code",
         "execution_count": 67,
         "metadata": {},
         "outputs": [],
         "source": [
            "create_page(\n",
            "    \"current_members.html.j2\",\n",
            "    \"current_members.html\",\n",
            "    general=general,\n",
            "    current_members=current_member_df,\n",
            "    socials=social_links_df.to_dict(\"index\"),\n",
            ")"
         ]
      },
      {
         "cell_type": "markdown",
         "metadata": {},
         "source": [
            "Alumni Members Page"
         ]
      },
      {
         "cell_type": "code",
         "execution_count": 68,
         "metadata": {},
         "outputs": [],
         "source": [
            "create_page(\n",
            "    \"alumni_members.html.j2\",\n",
            "    \"alumni_members.html\",\n",
            "    general=general,\n",
            "    alumni_members=alumni_member_df,\n",
            ")"
         ]
      },
      {
         "cell_type": "markdown",
         "metadata": {},
         "source": [
            "## Individual People Page"
         ]
      },
      {
         "cell_type": "code",
         "execution_count": 69,
         "metadata": {},
         "outputs": [],
         "source": [
            "def group_df(df):\n",
            "    new_df = (df.groupby(\"id\")\n",
            "    .apply(lambda x: x.to_dict(orient=\"records\"))\n",
            "    .reset_index(name=\"info\")\n",
            "    .set_index(\"id\")\n",
            "    .to_dict(orient=\"index\"))\n",
            "    return new_df"
         ]
      },
      {
         "cell_type": "code",
         "execution_count": 70,
         "metadata": {},
         "outputs": [],
         "source": [
            "document_df = read_member_data_jsons(\"documents.json\")"
         ]
      },
      {
         "cell_type": "code",
         "execution_count": 71,
         "metadata": {},
         "outputs": [],
         "source": [
            "outreach_df = read_member_data_jsons(\"outreach.json\")\n",
            "if not outreach_df.empty:\n",
            "    outreach_grouped = group_df(outreach_df)"
         ]
      },
      {
         "cell_type": "code",
         "execution_count": 72,
         "metadata": {},
         "outputs": [],
         "source": [
            "awards_df = read_member_data_jsons(\"awards.json\")\n",
            "awards_grouped = group_df(awards_df)\n",
            "\n",
            "exp_grouped = group_df(exp_df)\n",
            "edu_grouped = group_df(edu_df)\n",
            "projects_grouped = group_df(projects_df)"
         ]
      },
      {
         "cell_type": "code",
         "execution_count": 73,
         "metadata": {},
         "outputs": [
            {
               "name": "stderr",
               "output_type": "stream",
               "text": [
                  "/tmp/ipykernel_25467/2965517601.py:13: SettingWithCopyWarning: \n",
                  "A value is trying to be set on a copy of a slice from a DataFrame\n",
                  "\n",
                  "See the caveats in the documentation: https://pandas.pydata.org/pandas-docs/stable/user_guide/indexing.html#returning-a-view-versus-a-copy\n",
                  "  alumni_member_df.replace(\"nan\", np.nan, inplace=True)\n",
                  "/tmp/ipykernel_25467/2965517601.py:14: SettingWithCopyWarning: \n",
                  "A value is trying to be set on a copy of a slice from a DataFrame\n",
                  "\n",
                  "See the caveats in the documentation: https://pandas.pydata.org/pandas-docs/stable/user_guide/indexing.html#returning-a-view-versus-a-copy\n",
                  "  alumni_member_df.fillna(\"\", inplace=True)\n",
                  "/tmp/ipykernel_25467/2965517601.py:15: SettingWithCopyWarning: \n",
                  "A value is trying to be set on a copy of a slice from a DataFrame\n",
                  "\n",
                  "See the caveats in the documentation: https://pandas.pydata.org/pandas-docs/stable/user_guide/indexing.html#returning-a-view-versus-a-copy\n",
                  "  current_member_df.fillna(\"\", inplace=True)\n"
               ]
            }
         ],
         "source": [
            "for member_id, member_data in info_json_df.iterrows():\n",
            "    if member_id in current_member_df.index:\n",
            "        info_json_df.at[member_id, \"academic_role\"] = current_member_df.loc[\n",
            "            member_id, \"current_role\"\n",
            "        ]\n",
            "        info_json_df.at[member_id, \"current_project_title\"] = current_member_df.loc[\n",
            "            member_id, \"current_project_title\"\n",
            "        ]\n",
            "    elif member_id in alumni_member_df.index:\n",
            "        info_json_df.at[member_id, \"academic_role\"] = alumni_member_df.loc[\n",
            "            member_id, \"current_role\"\n",
            "        ]\n",
            "alumni_member_df.replace(\"nan\", np.nan, inplace=True)\n",
            "alumni_member_df.fillna(\"\", inplace=True)\n",
            "current_member_df.fillna(\"\", inplace=True)"
         ]
      },
      {
         "cell_type": "code",
         "execution_count": 74,
         "metadata": {},
         "outputs": [],
         "source": [
            "for person_id, person_data in info_json_df.iterrows():\n",
            "    create_page(\n",
            "        \"individual_person.html.j2\",\n",
            "        f\"members/{person_id}/{person_id}.html\",\n",
            "        general=general,\n",
            "        member_id=person_id,\n",
            "        member_data=person_data,\n",
            "        socials=social_links_df.to_dict(\"index\"),\n",
            "        documents=document_df.to_dict(\"index\"),\n",
            "        education=edu_grouped,\n",
            "        experience=exp_grouped,\n",
            "        projects=projects_grouped,\n",
            "        awards=awards_grouped,\n",
            "        outreach=outreach_df,\n",
            "        section_headings=INDIVIDUAL_MEMBER_SECTION_MAP,\n",
            "        content=article_content_df.to_dict(\"index\"),\n",
            "    )"
         ]
      },
      {
         "cell_type": "markdown",
         "metadata": {
            "jp-MarkdownHeadingCollapsed": true
         },
         "source": [
            "# Contact Page"
         ]
      },
      {
         "cell_type": "code",
         "execution_count": 75,
         "metadata": {
            "ExecuteTime": {
               "end_time": "2023-11-21T07:07:36.569018310Z",
               "start_time": "2023-11-21T07:07:36.457030906Z"
            }
         },
         "outputs": [],
         "source": [
            "create_page(\n",
            "    \"contact.html.j2\",\n",
            "    \"Contact.html\",\n",
            "    general=general,\n",
            "    contact=contact\n",
            ")"
         ]
      },
      {
         "cell_type": "markdown",
         "metadata": {
            "jp-MarkdownHeadingCollapsed": true
         },
         "source": [
            "# Support Page"
         ]
      },
      {
         "cell_type": "code",
         "execution_count": 76,
         "metadata": {
            "ExecuteTime": {
               "end_time": "2023-11-21T07:07:36.588932886Z",
               "start_time": "2023-11-21T07:07:36.457249500Z"
            }
         },
         "outputs": [],
         "source": [
            "create_page(\n",
            "    \"support.html.j2\",\n",
            "    \"Support.html\",\n",
            "    general=general,\n",
            "    support=support\n",
            ")"
         ]
      },
      {
         "cell_type": "markdown",
         "metadata": {
            "jp-MarkdownHeadingCollapsed": true
         },
         "source": [
            "# Research Front Page"
         ]
      },
      {
         "cell_type": "markdown",
         "metadata": {},
         "source": [
            "For adding more columns in dataframe to render front pages and individual article pages"
         ]
      },
      {
         "cell_type": "code",
         "execution_count": 77,
         "metadata": {
            "ExecuteTime": {
               "end_time": "2023-11-21T07:07:36.589247191Z",
               "start_time": "2023-11-21T07:07:36.501093779Z"
            }
         },
         "outputs": [],
         "source": [
            "create_page(\n",
            "    \"research.html.j2\",\n",
            "    \"Research.html\",\n",
            "    general=general,\n",
            "    content=research_content_df,\n",
            "    research=research,\n",
            "    current_members=info_json_dict,\n",
            ")"
         ]
      },
      {
         "cell_type": "code",
         "execution_count": 78,
         "metadata": {
            "ExecuteTime": {
               "end_time": "2023-11-21T07:07:36.589414282Z",
               "start_time": "2023-11-21T07:07:36.544920583Z"
            }
         },
         "outputs": [],
         "source": [
            "SUB_RESEARCH_PATH.mkdir(parents=True, exist_ok=True)\n",
            "\n",
            "for category in article_content_df.loc[\n",
            "    article_content_df.category != \"News\", \"category\"\n",
            "].unique():\n",
            "    create_page(\n",
            "        \"sub_research_frontpage.html.j2\",\n",
            "        f\"sub_research/{page_link(category.lower())}.html\",\n",
            "        general=general,\n",
            "        research=research,\n",
            "        content=research_content_df,\n",
            "        category=category,\n",
            "        current_members=info_json_dict,\n",
            "    )"
         ]
      },
      {
         "cell_type": "markdown",
         "metadata": {
            "ExecuteTime": {
               "end_time": "2023-11-21T07:07:36.589414282Z",
               "start_time": "2023-11-21T07:07:36.544920583Z"
            }
         },
         "source": [
            "Individual Research Page\n"
         ]
      },
      {
         "cell_type": "code",
         "execution_count": 79,
         "metadata": {
            "ExecuteTime": {
               "end_time": "2023-11-21T07:07:36.589414282Z",
               "start_time": "2023-11-21T07:07:36.544920583Z"
            }
         },
         "outputs": [],
         "source": [
            "for ind_research_keys, ind_research_values in research_content_df.iterrows():\n",
            "    destination_research_path = f\"sub_research/{page_link(ind_research_values.category.lower())}/{page_link(ind_research_values.article_id.lower())}.html\"\n",
            "    if ind_research_values['category'] == \"Software\":\n",
            "        destination_research_path = f\"sub_research/{page_link(ind_research_values.article_id.lower())}.html\"\n",
            "\n",
            "    folder_path = SUB_RESEARCH_PATH / page_link(ind_research_values.category.lower())\n",
            "    folder_path.mkdir(parents=True, exist_ok=True)\n",
            "    create_page(\n",
            "        \"research_page_no_twitter.html.j2\",\n",
            "        destination_research_path,\n",
            "        general=general,\n",
            "        content=ind_research_values,\n",
            "        member_data=info_json_dict,\n",
            "        article_id=ind_research_values[\"article_id\"],\n",
            "    )"
         ]
      },
      {
         "cell_type": "markdown",
         "metadata": {},
         "source": [
            "# News Page"
         ]
      },
      {
         "cell_type": "code",
         "execution_count": 80,
         "metadata": {
            "ExecuteTime": {
               "end_time": "2023-11-21T07:10:29.508008736Z",
               "start_time": "2023-11-21T07:10:29.418263240Z"
            }
         },
         "outputs": [],
         "source": [
            "create_page(\n",
            "    \"news.html.j2\",\n",
            "    \"News.html\",\n",
            "    general=general,\n",
            "    content=news_content_df,\n",
            "    category=\"News\",\n",
            "    member_data=info_json_dict,\n",
            ")"
         ]
      },
      {
         "cell_type": "markdown",
         "metadata": {},
         "source": [
            "Individual News Page"
         ]
      },
      {
         "cell_type": "code",
         "execution_count": 81,
         "metadata": {},
         "outputs": [],
         "source": [
            "for ind_news_keys, ind_news_values in news_content_df.iterrows():\n",
            "    folder_path = HOSTING_PATH / \"news\" / page_link(ind_news_values.article_id.lower())\n",
            "    create_page(\n",
            "        \"news_page_no_twitter.html.j2\",\n",
            "        f\"news/{page_link(ind_news_values.article_id.lower())}.html\",\n",
            "        general=general,\n",
            "        content=ind_news_values,\n",
            "        member_data=info_json_dict,\n",
            "        category=\"News\"\n",
            "    )"
         ]
      }
   ],
   "metadata": {
      "kernelspec": {
         "display_name": "Python 3 (ipykernel)",
         "language": "python",
         "name": "python3"
      },
      "language_info": {
         "codemirror_mode": {
            "name": "ipython",
            "version": 3
         },
         "file_extension": ".py",
         "mimetype": "text/x-python",
         "name": "python",
         "nbconvert_exporter": "python",
         "pygments_lexer": "ipython3",
         "version": "3.10.14"
      }
   },
   "nbformat": 4,
   "nbformat_minor": 4
}
