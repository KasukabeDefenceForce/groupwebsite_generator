{
 "cells": [
  {
   "attachments": {},
   "cell_type": "markdown",
   "metadata": {},
   "source": [
    "### This notebook consist of code for creating the html files for the website each time data is updated."
   ]
  },
  {
   "attachments": {},
   "cell_type": "markdown",
   "metadata": {},
   "source": [
    "##### Set-up"
   ]
  },
  {
   "cell_type": "code",
   "execution_count": null,
   "metadata": {},
   "outputs": [],
   "source": [
    "# change the working directory to the desired location\n",
    "#temporary, only for local\n",
    "# import os\n",
    "# os.chdir(\"/home/bumblebealu/groupwebsite_generator/\")\n",
    "#os.chdir(\"/Users/harshul/website clone/harshul/test/groupwebsite_generator\")\n",
    "#os.getcwd()"
   ]
  },
  {
   "cell_type": "code",
   "execution_count": null,
   "metadata": {},
   "outputs": [],
   "source": [
    "#Importing classes from the Jinja2 library to load and render templates.\n",
    "from jinja2 import Environment, FileSystemLoader\n",
    "import json\n",
    "import os\n",
    "from jinja2.exceptions import UndefinedError"
   ]
  },
  {
   "cell_type": "code",
   "execution_count": null,
   "metadata": {},
   "outputs": [],
   "source": [
    "#Function for creating proper html file names\n",
    "def page_link(a):\n",
    "    if ' ' in a:\n",
    "        return a.replace(' ', '_')\n",
    "    else:\n",
    "        return a"
   ]
  },
  {
   "cell_type": "code",
   "execution_count": null,
   "metadata": {},
   "outputs": [],
   "source": [
    "#Creating an instance of the Environment class that looks for templates. Page_link is set to the global variable so that it can be accessed by all templates\n",
    "environment = Environment(loader=FileSystemLoader('templates/'))\n",
    "environment.globals['page_link'] = page_link"
   ]
  },
  {
   "cell_type": "code",
   "execution_count": null,
   "metadata": {},
   "outputs": [],
   "source": [
    "json_files = ['general', 'homepage', 'post_docs', 'undergrads', 'research_engineers',\n",
    "              'faculty', 'researchers', 'grads', 'astrophysical_transients',\n",
    "              'computational_metascience', 'news', 'support', 'contact']\n",
    "\n",
    "data = {}\n",
    "\n",
    "for json_file in json_files:\n",
    "    try:\n",
    "        if json_file in [\"general\", \"homepage\", \"support\", \"contact\"]:\n",
    "            with open(f\"../group-data/groupwebsite_data/{json_file}.json\") as json_var:\n",
    "                data[json_file] = json.load(json_var)\n",
    "\n",
    "        if json_file in [\"computational_metascience\", \"astrophysical_transients\"]:\n",
    "            with open(f\"../group-data/groupwebsite_data/research/sub_research_data/combined/\"\n",
    "                      f\"{json_file}.json\") as json_var:\n",
    "                data[json_file] = json.load(json_var)\n",
    "        if json_file == \"news\":\n",
    "            with open(f\"../group-data/groupwebsite_data/news/combined_news.json\") as json_var:\n",
    "                data[json_file] = json.load(json_var)\n",
    "        else:\n",
    "            with open(f\"../group-data/members/common/{json_file}.json\") as json_var:\n",
    "                data[json_file] = json.load(json_var)\n",
    "\n",
    "    except (FileNotFoundError, json.JSONDecodeError):\n",
    "        pass"
   ]
  },
  {
   "attachments": {},
   "cell_type": "markdown",
   "metadata": {},
   "source": [
    "##### Homepage"
   ]
  },
  {
   "cell_type": "code",
   "execution_count": null,
   "metadata": {},
   "outputs": [],
   "source": [
    "homepage_template = environment.get_template('homepage.html.j2')"
   ]
  },
  {
   "cell_type": "code",
   "execution_count": null,
   "metadata": {},
   "outputs": [],
   "source": [
    "homepage_content = \\\n",
    "    homepage_template.render(general=data['general'],\n",
    "                             Homepage=data['homepage'],\n",
    "                             computational_metascience=data['computational_metascience'\n",
    "                             ],\n",
    "                             astrophysical_transients=data['astrophysical_transients'\n",
    "                             ])"
   ]
  },
  {
   "cell_type": "code",
   "execution_count": null,
   "metadata": {},
   "outputs": [],
   "source": [
    "#open in write mode\n",
    "with open('../kerzendorf-group.github.io/index.html', mode='w', encoding='utf-8') as Homepage:\n",
    "    Homepage.write(homepage_content)"
   ]
  },
  {
   "attachments": {},
   "cell_type": "markdown",
   "metadata": {},
   "source": [
    "##### People Page"
   ]
  },
  {
   "cell_type": "code",
   "execution_count": null,
   "metadata": {},
   "outputs": [],
   "source": [
    "people_template = environment.get_template(\"people.html.j2\")"
   ]
  },
  {
   "cell_type": "code",
   "execution_count": null,
   "metadata": {},
   "outputs": [],
   "source": [
    "required_keys = [\"faculty\", \"post_docs\", \"grads\", \"undergrads\",\"research_engineers\", \"researchers\"]\n",
    "if all(key in data for key in required_keys):\n",
    "    try:\n",
    "        people_content = people_template.render(general=data[\"general\"], faculty=data[\"faculty\"], post_docs=data[\"post_docs\"], grads=data[\"grads\"], undergrads=data[\"undergrads\"], research_engineers=data[\"research_engineers\"], researchers=data[\"researchers\"])\n",
    "    except UndefinedError as e:\n",
    "        print(f\"Error: {e.message}\")\n",
    "        # handle the error here\n",
    "else:\n",
    "    missing_key = next(key for key in required_keys if key not in data)\n",
    "    print(f\"Error: {missing_key} not found in data dictionary.\") "
   ]
  },
  {
   "cell_type": "code",
   "execution_count": null,
   "metadata": {},
   "outputs": [],
   "source": [
    "with open(\"../kerzendorf-group.github.io/People.html\", mode=\"w\", encoding=\"utf-8\") as people:\n",
    "    people.write(people_content)"
   ]
  },
  {
   "attachments": {},
   "cell_type": "markdown",
   "metadata": {},
   "source": [
    "##### Individual People Page"
   ]
  },
  {
   "cell_type": "code",
   "execution_count": null,
   "metadata": {},
   "outputs": [],
   "source": [
    "ind_person_template = environment.get_template(\"individual_person.html.j2\")"
   ]
  },
  {
   "cell_type": "code",
   "execution_count": null,
   "metadata": {},
   "outputs": [],
   "source": [
    "required_keys = [\"faculty\", \"post_docs\", \"grads\", \"undergrads\",\"research_engineers\", \"researchers\"]\n",
    "if all(key in data for key in required_keys):\n",
    "    for category in [data[\"faculty\"], data[\"post_docs\"], data[\"grads\"], data[\"undergrads\"], data[\"research_engineers\"], data[\"researchers\"]]:\n",
    "        for person in category[0:]:\n",
    "            filename = f\"../kerzendorf-group.github.io/members/{ page_link(person['your_directory_name'])}/{ page_link(person['your_directory_name'])}.html\"\n",
    "            ind_person_content = ind_person_template.render(general=data['general'], person=person)\n",
    "            with open(filename, mode=\"w\", encoding=\"utf-8\") as page:\n",
    "                page.write(ind_person_content)\n",
    "else:\n",
    "    missing_key = next(key for key in required_keys if key not in data)\n",
    "    print(f\"Error: {missing_key} not found in data dictionary.\")\n"
   ]
  },
  {
   "attachments": {},
   "cell_type": "markdown",
   "metadata": {},
   "source": [
    "##### Research Page"
   ]
  },
  {
   "cell_type": "code",
   "execution_count": null,
   "metadata": {},
   "outputs": [],
   "source": [
    "research_template = environment.get_template(\"research.html.j2\")\n",
    "sub_research_template = environment.get_template(\"sub_research_frontpage.html.j2\")"
   ]
  },
  {
   "cell_type": "code",
   "execution_count": null,
   "metadata": {},
   "outputs": [],
   "source": [
    "required_keys = [\"astrophysical_transients\", \"computational_metascience\"]\n",
    "if all(key in data for key in required_keys):\n",
    "    try:\n",
    "        research_content = research_template.render(general=data[\"general\"], computational_metascience=data[\"computational_metascience\"], astrophysical_transients=data[\"astrophysical_transients\"])\n",
    "    except UndefinedError as e:\n",
    "        print(f\"Error: {e.message}\")\n",
    "        # handle the error here\n",
    "else:\n",
    "    missing_key = next(key for key in required_keys if key not in data)\n",
    "    print(f\"Error: {missing_key} not found in data dictionary.\")"
   ]
  },
  {
   "cell_type": "code",
   "execution_count": null,
   "metadata": {},
   "outputs": [],
   "source": [
    "with open(\"../kerzendorf-group.github.io/Research.html\", mode=\"w\", encoding=\"utf-8\") as research:\n",
    "        research.write(research_content)"
   ]
  },
  {
   "cell_type": "code",
   "execution_count": null,
   "metadata": {},
   "outputs": [],
   "source": [
    "for key in required_keys:\n",
    "    if key in data:\n",
    "        try:\n",
    "            sub_research_content = sub_research_template.render(general=data[\"general\"], **{key: data[key]})\n",
    "        except UndefinedError as e:\n",
    "            print(f\"Error: {e.message}\")\n",
    "            # handle the error here\n",
    "        folder_path = f\"../kerzendorf-group.github.io/sub_research/{key}\"\n",
    "        os.makedirs(folder_path, exist_ok=True)\n",
    "\n",
    "        with open(f\"../kerzendorf-group.github.io/sub_research/{key}.html\", mode=\"w\", encoding=\"utf-8\") as sub_research:\n",
    "            sub_research.write(sub_research_content)\n",
    "    else:\n",
    "        print(f\"Error: {key} not found in data dictionary.\")"
   ]
  },
  {
   "attachments": {},
   "cell_type": "markdown",
   "metadata": {},
   "source": [
    "##### News Page"
   ]
  },
  {
   "cell_type": "code",
   "execution_count": null,
   "metadata": {},
   "outputs": [],
   "source": [
    "news_template = environment.get_template(\"news.html.j2\")"
   ]
  },
  {
   "cell_type": "code",
   "execution_count": null,
   "metadata": {},
   "outputs": [],
   "source": [
    "required_keys = [\"news\"]\n",
    "if all(key in data for key in required_keys):\n",
    "    try:\n",
    "        news_content = news_template.render(general=data[\"general\"],news=data[\"news\"])\n",
    "    except UndefinedError as e:\n",
    "        print(f\"Error: {e.message}\")\n",
    "        # handle the error here\n",
    "else:\n",
    "    missing_key = next(key for key in required_keys if key not in data)\n",
    "    print(f\"Error: {missing_key} not found in data dictionary.\")\n"
   ]
  },
  {
   "cell_type": "code",
   "execution_count": null,
   "metadata": {},
   "outputs": [],
   "source": [
    "with open(\"../kerzendorf-group.github.io/News.html\", mode=\"w\", encoding=\"utf-8\") as news:\n",
    "        news.write(news_content)"
   ]
  },
  {
   "attachments": {},
   "cell_type": "markdown",
   "metadata": {},
   "source": [
    "##### Support Page"
   ]
  },
  {
   "cell_type": "code",
   "execution_count": null,
   "metadata": {},
   "outputs": [],
   "source": [
    "support_template = environment.get_template('support.html.j2')"
   ]
  },
  {
   "cell_type": "code",
   "execution_count": null,
   "metadata": {},
   "outputs": [],
   "source": [
    "support_content = support_template.render(general=data[\"general\"], support=data[\"support\"])"
   ]
  },
  {
   "cell_type": "code",
   "execution_count": null,
   "metadata": {},
   "outputs": [],
   "source": [
    "with open('../kerzendorf-group.github.io/Support.html', mode='w', encoding='utf-8') as support:\n",
    "    support.write(support_content)"
   ]
  },
  {
   "attachments": {},
   "cell_type": "markdown",
   "metadata": {},
   "source": [
    "##### Contact"
   ]
  },
  {
   "cell_type": "code",
   "execution_count": null,
   "metadata": {},
   "outputs": [],
   "source": [
    "contact_template = environment.get_template('contact.html.j2')"
   ]
  },
  {
   "cell_type": "code",
   "execution_count": null,
   "metadata": {},
   "outputs": [],
   "source": [
    "contact_content = contact_template.render(general=data[\"general\"], contact=data[\"contact\"])"
   ]
  },
  {
   "cell_type": "code",
   "execution_count": null,
   "metadata": {},
   "outputs": [],
   "source": [
    "with open('../kerzendorf-group.github.io/Contact.html', mode='w', encoding='utf-8') as contact:\n",
    "    contact.write(contact_content)"
   ]
  }
 ],
 "metadata": {
  "kernelspec": {
   "display_name": "Python 3",
   "language": "python",
   "name": "python3"
  },
  "language_info": {
   "codemirror_mode": {
    "name": "ipython",
    "version": 3
   },
   "file_extension": ".py",
   "mimetype": "text/x-python",
   "name": "python",
   "nbconvert_exporter": "python",
   "pygments_lexer": "ipython3",
   "version": "3.8.2"
  },
  "orig_nbformat": 4
 },
 "nbformat": 4,
 "nbformat_minor": 2
}
