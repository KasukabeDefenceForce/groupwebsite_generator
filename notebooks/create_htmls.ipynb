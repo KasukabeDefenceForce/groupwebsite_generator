{
   "cells": [
      {
         "attachments": {},
         "cell_type": "markdown",
         "metadata": {
            "jp-MarkdownHeadingCollapsed": true
         },
         "source": [
            "### This notebook consist of code for creating the html files for the website each time data is updated."
         ]
      },
      {
         "attachments": {},
         "cell_type": "markdown",
         "metadata": {},
         "source": [
            "# Set-up"
         ]
      },
      {
         "cell_type": "markdown",
         "metadata": {},
         "source": [
            "Importing classes"
         ]
      },
      {
         "cell_type": "code",
         "execution_count": 385,
         "metadata": {
            "ExecuteTime": {
               "end_time": "2023-11-21T07:07:36.145701234Z",
               "start_time": "2023-11-21T07:07:35.993568325Z"
            }
         },
         "outputs": [],
         "source": [
            "import json\n",
            "import pandas as pd\n",
            "from jinja2 import Environment, FileSystemLoader\n",
            "from pathlib import Path\n",
            "import shutil\n",
            "from datetime import datetime, date\n",
            "import numpy as np\n"
         ]
      },
      {
         "cell_type": "markdown",
         "metadata": {},
         "source": [
            "Defining paths"
         ]
      },
      {
         "cell_type": "code",
         "execution_count": 386,
         "metadata": {
            "ExecuteTime": {
               "end_time": "2023-11-21T07:07:36.276371007Z",
               "start_time": "2023-11-21T07:07:36.010519700Z"
            }
         },
         "outputs": [],
         "source": [
            "GROUP_DATA_DIR = Path(\"../../group-data\")\n",
            "TEMPLATE_DIR_PATH = GROUP_DATA_DIR.parent / \"groupwebsite_generator\" / \"templates\"\n",
            "WEBSITE_DATA_PATH = GROUP_DATA_DIR / \"website_data/\"\n",
            "HOSTING_PATH = GROUP_DATA_DIR.parent / \"kerzendorf-group.github.io\"\n",
            "ARTICLE_DIR_PATH = Path(\"../../research_news/articles\")\n",
            "ARTICLE_IMAGE_PATH = Path(\"../../research_news/images\")\n",
            "ARTICLE_IMAGE_DESTINATION_DIR = (HOSTING_PATH / \"website_files\" / \"images\" / \"article_content\")\n",
            "MEMBERS_DIR_PATH = GROUP_DATA_DIR / \"members/\"\n",
            "CONTENT_DIR_PATH = WEBSITE_DATA_PATH / \"content\"\n",
            "SUB_RESEARCH_PATH = HOSTING_PATH / \"sub_research\"\n",
            "\n",
            "ROLE_HIERARCHY_PATH = WEBSITE_DATA_PATH / \"role_hierarchy.json\""
         ]
      },
      {
         "cell_type": "markdown",
         "metadata": {
            "jp-MarkdownHeadingCollapsed": true
         },
         "source": [
            "Setting up jinja environment"
         ]
      },
      {
         "cell_type": "code",
         "execution_count": 387,
         "metadata": {
            "ExecuteTime": {
               "end_time": "2023-11-21T07:07:36.311056453Z",
               "start_time": "2023-11-21T07:07:36.038221785Z"
            }
         },
         "outputs": [],
         "source": [
            "# Function to create proper HTML file names by replacing spaces with underscores\n",
            "def page_link(a):\n",
            "    \"\"\"Return the HTML file name after replacing blank spaces(\" \") with underscores(\"-\")\"\"\"\n",
            "    return a.replace(\" \", \"_\") if \" \" in a else a\n",
            "\n",
            "environment = Environment(\n",
            "    loader=FileSystemLoader(TEMPLATE_DIR_PATH), extensions=[\"jinja2.ext.loopcontrols\", \"jinja2.ext.do\"]\n",
            ")\n",
            "environment.globals[\"page_link\"] = page_link"
         ]
      },
      {
         "cell_type": "markdown",
         "metadata": {
            "jp-MarkdownHeadingCollapsed": true
         },
         "source": [
            "# Data Processing Setup"
         ]
      },
      {
         "cell_type": "markdown",
         "metadata": {},
         "source": [
            "Data Processing Parameters"
         ]
      },
      {
         "cell_type": "code",
         "execution_count": 388,
         "metadata": {
            "ExecuteTime": {
               "end_time": "2023-11-21T07:07:36.308005773Z",
               "start_time": "2023-11-21T07:07:36.024555660Z"
            }
         },
         "outputs": [],
         "source": [
            "# Needed columns for articles\n",
            "ARTICLE_METADATA_FIELDS = [\n",
            "    \"article_id\",\n",
            "    \"category\",\n",
            "    \"date\",\n",
            "    \"tags\",\n",
            "    \"title\",\n",
            "    \"cover_image\",\n",
            "    \"short_description\"\n",
            "]\n",
            "# Groups and institution used in filtering data\n",
            "GROUP_FILTER = [\"DTI\", \"TARDIS\", \"ICER\", \"kerzendorf\"]\n",
            "INSTITUTION_FILTER = \"Michigan State University\"\n",
            "\n",
            "# Map roles to standardized roles for consistency\n",
            "ROLE_MAP = {\n",
            "    \"Assistant Professor\": \"Professor\",\n",
            "    \"Professor\": \"Professor\",\n",
            "    \"Visualization Consultant\": \"Visualization Consultant\",\n",
            "    \"Research Consultant\": \"Research Consultant\",\n",
            "    \"Research Software Engineer\": \"Research Software Engineer\",\n",
            "    \"Professorial Assistant\": \"Undergraduate Student\",\n",
            "    \"Visiting Researcher\": \"Postdoctoral Researcher\",\n",
            "    \"Postdoctoral Researcher\": \"Postdoctoral Researcher\",\n",
            "}\n",
            "\n",
            "# Map degrees to standardized academic levels\n",
            "DEGREE_MAP = {\n",
            "    \"Masters\": \"Graduate Student\",\n",
            "    \"PhD\": \"Postdoctorate\",  #  if end_date is present\n",
            "    \"Bachelors\": \"Undergraduate Student\",\n",
            "}\n",
            "\n",
            "INDIVIDUAL_MEMBER_SECTION_MAP = {\n",
            "    \"education\": \"Education\",\n",
            "    \"experiences\": \"Experience\",\n",
            "    \"projects\": \"Projects\",\n",
            "    \"awards\": \"Awards & Recognition\",\n",
            "    \"outreach\": \"Outreach Programs\",\n",
            "}"
         ]
      },
      {
         "cell_type": "markdown",
         "metadata": {
            "jp-MarkdownHeadingCollapsed": true
         },
         "source": [
            "# Functions for Data Handling"
         ]
      },
      {
         "cell_type": "code",
         "execution_count": 389,
         "metadata": {},
         "outputs": [],
         "source": [
            "def loading_website_data(file_to_load):\n",
            "    \"\"\"\n",
            "    Load data from JSON files specified in a list of file names.\n",
            "\n",
            "    Parameters:\n",
            "    ----------\n",
            "    json_data_list : list of str\n",
            "        A list of file names (without extension) to load as JSON.\n",
            "\n",
            "    Returns:\n",
            "    -------\n",
            "    dict\n",
            "        A dictionary where keys are file names and values are the corresponding JSON data.\n",
            "\n",
            "    Raises:\n",
            "    ------\n",
            "    FileNotFoundError:\n",
            "        If a specified file does not exist.\n",
            "    json.JSONDecodeError:\n",
            "        If there's an issue decoding the JSON content from a file.\n",
            "\n",
            "    \"\"\"\n",
            "    loaded_data = {}\n",
            "    file_matches = WEBSITE_DATA_PATH/ f\"{file_to_load}.json\"\n",
            "    if file_matches:\n",
            "        try:\n",
            "            with open(file_matches, \"r\") as json_file:\n",
            "                loaded_data = json.load(json_file)\n",
            "        except json.JSONDecodeError:\n",
            "            print(f\"Error decoding JSON in '{file_matches}'.\")\n",
            "    else:\n",
            "        print(f\"File '{file_to_load}.json' not found.\")\n",
            "\n",
            "    return loaded_data"
         ]
      },
      {
         "cell_type": "code",
         "execution_count": 390,
         "metadata": {},
         "outputs": [],
         "source": [
            "def read_member_data_jsons(file_to_read):\n",
            "    member_data_list = []\n",
            "    member_data_df = pd.DataFrame([])\n",
            "    for single_info_file_path in MEMBERS_DIR_PATH.glob(\"*/info.json\"):\n",
            "        with open(single_info_file_path, \"r\") as f_info:\n",
            "            member_data = json.load(f_info)\n",
            "        member_unique_id = member_data[\"id\"]\n",
            "        file_to_read_path = single_info_file_path.parent / \"jsons\" / file_to_read\n",
            "\n",
            "        if file_to_read_path.exists():\n",
            "            with file_to_read_path.open(\"r\") as f_data:\n",
            "                member_other_data = json.load(f_data)\n",
            "            for entry in member_other_data:\n",
            "                entry[\"id\"] = member_unique_id\n",
            "            member_data_list.append(\n",
            "                pd.DataFrame(member_other_data)\n",
            "            )\n",
            "        # else:\n",
            "        #     data_path_in_kl = KERZENDORF_GROUP_DATA / \"members\" / member_unique_id / \"jsons\" / file_to_read\n",
            "        #     if data_path_in_kl.exists():\n",
            "        #         with data_path_in_kl.open(\"r\") as data_file:\n",
            "        #             member_other_data_kl = json.load(data_file)\n",
            "        #         for entry in member_other_data_kl:\n",
            "        #             entry[\"id\"] = member_unique_id\n",
            "        #         member_data_list.append(\n",
            "        #             pd.DataFrame(member_other_data_kl)\n",
            "        #         )\n",
            "\n",
            "    if member_data_list:\n",
            "        member_data_df = pd.concat(\n",
            "            member_data_list, ignore_index=True\n",
            "        )\n",
            "        member_data_df.set_index(\"id\", inplace=True)\n",
            "\n",
            "    return member_data_df"
         ]
      },
      {
         "cell_type": "code",
         "execution_count": 391,
         "metadata": {},
         "outputs": [],
         "source": [
            "def set_new_image_path(old_image_path):\n",
            "    image_source = ARTICLE_IMAGE_PATH / old_image_path.name\n",
            "    image_destination = ARTICLE_IMAGE_DESTINATION_DIR / old_image_path.name\n",
            "    website_files_index = image_destination.parts.index(\"website_files\")\n",
            "    new_image_path = Path(*image_destination.parts[website_files_index:])\n",
            "    shutil.copy2(image_source, image_destination)\n",
            "    return str(new_image_path)"
         ]
      },
      {
         "cell_type": "markdown",
         "metadata": {
            "jp-MarkdownHeadingCollapsed": true
         },
         "source": [
            "# DataFrame Creation and Processing"
         ]
      },
      {
         "cell_type": "markdown",
         "metadata": {},
         "source": [
            "Creating dataframes for articles which can be updated further "
         ]
      },
      {
         "cell_type": "code",
         "execution_count": 392,
         "metadata": {
            "ExecuteTime": {
               "end_time": "2023-11-21T07:07:36.355136270Z",
               "start_time": "2023-11-21T07:07:36.080422459Z"
            }
         },
         "outputs": [],
         "source": [
            "# Reading all articles\n",
            "article_content_list = []\n",
            "today = date.today()\n",
            "for content_file_name in ARTICLE_DIR_PATH.iterdir():\n",
            "    with open(content_file_name, \"r\") as fcontent:\n",
            "        article_content = json.load(fcontent)\n",
            "    today_datetime = datetime.combine(today, datetime.min.time())\n",
            "    article_date = datetime.strptime(article_content[\"date\"], \"%m-%d-%Y\")\n",
            "    if \"kg\" in article_content[\"platforms\"] and article_date <= today_datetime:\n",
            "        image_path = Path(article_content[\"cover_image\"])\n",
            "        article_content[\"cover_image\"] = set_new_image_path(image_path)\n",
            "        for content_key, content_value in article_content[\"content\"].items():\n",
            "            if \"img\" in content_key:\n",
            "                new_content_value = set_new_image_path(Path(content_value))\n",
            "                article_content[\"content\"][content_key] = new_content_value\n",
            "        article_content_list.append(article_content)\n",
            "article_content_df = pd.DataFrame(article_content_list)\n",
            "\n",
            "article_content_df[\"date\"] = pd.to_datetime(\n",
            "    article_content_df[\"date\"], format=\"%m-%d-%Y\"\n",
            ")\n",
            "\n",
            "article_content_df[\"cover_image_height\"] = (\n",
            "    article_content_df[\"cover_image_height\"].fillna(\"330px\").replace(\"\", \"330px\")\n",
            ")\n",
            "article_content_df[\"cover_image_width\"] = (\n",
            "    article_content_df[\"cover_image_width\"].fillna(\"520px\").replace(\"\", \"520px\")\n",
            ")\n",
            "\n",
            "#THis line is only for kerzendorf lab and is not needed on dti\n",
            "article_content_df[\"category\"] = article_content_df[\"category\"].replace(\n",
            "    \"Overview\", \"Computational Metascience\"\n",
            ")"
         ]
      },
      {
         "cell_type": "code",
         "execution_count": 393,
         "metadata": {},
         "outputs": [],
         "source": [
            "news_content_df = article_content_df[\n",
            "    (article_content_df[\"category\"] == \"News\")\n",
            "    | (\n",
            "        article_content_df[\"tags\"].apply(\n",
            "            lambda x: \"news\" in x if isinstance(x, list) else False\n",
            "        )\n",
            "    )\n",
            "].sort_values(by=[\"date\"], ascending=[False])\n",
            "\n",
            "research_content_df = article_content_df[\n",
            "    article_content_df[\"category\"] != \"News\"\n",
            "].sort_values(by=[\"category\", \"date\"], ascending=[True, False])"
         ]
      },
      {
         "cell_type": "code",
         "execution_count": 394,
         "metadata": {},
         "outputs": [],
         "source": [
            "info_json_list = []\n",
            "for single_info_file_path in MEMBERS_DIR_PATH.glob(\"*/info.json\"):\n",
            "    with open(single_info_file_path, \"r\") as f_info:\n",
            "        member_data = json.load(f_info)\n",
            "    # if len(member_data.keys()) == 1:\n",
            "    #     info_json_path = (\n",
            "    #         KERZENDORF_GROUP_DATA / \"members\" / member_data[\"id\"] / \"info.json\"\n",
            "    #     )\n",
            "    #     member_images_dir = HOSTING_PATH / \"members\" / member_data[\"id\"] / \"media\"\n",
            "    #     with open(info_json_path, \"r\") as f_info_kl:\n",
            "    #         member_data_from_kl = json.load(f_info_kl)\n",
            "    #     member_images_dir_source = (\n",
            "    #         KERZENDORF_GROUP_DATA / \"members\" / member_data[\"id\"] / \"media\"\n",
            "    #     )\n",
            "\n",
            "    #     shutil.copytree(member_images_dir_source, member_images_dir, dirs_exist_ok=True)\n",
            "    #     info_json_list.append(member_data_from_kl)\n",
            "    # else:\n",
            "    info_json_list.append(member_data)\n",
            "info_json_df = pd.DataFrame(info_json_list)\n",
            "info_json_df.set_index(\"id\", inplace=True)\n",
            "info_json_df[\"full_name\"] = info_json_df.apply(\n",
            "    lambda row: (\n",
            "        row[\"nick_name\"] + \" \" + row[\"last_name\"]\n",
            "        if pd.notna(row[\"nick_name\"])\n",
            "        else row[\"first_name\"] + \" \" + row[\"last_name\"]\n",
            "    ),\n",
            "    axis=1,\n",
            ")\n",
            "info_json_dict = info_json_df.to_dict(\"index\")"
         ]
      },
      {
         "cell_type": "code",
         "execution_count": 395,
         "metadata": {},
         "outputs": [],
         "source": [
            "exp_df = read_member_data_jsons(\"experiences.json\")[\n",
            "    [\n",
            "        \"role\",\n",
            "        \"start_date\",\n",
            "        \"end_date\",\n",
            "        \"institution\",\n",
            "        \"group\",\n",
            "    ]\n",
            "]\n",
            "edu_df = read_member_data_jsons(\"education.json\")[\n",
            "    [\"start_date\", \"end_date\", \"institution\", \"subject\", \"degree\"]\n",
            "]"
         ]
      },
      {
         "cell_type": "code",
         "execution_count": 396,
         "metadata": {},
         "outputs": [],
         "source": [
            "social_link_list = []\n",
            "for single_member_file_path in MEMBERS_DIR_PATH.rglob(\"social_links.json\"):\n",
            "    with open(single_member_file_path, \"r\") as fname:\n",
            "        member_social_link = json.load(fname)\n",
            "    info_json_file_path = single_member_file_path.parent.parent / \"info.json\"\n",
            "    with open(info_json_file_path, \"r\") as file_info:\n",
            "        member_info_data = json.load(file_info)\n",
            "    mem_id = member_info_data[\"id\"]\n",
            "    member_social_link[\"id\"] = mem_id\n",
            "    social_link_list.append(member_social_link)\n",
            "social_links_df = pd.DataFrame(social_link_list)\n",
            "social_links_df.set_index(\"id\", inplace=True)\n",
            "social_links_df.fillna(\"\", inplace=True)"
         ]
      },
      {
         "cell_type": "code",
         "execution_count": 397,
         "metadata": {},
         "outputs": [],
         "source": [
            "recent_content = article_content_df.sort_values(\n",
            "    by=[\"category\", \"date\"], ascending=[True, False]\n",
            ")\n",
            "# Get the first row for each category using groupby and head\n",
            "recent_content = recent_content.groupby(\"category\").head(1).copy()"
         ]
      },
      {
         "cell_type": "markdown",
         "metadata": {
            "jp-MarkdownHeadingCollapsed": true
         },
         "source": [
            "# Page Creation"
         ]
      },
      {
         "cell_type": "markdown",
         "metadata": {},
         "source": [
            "Function to create a page"
         ]
      },
      {
         "cell_type": "code",
         "execution_count": 398,
         "metadata": {
            "ExecuteTime": {
               "end_time": "2023-11-21T07:07:36.337418487Z",
               "start_time": "2023-11-21T07:07:36.065742781Z"
            },
            "jupyter": {
               "source_hidden": true
            }
         },
         "outputs": [],
         "source": [
            "def create_page(template, html, **kwargs):\n",
            "    \"\"\"\n",
            "    Create an HTML page using a Jinja2 template and save it to a specified path.\n",
            "\n",
            "    Parameters:\n",
            "    ----------\n",
            "    template : str\n",
            "        The filename of the Jinja2 template to be used.\n",
            "    html : str\n",
            "        The filename of the HTML file to be generated.\n",
            "    **kwargs : dict\n",
            "        Additional keyword arguments to be passed to the Jinja2 template for rendering.\n",
            "\n",
            "    Returns:\n",
            "    -------\n",
            "    None\n",
            "\n",
            "    \"\"\"\n",
            "    page_template = environment.get_template(template)\n",
            "    template_level = html.count(\"/\")\n",
            "    page_html_path = HOSTING_PATH / html\n",
            "    page_html_path.parent.mkdir(parents=True, exist_ok=True)\n",
            "    page_content = page_template.render(TEMPLATE_LEVEL=template_level, **kwargs)\n",
            "    with open(page_html_path, mode=\"w\", encoding=\"utf-8\") as page:\n",
            "        page.write(page_content)"
         ]
      },
      {
         "cell_type": "markdown",
         "metadata": {},
         "source": [
            "# Processing List Of JSON files"
         ]
      },
      {
         "cell_type": "code",
         "execution_count": 399,
         "metadata": {
            "ExecuteTime": {
               "end_time": "2023-11-21T07:07:36.392640967Z",
               "start_time": "2023-11-21T07:07:36.099540795Z"
            }
         },
         "outputs": [],
         "source": [
            "# Function Call\n",
            "general = loading_website_data(\"general\")\n",
            "homepage = loading_website_data(\"homepage\")\n",
            "contact = loading_website_data(\"contact\")\n",
            "research = loading_website_data(\"research_categories\")\n",
            "support = loading_website_data(\"support\")"
         ]
      },
      {
         "attachments": {},
         "cell_type": "markdown",
         "metadata": {},
         "source": [
            "# Homepage"
         ]
      },
      {
         "cell_type": "markdown",
         "metadata": {},
         "source": [
            "Storing selected columns for Homepage only"
         ]
      },
      {
         "cell_type": "code",
         "execution_count": 400,
         "metadata": {
            "ExecuteTime": {
               "end_time": "2023-11-21T07:07:36.460321141Z",
               "start_time": "2023-11-21T07:07:36.164866903Z"
            }
         },
         "outputs": [],
         "source": [
            "create_page(\n",
            "    \"homepage.html.j2\",\n",
            "    \"index.html\",\n",
            "    general=general,\n",
            "    homepage=homepage,\n",
            "    recent_content=recent_content.to_dict(orient=\"records\"),\n",
            ")"
         ]
      },
      {
         "attachments": {},
         "cell_type": "markdown",
         "metadata": {},
         "source": [
            "# Current Members Page"
         ]
      },
      {
         "cell_type": "code",
         "execution_count": 401,
         "metadata": {
            "ExecuteTime": {
               "end_time": "2023-11-21T07:07:36.460567962Z",
               "start_time": "2023-11-21T07:07:36.165051029Z"
            }
         },
         "outputs": [],
         "source": [
            "exp_df['end_date'] = pd.to_datetime(exp_df['end_date'], format='%Y-%m-%d')\n",
            "filtered_exp_df = exp_df[(exp_df[\"end_date\"].isna()) | (exp_df[\"end_date\"].dt.date >= datetime.now().date())]\n",
            "def most_recent_row(group):\n",
            "    return group[group[\"start_date\"] == group[\"start_date\"].max()]\n",
            "filtered_exp_df_most_recent = (\n",
            "    filtered_exp_df.groupby(\"id\").apply(most_recent_row).droplevel(0)\n",
            ")"
         ]
      },
      {
         "cell_type": "code",
         "execution_count": 402,
         "metadata": {},
         "outputs": [],
         "source": [
            "edu_df['end_date'] = pd.to_datetime(edu_df['end_date'], format='%Y-%m-%d')\n",
            "filtered_edu_df = edu_df[(edu_df[\"end_date\"].isna()) | (edu_df[\"end_date\"].dt.date >= datetime.now().date())]"
         ]
      },
      {
         "cell_type": "code",
         "execution_count": 403,
         "metadata": {},
         "outputs": [
            {
               "data": {
                  "text/html": [
                     "<div>\n",
                     "<style scoped>\n",
                     "    .dataframe tbody tr th:only-of-type {\n",
                     "        vertical-align: middle;\n",
                     "    }\n",
                     "\n",
                     "    .dataframe tbody tr th {\n",
                     "        vertical-align: top;\n",
                     "    }\n",
                     "\n",
                     "    .dataframe thead th {\n",
                     "        text-align: right;\n",
                     "    }\n",
                     "</style>\n",
                     "<table border=\"1\" class=\"dataframe\">\n",
                     "  <thead>\n",
                     "    <tr style=\"text-align: right;\">\n",
                     "      <th></th>\n",
                     "      <th>role</th>\n",
                     "      <th>start_date</th>\n",
                     "      <th>end_date</th>\n",
                     "      <th>institution</th>\n",
                     "      <th>group</th>\n",
                     "    </tr>\n",
                     "    <tr>\n",
                     "      <th>id</th>\n",
                     "      <th></th>\n",
                     "      <th></th>\n",
                     "      <th></th>\n",
                     "      <th></th>\n",
                     "      <th></th>\n",
                     "    </tr>\n",
                     "  </thead>\n",
                     "  <tbody>\n",
                     "    <tr>\n",
                     "      <th>jing_lu</th>\n",
                     "      <td>Postdoctoral Researcher</td>\n",
                     "      <td>2023-07-10</td>\n",
                     "      <td>NaT</td>\n",
                     "      <td>Michigan State University</td>\n",
                     "      <td>kerzendorf</td>\n",
                     "    </tr>\n",
                     "    <tr>\n",
                     "      <th>benjamin_mellon</th>\n",
                     "      <td>Research Assistant</td>\n",
                     "      <td>2023-11-13</td>\n",
                     "      <td>NaT</td>\n",
                     "      <td>NaN</td>\n",
                     "      <td>kerzendorf</td>\n",
                     "    </tr>\n",
                     "    <tr>\n",
                     "      <th>alexander_grunewald</th>\n",
                     "      <td>Research Assistant</td>\n",
                     "      <td>2023-01-01</td>\n",
                     "      <td>NaT</td>\n",
                     "      <td>NaN</td>\n",
                     "      <td>kerzendorf</td>\n",
                     "    </tr>\n",
                     "    <tr>\n",
                     "      <th>bea_lu</th>\n",
                     "      <td>Professorial Assistant</td>\n",
                     "      <td>2021-09-01</td>\n",
                     "      <td>NaT</td>\n",
                     "      <td>Michigan State University</td>\n",
                     "      <td>kerzendorf</td>\n",
                     "    </tr>\n",
                     "    <tr>\n",
                     "      <th>andrew_fullard</th>\n",
                     "      <td>Research Consultant</td>\n",
                     "      <td>2022-01-01</td>\n",
                     "      <td>NaT</td>\n",
                     "      <td>Michigan State University</td>\n",
                     "      <td>ICER</td>\n",
                     "    </tr>\n",
                     "    <tr>\n",
                     "      <th>andrew_fullard</th>\n",
                     "      <td>Postdoctoral Researcher</td>\n",
                     "      <td>2020-09-01</td>\n",
                     "      <td>NaT</td>\n",
                     "      <td>Michigan State University</td>\n",
                     "      <td>NaN</td>\n",
                     "    </tr>\n",
                     "    <tr>\n",
                     "      <th>andrew_fullard</th>\n",
                     "      <td>Researcher</td>\n",
                     "      <td>2024-01-01</td>\n",
                     "      <td>NaT</td>\n",
                     "      <td>Michigan State University</td>\n",
                     "      <td>kerzendorf</td>\n",
                     "    </tr>\n",
                     "    <tr>\n",
                     "      <th>erin_visser</th>\n",
                     "      <td>Professorial Assistant</td>\n",
                     "      <td>2023-08-28</td>\n",
                     "      <td>NaT</td>\n",
                     "      <td>Michigan State University</td>\n",
                     "      <td>kerzendorf</td>\n",
                     "    </tr>\n",
                     "    <tr>\n",
                     "      <th>gracie_tvrdik</th>\n",
                     "      <td>REU student</td>\n",
                     "      <td>2024-05-20</td>\n",
                     "      <td>2024-08-30</td>\n",
                     "      <td>NaN</td>\n",
                     "      <td>kerzendorf</td>\n",
                     "    </tr>\n",
                     "    <tr>\n",
                     "      <th>cecelia_powers</th>\n",
                     "      <td>Professorial Assistant</td>\n",
                     "      <td>2023-09-01</td>\n",
                     "      <td>NaT</td>\n",
                     "      <td>Michigan State University</td>\n",
                     "      <td>kerzendorf</td>\n",
                     "    </tr>\n",
                     "    <tr>\n",
                     "      <th>atharva_arya</th>\n",
                     "      <td>Research Software Engineer</td>\n",
                     "      <td>2023-10-01</td>\n",
                     "      <td>NaT</td>\n",
                     "      <td>DeepThought Initiative</td>\n",
                     "      <td>DTI</td>\n",
                     "    </tr>\n",
                     "    <tr>\n",
                     "      <th>atharva_arya</th>\n",
                     "      <td>Sustainability Fellow</td>\n",
                     "      <td>2022-01-01</td>\n",
                     "      <td>NaT</td>\n",
                     "      <td>TARDIS</td>\n",
                     "      <td>NaN</td>\n",
                     "    </tr>\n",
                     "    <tr>\n",
                     "      <th>kiyah_young-wilson</th>\n",
                     "      <td>REU student</td>\n",
                     "      <td>2024-05-27</td>\n",
                     "      <td>2024-08-02</td>\n",
                     "      <td>NaN</td>\n",
                     "      <td>kerzendorf</td>\n",
                     "    </tr>\n",
                     "    <tr>\n",
                     "      <th>anirban_dutta</th>\n",
                     "      <td>Visiting Researcher</td>\n",
                     "      <td>2023-09-01</td>\n",
                     "      <td>NaT</td>\n",
                     "      <td>Michigan State University</td>\n",
                     "      <td>NaN</td>\n",
                     "    </tr>\n",
                     "    <tr>\n",
                     "      <th>anirban_dutta</th>\n",
                     "      <td>Postdoctoral Researcher</td>\n",
                     "      <td>2024-03-01</td>\n",
                     "      <td>NaT</td>\n",
                     "      <td>Michigan State University</td>\n",
                     "      <td>kerzendorf</td>\n",
                     "    </tr>\n",
                     "    <tr>\n",
                     "      <th>jaladh_singhal</th>\n",
                     "      <td>Visualization Consultant</td>\n",
                     "      <td>2019-01-01</td>\n",
                     "      <td>NaT</td>\n",
                     "      <td>NaN</td>\n",
                     "      <td>TARDIS</td>\n",
                     "    </tr>\n",
                     "    <tr>\n",
                     "      <th>abhinav_ohri</th>\n",
                     "      <td>Rere Engineer</td>\n",
                     "      <td>2023-11-13</td>\n",
                     "      <td>NaT</td>\n",
                     "      <td>Deepitiative</td>\n",
                     "      <td>DTI</td>\n",
                     "    </tr>\n",
                     "    <tr>\n",
                     "      <th>wolfgang_kerzendorf</th>\n",
                     "      <td>Principal Investigator</td>\n",
                     "      <td>2013-01-01</td>\n",
                     "      <td>NaT</td>\n",
                     "      <td>TARDIS</td>\n",
                     "      <td>NaN</td>\n",
                     "    </tr>\n",
                     "    <tr>\n",
                     "      <th>wolfgang_kerzendorf</th>\n",
                     "      <td>Assistant Professor</td>\n",
                     "      <td>2019-08-15</td>\n",
                     "      <td>NaT</td>\n",
                     "      <td>Michigan State University</td>\n",
                     "      <td>NaN</td>\n",
                     "    </tr>\n",
                     "  </tbody>\n",
                     "</table>\n",
                     "</div>"
                  ],
                  "text/plain": [
                     "                                           role  start_date   end_date  \\\n",
                     "id                                                                       \n",
                     "jing_lu                 Postdoctoral Researcher  2023-07-10        NaT   \n",
                     "benjamin_mellon              Research Assistant  2023-11-13        NaT   \n",
                     "alexander_grunewald          Research Assistant  2023-01-01        NaT   \n",
                     "bea_lu                   Professorial Assistant  2021-09-01        NaT   \n",
                     "andrew_fullard              Research Consultant  2022-01-01        NaT   \n",
                     "andrew_fullard          Postdoctoral Researcher  2020-09-01        NaT   \n",
                     "andrew_fullard                       Researcher  2024-01-01        NaT   \n",
                     "erin_visser              Professorial Assistant  2023-08-28        NaT   \n",
                     "gracie_tvrdik                       REU student  2024-05-20 2024-08-30   \n",
                     "cecelia_powers           Professorial Assistant  2023-09-01        NaT   \n",
                     "atharva_arya         Research Software Engineer  2023-10-01        NaT   \n",
                     "atharva_arya              Sustainability Fellow  2022-01-01        NaT   \n",
                     "kiyah_young-wilson                  REU student  2024-05-27 2024-08-02   \n",
                     "anirban_dutta               Visiting Researcher  2023-09-01        NaT   \n",
                     "anirban_dutta           Postdoctoral Researcher  2024-03-01        NaT   \n",
                     "jaladh_singhal         Visualization Consultant  2019-01-01        NaT   \n",
                     "abhinav_ohri                      Rere Engineer  2023-11-13        NaT   \n",
                     "wolfgang_kerzendorf      Principal Investigator  2013-01-01        NaT   \n",
                     "wolfgang_kerzendorf         Assistant Professor  2019-08-15        NaT   \n",
                     "\n",
                     "                                   institution       group  \n",
                     "id                                                          \n",
                     "jing_lu              Michigan State University  kerzendorf  \n",
                     "benjamin_mellon                            NaN  kerzendorf  \n",
                     "alexander_grunewald                        NaN  kerzendorf  \n",
                     "bea_lu               Michigan State University  kerzendorf  \n",
                     "andrew_fullard       Michigan State University        ICER  \n",
                     "andrew_fullard       Michigan State University         NaN  \n",
                     "andrew_fullard       Michigan State University  kerzendorf  \n",
                     "erin_visser          Michigan State University  kerzendorf  \n",
                     "gracie_tvrdik                              NaN  kerzendorf  \n",
                     "cecelia_powers       Michigan State University  kerzendorf  \n",
                     "atharva_arya            DeepThought Initiative         DTI  \n",
                     "atharva_arya                            TARDIS         NaN  \n",
                     "kiyah_young-wilson                         NaN  kerzendorf  \n",
                     "anirban_dutta        Michigan State University         NaN  \n",
                     "anirban_dutta        Michigan State University  kerzendorf  \n",
                     "jaladh_singhal                             NaN      TARDIS  \n",
                     "abhinav_ohri                      Deepitiative         DTI  \n",
                     "wolfgang_kerzendorf                     TARDIS         NaN  \n",
                     "wolfgang_kerzendorf  Michigan State University         NaN  "
                  ]
               },
               "execution_count": 403,
               "metadata": {},
               "output_type": "execute_result"
            }
         ],
         "source": [
            "exp_ids = filtered_exp_df_most_recent.index.unique()\n",
            "edu_ids = filtered_edu_df.index.unique()\n",
            "common_ids = list(set(exp_ids).union(edu_ids))\n",
            "current_member_df = info_json_df.loc[common_ids]\n",
            "filtered_exp_df"
         ]
      },
      {
         "cell_type": "code",
         "execution_count": 404,
         "metadata": {},
         "outputs": [
            {
               "data": {
                  "text/plain": [
                     "id\n",
                     "jing_lu                   Postdoctoral Researcher\n",
                     "josh_shields                     Graduate Student\n",
                     "benjamin_mellon                Research Assistant\n",
                     "alexander_grunewald         Undergraduate Student\n",
                     "hayden_monk                 Undergraduate Student\n",
                     "vicente_amado                    Graduate Student\n",
                     "bea_lu                      Undergraduate Student\n",
                     "andrew_fullard                         Researcher\n",
                     "erin_visser                 Undergraduate Student\n",
                     "richard_dow                                      \n",
                     "gracie_tvrdik                         REU student\n",
                     "kevin_cawley                Undergraduate Student\n",
                     "sofia_biriouk               Undergraduate Student\n",
                     "cecelia_powers              Undergraduate Student\n",
                     "atharva_arya           Research Software Engineer\n",
                     "kiyah_young-wilson                    REU student\n",
                     "jack_o_brien                     Graduate Student\n",
                     "isaac_smith                 Undergraduate Student\n",
                     "deeksha_mohanty                  Graduate Student\n",
                     "anirban_dutta                    Graduate Student\n",
                     "jaladh_singhal           Visualization Consultant\n",
                     "abhinav_ohri                        Rere Engineer\n",
                     "wolfgang_kerzendorf           Assistant Professor\n",
                     "Name: academic_role, dtype: object"
                  ]
               },
               "execution_count": 404,
               "metadata": {},
               "output_type": "execute_result"
            }
         ],
         "source": [
            "\n",
            "exp_df['end_date'] = pd.to_datetime(exp_df['end_date'], format='%Y-%m-%d')\n",
            "filtered_exp_df = exp_df[\n",
            "    (exp_df[\"end_date\"].isna()) | (exp_df[\"end_date\"].dt.date >= datetime.now().date())\n",
            "]\n",
            "\n",
            "filtered_exp_df_most_recent = filtered_exp_df.sort_values(['id', 'start_date'], ascending=[True, False]).groupby('id').first()\n",
            "edu_df['end_date'] = pd.to_datetime(edu_df['end_date'], format='%Y-%m-%d', errors='coerce')\n",
            "filtered_edu_df = edu_df[\n",
            "    (edu_df[\"end_date\"].isna()) | (edu_df[\"end_date\"].dt.date >= datetime.now().date())\n",
            "]\n",
            "common_ids = filtered_exp_df_most_recent.index.union(filtered_edu_df.index)\n",
            "\n",
            "current_member_df = info_json_df.loc[info_json_df.index.isin(common_ids)].copy()\n",
            "current_member_df['academic_role'] = \"\"\n",
            "\n",
            "\n",
            "current_member_df.loc[current_member_df.index.isin(filtered_exp_df_most_recent.index), 'academic_role'] = (\n",
            "    filtered_exp_df_most_recent.loc[current_member_df.index.intersection(filtered_exp_df_most_recent.index), 'role']\n",
            ")\n",
            "\n",
            "\n",
            "for idx in filtered_edu_df.index:\n",
            "    degree = filtered_edu_df.loc[idx, 'degree']\n",
            "    institution = filtered_edu_df.loc[idx, 'institution']\n",
            "\n",
            "    if degree == \"Bachelors\":\n",
            "        if institution == INSTITUTION_FILTER:\n",
            "            current_member_df.at[idx, 'academic_role'] = \"Undergraduate Student\"\n",
            "        else:\n",
            "            if idx in filtered_exp_df_most_recent.index:\n",
            "                current_member_df.at[idx, 'academic_role'] = filtered_exp_df_most_recent.at[idx, 'role']\n",
            "    elif degree in [\"PhD\", \"Masters\"]:\n",
            "        current_member_df.at[idx, 'academic_role'] = \"Graduate Student\"\n",
            "\n",
            "current_member_df[\"academic_role\"]\n"
         ]
      },
      {
         "cell_type": "code",
         "execution_count": 405,
         "metadata": {},
         "outputs": [],
         "source": [
            "projects_df = read_member_data_jsons(\"projects.json\").sort_values(\n",
            "    by=[\"end_date\"], ascending=False\n",
            ")"
         ]
      },
      {
         "cell_type": "code",
         "execution_count": 406,
         "metadata": {},
         "outputs": [],
         "source": [
            "for mem_key, mem_value in current_member_df.iterrows():\n",
            "    if mem_key in projects_df.index:\n",
            "        mem_projects = projects_df.loc[mem_key]\n",
            "        if not mem_projects.empty:\n",
            "            if isinstance(mem_projects, pd.Series):\n",
            "                current_project_title = mem_projects[\"project_title\"]\n",
            "            else:\n",
            "                current_project_title = mem_projects.iloc[0][\"project_title\"]\n",
            "    else:\n",
            "        current_project_title = \"\"\n",
            "    current_member_df.loc[mem_key, \"current_project_title\"] = current_project_title"
         ]
      },
      {
         "cell_type": "markdown",
         "metadata": {},
         "source": [
            "Function to extract academic roles from education and experience data"
         ]
      },
      {
         "cell_type": "code",
         "execution_count": 407,
         "metadata": {
            "ExecuteTime": {
               "end_time": "2023-11-21T07:07:36.460921063Z",
               "start_time": "2023-11-21T07:07:36.209452896Z"
            }
         },
         "outputs": [],
         "source": [
            "def extract_member_academic_role(education_experience_df):\n",
            "    \"\"\"\n",
            "    Extract the current academic role of a member based on education and experience data.\n",
            "\n",
            "    Parameters\n",
            "    ----------\n",
            "    education_experience_df : pandas.DataFrame\n",
            "        DataFrame containing education and experience data.\n",
            "\n",
            "    Returns\n",
            "    -------\n",
            "    Tuple[str, bool]\n",
            "        A tuple containing:\n",
            "        - str: The current academic role of the member.\n",
            "        - bool: True if the member is currently active, False otherwise.\n",
            "    \"\"\"\n",
            "\n",
            "    # Check if these columns exist in dataframe\n",
            "    for column in [\"end_date\", \"group\", \"institution\"]:\n",
            "        if column not in education_experience_df.columns:\n",
            "            education_experience_df[column] = None\n",
            "\n",
            "    current_academic_role = None\n",
            "\n",
            "    for _, row in education_experience_df.iterrows():\n",
            "        role = row.get(\"role\", None)\n",
            "        degree = row.get(\"degree\", None)\n",
            "        member_institution = row.get('institution', None)\n",
            "        member_group = row.get('group', None)\n",
            "        end_date = row.get(\"end_date\", None)\n",
            "\n",
            "        if not current_academic_role:\n",
            "            current_academic_role = ROLE_MAP.get(role, \"\")\n",
            "            if degree == \"PhD\" or degree == \"Masters\":\n",
            "                if pd.isna(end_date) or (end_date and pd.to_datetime(end_date).date() >= datetime.now().date()):\n",
            "                    current_academic_role = \"Graduate Student\"\n",
            "            elif degree == \"Bachelors\":\n",
            "                if pd.isna(end_date) or (end_date and pd.to_datetime(end_date).date() >= datetime.now().date()):\n",
            "                    if member_institution == INSTITUTION_FILTER:\n",
            "                        if member_group in GROUP_FILTER:\n",
            "                            current_academic_role = \"Undergraduate Student\"\n",
            "                        else:\n",
            "                            current_academic_role = DEGREE_MAP[degree]\n",
            "                    else:\n",
            "                        current_academic_role = DEGREE_MAP[degree]\n",
            "            elif not current_academic_role and degree in DEGREE_MAP:\n",
            "                current_academic_role = DEGREE_MAP[degree]\n",
            "\n",
            "    # Check for end dates outside the loop\n",
            "    has_end_date = all(\n",
            "        not pd.isna(date) and (pd.to_datetime(date).date() < datetime.now().date())\n",
            "        for date in education_experience_df[\"end_date\"]\n",
            "    )\n",
            "    is_current_member = not has_end_date\n",
            "\n",
            "    return current_academic_role, is_current_member"
         ]
      },
      {
         "cell_type": "markdown",
         "metadata": {},
         "source": [
            "Function to sort the members on basis of their roles"
         ]
      },
      {
         "cell_type": "code",
         "execution_count": 408,
         "metadata": {
            "jupyter": {
               "source_hidden": true
            }
         },
         "outputs": [],
         "source": [
            "def custom_role_sort(roles):\n",
            "    \"\"\"\n",
            "    Sorts a list of roles based on academic role hierarchy and then by name.\n",
            "\n",
            "    Parameters\n",
            "    ----------\n",
            "    roles : list[dict]\n",
            "        List of dictionaries representing roles. Each dictionary should contain at least the keys 'academic_role' and 'name'.\n",
            "\n",
            "    Returns\n",
            "    -------\n",
            "    list[dict]\n",
            "        A sorted list of roles based on the academic role hierarchy and, in case of ties, sorted by name in ascending order.\n",
            "    \"\"\"\n",
            "    with open(ROLE_HIERARCHY_PATH, \"r\") as file_name:  \n",
            "        role_hierarchy = json.load(file_name)\n",
            "    sorted_roles = sorted(roles, key=lambda x: (role_hierarchy.get(x['academic_role'], float('inf')), x['name']))\n",
            "    return sorted_roles"
         ]
      },
      {
         "cell_type": "markdown",
         "metadata": {},
         "source": [
            "Function to store data for current and alumni members"
         ]
      },
      {
         "cell_type": "markdown",
         "metadata": {},
         "source": [
            "Current Members Page"
         ]
      },
      {
         "cell_type": "code",
         "execution_count": 410,
         "metadata": {},
         "outputs": [],
         "source": [
            "create_page(\n",
            "    \"current_members.html.j2\",\n",
            "    \"current_members.html\",\n",
            "    general=general,\n",
            "    current_members=current_member_df,\n",
            "    socials=social_links_df.to_dict(\"index\"),\n",
            ")"
         ]
      },
      {
         "cell_type": "markdown",
         "metadata": {},
         "source": [
            "Alumni Members Page"
         ]
      },
      {
         "cell_type": "code",
         "execution_count": null,
         "metadata": {},
         "outputs": [],
         "source": [
            "def most_recent_row_end_date(group):\n",
            "    return group[group[\"end_date\"] == group[\"end_date\"].max()]"
         ]
      },
      {
         "cell_type": "code",
         "execution_count": null,
         "metadata": {},
         "outputs": [],
         "source": [
            "alumni_filtered_edu_df = edu_df[edu_df[\"end_date\"].notna()]\n",
            "req_edu_df = alumni_filtered_edu_df.loc[\n",
            "    alumni_filtered_edu_df[\"institution\"] == INSTITUTION_FILTER\n",
            "]\n",
            "req_edu_df_most_recent = req_edu_df.groupby(\"id\").apply(most_recent_row_end_date).droplevel(0)\n",
            "\n",
            "\n",
            "alumni_filtered_exp_df = exp_df[exp_df[\"end_date\"].notna()]\n",
            "req_exp_df = alumni_filtered_exp_df.loc[\n",
            "    (alumni_filtered_exp_df[\"institution\"] == INSTITUTION_FILTER)\n",
            "    | (alumni_filtered_exp_df[\"group\"].isin(GROUP_FILTER))\n",
            "]\n",
            "req_exp_df_most_recent = (\n",
            "    req_exp_df.groupby(\"id\").apply(most_recent_row_end_date).droplevel(0)\n",
            ")"
         ]
      },
      {
         "cell_type": "code",
         "execution_count": null,
         "metadata": {},
         "outputs": [],
         "source": [
            "alumni_exp_ids = req_exp_df_most_recent.index.unique()\n",
            "alumni_edu_ids = req_edu_df_most_recent.index.unique()\n",
            "alumni_common_ids = list(set(alumni_exp_ids).union(alumni_edu_ids))\n",
            "alumni_member_df = info_json_df.loc[alumni_common_ids]"
         ]
      },
      {
         "cell_type": "code",
         "execution_count": null,
         "metadata": {},
         "outputs": [],
         "source": [
            "# Get the indices of duplicates using set intersection\n",
            "duplicate_indices = set(current_member_df.index) & set(alumni_member_df.index)\n",
            "\n",
            "# Drop duplicates from alumni_members_df based on the indices\n",
            "alumni_member_df.drop(duplicate_indices, inplace=True)"
         ]
      },
      {
         "cell_type": "code",
         "execution_count": null,
         "metadata": {},
         "outputs": [],
         "source": [
            "for m_key, m_value in alumni_member_df.iterrows():\n",
            "    if m_key in req_edu_df_most_recent.index:\n",
            "        if (\n",
            "            req_edu_df_most_recent.loc[m_key, \"degree\"] == \"Bachelors\"\n",
            "            and req_edu_df_most_recent.loc[m_key, \"institution\"] == INSTITUTION_FILTER\n",
            "        ):\n",
            "            current_academic_role = \"Undergraduate Student\"\n",
            "        if req_edu_df_most_recent.loc[m_key, \"degree\"] in [\"PhD\", \"Masters\"]:\n",
            "            current_academic_role = \"Graduate Student\"\n",
            "    elif m_key in req_exp_df_most_recent.index:\n",
            "        current_academic_role = req_exp_df_most_recent.loc[m_key, \"role\"]\n",
            "    else:\n",
            "        current_academic_role = \" \"\n",
            "    alumni_member_df.loc[m_key, \"academic_role\"] = str(current_academic_role)\n",
            "alumni_member_df['academic_role'] = alumni_member_df['academic_role'].fillna(\"\")"
         ]
      },
      {
         "cell_type": "code",
         "execution_count": null,
         "metadata": {},
         "outputs": [],
         "source": [
            "create_page(\n",
            "    \"alumni_members.html.j2\",\n",
            "    \"alumni_members.html\",\n",
            "    general=general,\n",
            "    alumni_members=alumni_member_df,\n",
            ")"
         ]
      },
      {
         "cell_type": "markdown",
         "metadata": {},
         "source": [
            "## Individual People Page"
         ]
      },
      {
         "cell_type": "code",
         "execution_count": null,
         "metadata": {},
         "outputs": [],
         "source": [
            "def group_df(df):\n",
            "    new_df = (df.groupby(\"id\")\n",
            "    .apply(lambda x: x.to_dict(orient=\"records\"))\n",
            "    .reset_index(name=\"info\")\n",
            "    .set_index(\"id\")\n",
            "    .to_dict(orient=\"index\"))\n",
            "    return new_df"
         ]
      },
      {
         "cell_type": "code",
         "execution_count": null,
         "metadata": {},
         "outputs": [],
         "source": [
            "document_df = read_member_data_jsons(\"documents.json\")"
         ]
      },
      {
         "cell_type": "code",
         "execution_count": null,
         "metadata": {},
         "outputs": [],
         "source": [
            "outreach_df = read_member_data_jsons(\"outreach.json\")\n",
            "if not outreach_df.empty:\n",
            "    outreach_grouped = group_df(outreach_df)"
         ]
      },
      {
         "cell_type": "code",
         "execution_count": null,
         "metadata": {},
         "outputs": [],
         "source": [
            "awards_df = read_member_data_jsons(\"awards.json\")\n",
            "awards_grouped = group_df(awards_df)\n",
            "\n",
            "exp_grouped = group_df(exp_df)\n",
            "edu_grouped = group_df(edu_df)\n",
            "projects_grouped = group_df(projects_df)"
         ]
      },
      {
         "cell_type": "code",
         "execution_count": null,
         "metadata": {},
         "outputs": [],
         "source": [
            "for member_id, member_data in info_json_df.iterrows():\n",
            "    if member_id in current_member_df.index:\n",
            "        info_json_df.at[member_id, \"academic_role\"] = current_member_df.loc[\n",
            "            member_id, \"academic_role\"\n",
            "        ]\n",
            "        info_json_df.at[member_id, \"current_project_title\"] = current_member_df.loc[\n",
            "            member_id, \"current_project_title\"\n",
            "        ]\n",
            "    elif member_id in alumni_member_df.index:\n",
            "        info_json_df.at[member_id, \"academic_role\"] = alumni_member_df.loc[\n",
            "            member_id, \"academic_role\"\n",
            "        ]\n",
            "alumni_member_df.replace(\"nan\", np.nan, inplace=True)\n",
            "alumni_member_df.fillna(\"\", inplace=True)\n",
            "current_member_df.fillna(\"\", inplace=True)"
         ]
      },
      {
         "cell_type": "code",
         "execution_count": null,
         "metadata": {},
         "outputs": [],
         "source": [
            "for person_id, person_data in info_json_df.iterrows():\n",
            "    create_page(\n",
            "        \"individual_person.html.j2\",\n",
            "        f\"members/{person_id}/{person_id}.html\",\n",
            "        general=general,\n",
            "        member_id=person_id,\n",
            "        member_data=person_data,\n",
            "        socials=social_links_df.to_dict(\"index\"),\n",
            "        documents=document_df.to_dict(\"index\"),\n",
            "        education=edu_grouped,\n",
            "        experience=exp_grouped,\n",
            "        projects=projects_grouped,\n",
            "        awards=awards_grouped,\n",
            "        outreach=outreach_df,\n",
            "        section_headings=INDIVIDUAL_MEMBER_SECTION_MAP,\n",
            "        content=article_content_df.to_dict(\"index\"),\n",
            "    )"
         ]
      },
      {
         "cell_type": "markdown",
         "metadata": {
            "jp-MarkdownHeadingCollapsed": true
         },
         "source": [
            "# Contact Page"
         ]
      },
      {
         "cell_type": "code",
         "execution_count": null,
         "metadata": {
            "ExecuteTime": {
               "end_time": "2023-11-21T07:07:36.569018310Z",
               "start_time": "2023-11-21T07:07:36.457030906Z"
            }
         },
         "outputs": [],
         "source": [
            "create_page(\n",
            "    \"contact.html.j2\",\n",
            "    \"Contact.html\",\n",
            "    general=general,\n",
            "    contact=contact\n",
            ")"
         ]
      },
      {
         "cell_type": "markdown",
         "metadata": {
            "jp-MarkdownHeadingCollapsed": true
         },
         "source": [
            "# Support Page"
         ]
      },
      {
         "cell_type": "code",
         "execution_count": null,
         "metadata": {
            "ExecuteTime": {
               "end_time": "2023-11-21T07:07:36.588932886Z",
               "start_time": "2023-11-21T07:07:36.457249500Z"
            }
         },
         "outputs": [],
         "source": [
            "create_page(\n",
            "    \"support.html.j2\",\n",
            "    \"Support.html\",\n",
            "    general=general,\n",
            "    support=support\n",
            ")"
         ]
      },
      {
         "cell_type": "markdown",
         "metadata": {
            "jp-MarkdownHeadingCollapsed": true
         },
         "source": [
            "# Research Front Page"
         ]
      },
      {
         "cell_type": "markdown",
         "metadata": {},
         "source": [
            "For adding more columns in dataframe to render front pages and individual article pages"
         ]
      },
      {
         "cell_type": "code",
         "execution_count": null,
         "metadata": {
            "ExecuteTime": {
               "end_time": "2023-11-21T07:07:36.589247191Z",
               "start_time": "2023-11-21T07:07:36.501093779Z"
            }
         },
         "outputs": [],
         "source": [
            "create_page(\n",
            "    \"research.html.j2\",\n",
            "    \"Research.html\",\n",
            "    general=general,\n",
            "    content=research_content_df,\n",
            "    research=research,\n",
            "    current_members=info_json_dict,\n",
            ")"
         ]
      },
      {
         "cell_type": "code",
         "execution_count": null,
         "metadata": {
            "ExecuteTime": {
               "end_time": "2023-11-21T07:07:36.589414282Z",
               "start_time": "2023-11-21T07:07:36.544920583Z"
            }
         },
         "outputs": [],
         "source": [
            "SUB_RESEARCH_PATH.mkdir(parents=True, exist_ok=True)\n",
            "\n",
            "for category in article_content_df.loc[\n",
            "    article_content_df.category != \"News\", \"category\"\n",
            "].unique():\n",
            "    create_page(\n",
            "        \"sub_research_frontpage.html.j2\",\n",
            "        f\"sub_research/{page_link(category.lower())}.html\",\n",
            "        general=general,\n",
            "        research=research,\n",
            "        content=research_content_df,\n",
            "        category=category,\n",
            "        current_members=info_json_dict,\n",
            "    )"
         ]
      },
      {
         "cell_type": "markdown",
         "metadata": {
            "ExecuteTime": {
               "end_time": "2023-11-21T07:07:36.589414282Z",
               "start_time": "2023-11-21T07:07:36.544920583Z"
            }
         },
         "source": [
            "Individual Research Page\n"
         ]
      },
      {
         "cell_type": "code",
         "execution_count": null,
         "metadata": {
            "ExecuteTime": {
               "end_time": "2023-11-21T07:07:36.589414282Z",
               "start_time": "2023-11-21T07:07:36.544920583Z"
            }
         },
         "outputs": [],
         "source": [
            "for ind_research_keys, ind_research_values in research_content_df.iterrows():\n",
            "    destination_research_path = f\"sub_research/{page_link(ind_research_values.category.lower())}/{page_link(ind_research_values.article_id.lower())}.html\"\n",
            "    if ind_research_values['category'] == \"Software\":\n",
            "        destination_research_path = f\"sub_research/{page_link(ind_research_values.article_id.lower())}.html\"\n",
            "\n",
            "    folder_path = SUB_RESEARCH_PATH / page_link(ind_research_values.category.lower())\n",
            "    folder_path.mkdir(parents=True, exist_ok=True)\n",
            "    create_page(\n",
            "        \"research_page_no_twitter.html.j2\",\n",
            "        destination_research_path,\n",
            "        general=general,\n",
            "        content=ind_research_values,\n",
            "        member_data=info_json_dict,\n",
            "        article_id=ind_research_values[\"article_id\"],\n",
            "    )"
         ]
      },
      {
         "cell_type": "markdown",
         "metadata": {},
         "source": [
            "# News Page"
         ]
      },
      {
         "cell_type": "code",
         "execution_count": null,
         "metadata": {
            "ExecuteTime": {
               "end_time": "2023-11-21T07:10:29.508008736Z",
               "start_time": "2023-11-21T07:10:29.418263240Z"
            }
         },
         "outputs": [],
         "source": [
            "create_page(\n",
            "    \"news.html.j2\",\n",
            "    \"News.html\",\n",
            "    general=general,\n",
            "    content=news_content_df,\n",
            "    category=\"News\",\n",
            "    member_data=info_json_dict,\n",
            ")"
         ]
      },
      {
         "cell_type": "markdown",
         "metadata": {},
         "source": [
            "Individual News Page"
         ]
      },
      {
         "cell_type": "code",
         "execution_count": null,
         "metadata": {},
         "outputs": [],
         "source": [
            "for ind_news_keys, ind_news_values in news_content_df.iterrows():\n",
            "    folder_path = HOSTING_PATH / \"news\" / page_link(ind_news_values.article_id.lower())\n",
            "    create_page(\n",
            "        \"news_page_no_twitter.html.j2\",\n",
            "        f\"news/{page_link(ind_news_values.article_id.lower())}.html\",\n",
            "        general=general,\n",
            "        content=ind_news_values,\n",
            "        member_data=info_json_dict,\n",
            "        category=\"News\"\n",
            "    )"
         ]
      }
   ],
   "metadata": {
      "kernelspec": {
         "display_name": "Python 3 (ipykernel)",
         "language": "python",
         "name": "python3"
      },
      "language_info": {
         "codemirror_mode": {
            "name": "ipython",
            "version": 3
         },
         "file_extension": ".py",
         "mimetype": "text/x-python",
         "name": "python",
         "nbconvert_exporter": "python",
         "pygments_lexer": "ipython3",
         "version": "3.10.14"
      }
   },
   "nbformat": 4,
   "nbformat_minor": 4
}
