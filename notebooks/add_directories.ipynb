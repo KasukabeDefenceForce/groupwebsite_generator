{
 "cells": [
  {
   "cell_type": "code",
   "execution_count": 22,
   "metadata": {},
   "outputs": [],
   "source": [
    "# change the working directory to the desired location\n",
    "#import os\n",
    "#os.chdir(\"/Users/harshul/website clone/groupwebsite_generator\")"
   ]
  },
  {
   "cell_type": "code",
   "execution_count": 27,
   "metadata": {},
   "outputs": [],
   "source": [
    "import shutil\n",
    "import os\n",
    "os.mkdir('kerzendorf-group.github.io/sub_research')\n",
    "os.mkdir('kerzendorf-group.github.io/people')\n",
    "\n",
    "source_dirs = ['assets', 'group-data/images']\n",
    "target_dir = 'kerzendorf-group.github.io'\n",
    "\n",
    "for source_dir in source_dirs:\n",
    "    target_subdir = os.path.join(target_dir, os.path.basename(source_dir))\n",
    "    shutil.copytree(source_dir, target_subdir)\n"
   ]
  }
 ],
 "metadata": {
  "kernelspec": {
   "display_name": "Python 3",
   "language": "python",
   "name": "python3"
  },
  "language_info": {
   "codemirror_mode": {
    "name": "ipython",
    "version": 3
   },
   "file_extension": ".py",
   "mimetype": "text/x-python",
   "name": "python",
   "nbconvert_exporter": "python",
   "pygments_lexer": "ipython3",
   "version": "3.8.2"
  },
  "orig_nbformat": 4,
  "vscode": {
   "interpreter": {
    "hash": "31f2aee4e71d21fbe5cf8b01ff0e069b9275f58929596ceb00d14d90e3e16cd6"
   }
  }
 },
 "nbformat": 4,
 "nbformat_minor": 2
}
