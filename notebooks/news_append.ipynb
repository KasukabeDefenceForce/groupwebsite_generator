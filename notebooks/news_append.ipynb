{
 "cells": [
  {
   "cell_type": "code",
   "execution_count": null,
   "metadata": {},
   "outputs": [],
   "source": [
    "# change the working directory to the desired location\n",
    "#import os\n",
    "#os.chdir(\"/Users/harshul/website clone/harshul/test/groupwebsite_generator\")\n",
    "#os.getcwd()"
   ]
  },
  {
   "cell_type": "code",
   "execution_count": null,
   "metadata": {},
   "outputs": [],
   "source": [
    "import os\n",
    "import json\n",
    "\n",
    "# Specify the directory path where the JSON files are located\n",
    "directory_path = \"../group-data/groupwebsite_data/news\"\n",
    "\n",
    "# Initialize an empty list to hold the data from each JSON file\n",
    "combined_data = []\n",
    "\n",
    "# Loop through each file in the directory\n",
    "for filename in os.listdir(directory_path):\n",
    "    # Check if the file is a JSON file\n",
    "    if filename.endswith(\".json\"):\n",
    "        # Open the file and load its contents as JSON\n",
    "        with open(os.path.join(directory_path, filename)) as f:\n",
    "            json_data = json.load(f)\n",
    "        # Append the JSON data to the combined list\n",
    "        combined_data.append(json_data)\n",
    "\n",
    "# Write the combined data to a new JSON file in the same directory\n",
    "combined_file_path = os.path.join(directory_path, \"combined_news.json\")\n",
    "with open(combined_file_path, \"w\") as f:\n",
    "    json.dump(combined_data, f, indent=4)\n",
    "\n",
    "print(\"Combined News JSON file has been created:\", combined_file_path)\n"
   ]
  }
 ],
 "metadata": {
  "kernelspec": {
   "display_name": "Python 3",
   "language": "python",
   "name": "python3"
  },
  "language_info": {
   "codemirror_mode": {
    "name": "ipython",
    "version": 3
   },
   "file_extension": ".py",
   "mimetype": "text/x-python",
   "name": "python",
   "nbconvert_exporter": "python",
   "pygments_lexer": "ipython3",
   "version": "3.8.2"
  },
  "vscode": {
   "interpreter": {
    "hash": "31f2aee4e71d21fbe5cf8b01ff0e069b9275f58929596ceb00d14d90e3e16cd6"
   }
  }
 },
 "nbformat": 4,
 "nbformat_minor": 2
}
