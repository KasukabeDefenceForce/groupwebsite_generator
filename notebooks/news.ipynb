{
 "cells": [
  {
   "cell_type": "code",
   "execution_count": null,
   "metadata": {},
   "outputs": [],
   "source": [
    "# change the working directory to the desired location\n",
    "#import os\n",
    "#os.chdir(\"/Users/harshul/website clone/harshul/test/groupwebsite_generator\")\n",
    "#os.getcwd()"
   ]
  },
  {
   "cell_type": "code",
   "execution_count": null,
   "metadata": {},
   "outputs": [],
   "source": [
    "from jinja2 import Environment, FileSystemLoader\n",
    "import json"
   ]
  },
  {
   "cell_type": "code",
   "execution_count": null,
   "metadata": {},
   "outputs": [],
   "source": [
    "def page_link(a):\n",
    "    if ' ' in a:\n",
    "        return a.replace(\" \", \"_\")\n",
    "    else: \n",
    "        return a"
   ]
  },
  {
   "cell_type": "code",
   "execution_count": null,
   "metadata": {},
   "outputs": [],
   "source": [
    "environment = Environment(loader=FileSystemLoader(\"templates/\"))\n",
    "environment.globals['page_link'] = page_link"
   ]
  },
  {
   "cell_type": "code",
   "execution_count": null,
   "metadata": {},
   "outputs": [],
   "source": [
    "template = environment.get_template(\"research.html.j2\")\n"
   ]
  },
  {
   "cell_type": "code",
   "execution_count": null,
   "metadata": {},
   "outputs": [],
   "source": [
    "json_files = [\"general\", \"news\"]\n",
    "data = {}\n",
    "for json_file in json_files:\n",
    "    if json_file == \"general\":\n",
    "        with open(\"../group-data/groupwebsite_data/general.json\") as json_var:\n",
    "            data[json_file] = json.load(json_var)\n",
    "    else:\n",
    "        with open(f\"../group-data/groupwebsite_data/news/combined_news.json\") as json_var:\n",
    "            data[json_file] = json.load(json_var)"
   ]
  },
  {
   "cell_type": "code",
   "execution_count": null,
   "metadata": {},
   "outputs": [],
   "source": [
    "from jinja2.exceptions import UndefinedError\n",
    "\n",
    "required_keys = [\"news\"]\n",
    "if all(key in data for key in required_keys):\n",
    "    try:\n",
    "        content = template.render(general=data[\"general\"],news=data[\"news\"])\n",
    "    except UndefinedError as e:\n",
    "        print(f\"Error: {e.message}\")\n",
    "        # handle the error here\n",
    "else:\n",
    "    missing_key = next(key for key in required_keys if key not in data)\n",
    "    print(f\"Error: {missing_key} not found in data dictionary.\")\n",
    "\n",
    "\n"
   ]
  },
  {
   "cell_type": "code",
   "execution_count": null,
   "metadata": {},
   "outputs": [],
   "source": [
    "with open(\"../kerzendorf-group.github.io/News.html\", mode=\"w\", encoding=\"utf-8\") as research:\n",
    "        research.write(content)"
   ]
  },
  {
   "cell_type": "code",
   "execution_count": null,
   "metadata": {},
   "outputs": [],
   "source": [
    "import os\n",
    "from jinja2.exceptions import UndefinedError\n",
    "\n",
    "required_keys = [\"astrophysical_transients\", \"computational_metascience\"]\n",
    "for key in required_keys:\n",
    "    if key in data:\n",
    "       \n",
    "\n",
    "        with open(f\"../kerzendorf-group.github.io/News.html\", mode=\"w\", encoding=\"utf-8\") as research:\n",
    "            research.write(content)\n",
    "    else:\n",
    "        print(f\"Error: {key} not found in data dictionary.\")\n"
   ]
  }
 ],
 "metadata": {
  "kernelspec": {
   "display_name": "Python 3",
   "language": "python",
   "name": "python3"
  },
  "language_info": {
   "codemirror_mode": {
    "name": "ipython",
    "version": 3
   },
   "file_extension": ".py",
   "mimetype": "text/x-python",
   "name": "python",
   "nbconvert_exporter": "python",
   "pygments_lexer": "ipython3",
   "version": "3.8.2"
  },
  "vscode": {
   "interpreter": {
    "hash": "31f2aee4e71d21fbe5cf8b01ff0e069b9275f58929596ceb00d14d90e3e16cd6"
   }
  }
 },
 "nbformat": 4,
 "nbformat_minor": 2
}
